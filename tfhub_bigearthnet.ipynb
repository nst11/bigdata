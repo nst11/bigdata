{
  "nbformat": 4,
  "nbformat_minor": 0,
  "metadata": {
    "colab": {
      "name": "tfhub_bigearthnet.ipynb",
      "provenance": [],
      "collapsed_sections": [],
      "include_colab_link": true
    },
    "kernelspec": {
      "name": "python3",
      "display_name": "Python 3"
    }
  },
  "cells": [
    {
      "cell_type": "markdown",
      "metadata": {
        "id": "view-in-github",
        "colab_type": "text"
      },
      "source": [
        "<a href=\"https://colab.research.google.com/github/nyeinnst/bigdata/blob/master/tfhub_bigearthnet.ipynb\" target=\"_parent\"><img src=\"https://colab.research.google.com/assets/colab-badge.svg\" alt=\"Open In Colab\"/></a>"
      ]
    },
    {
      "cell_type": "markdown",
      "metadata": {
        "id": "N8PZpEtQDd0P"
      },
      "source": [
        "## Setup\n",
        "\n",
        "The goal here is to take models provided by TensorFlow hub and host them on AI Platform for use in Earth Engine.  This notebook is concerned with [the BigEarthNet/ResNet50 model](https://tfhub.dev/google/remote_sensing/bigearthnet-resnet50/1).  See [the paper](https://arxiv.org/pdf/1911.06721.pdf)."
      ]
    },
    {
      "cell_type": "code",
      "metadata": {
        "id": "mOX7GEzc2y9Y"
      },
      "source": [
        "from google.colab import auth\n",
        "auth.authenticate_user()"
      ],
      "execution_count": null,
      "outputs": []
    },
    {
      "cell_type": "code",
      "metadata": {
        "id": "Pzi3_Zz2ZzC3"
      },
      "source": [
        "# This is the latest AI Platform version available.\n",
        "!pip install tensorflow==2.2.0"
      ],
      "execution_count": null,
      "outputs": []
    },
    {
      "cell_type": "code",
      "metadata": {
        "id": "tHyO6E0gTriu"
      },
      "source": [
        "import tensorflow as tf\n",
        "print(tf.__version__)"
      ],
      "execution_count": null,
      "outputs": []
    },
    {
      "cell_type": "code",
      "metadata": {
        "id": "JetdU9LvCo0t"
      },
      "source": [
        "import ee\n",
        "ee.Authenticate()\n",
        "ee.Initialize()"
      ],
      "execution_count": null,
      "outputs": []
    },
    {
      "cell_type": "markdown",
      "metadata": {
        "id": "_el-ydcyDiEe"
      },
      "source": [
        "## Get the model from TensorFlow hub"
      ]
    },
    {
      "cell_type": "markdown",
      "metadata": {
        "id": "pIilRJ4RWc8P"
      },
      "source": [
        "Set the cache directory to a Cloud Storage bucket.  This will download the saved model from TensorFlow Hub to the bucket instead of the local file system."
      ]
    },
    {
      "cell_type": "code",
      "metadata": {
        "id": "C9kpLXaGL66k"
      },
      "source": [
        "import os\n",
        "\n",
        "# YOUR BUCKET HERE\n",
        "cloud_path = 'gs://YOUR-BUCKET'\n",
        "os.environ[\"TFHUB_CACHE_DIR\"] = cloud_path"
      ],
      "execution_count": null,
      "outputs": []
    },
    {
      "cell_type": "markdown",
      "metadata": {
        "id": "OapfBpsQWyRL"
      },
      "source": [
        "Load TensorFlow Hub and resolve a model.  This will cache the saved model to the Cloud Storage directory specified above."
      ]
    },
    {
      "cell_type": "code",
      "metadata": {
        "id": "ThpVd6DDPLGx"
      },
      "source": [
        "import tensorflow_hub as hub\n",
        "\n",
        "model_url = 'https://tfhub.dev/google/remote_sensing/bigearthnet-resnet50/1'\n",
        "model_path = hub.resolve(model_url)"
      ],
      "execution_count": null,
      "outputs": []
    },
    {
      "cell_type": "markdown",
      "metadata": {
        "id": "lrUoNGrpDm3h"
      },
      "source": [
        "## Reload the model saved by TensorFlow hub\n",
        "\n",
        "Load the model that was cached by TensorFlow hub.  Note that `hub.load()` is roughly equivalent to `hub.resolve()` followed by `tf.saved_model.load()` ([reference](https://www.tensorflow.org/hub/api_docs/python/hub/load))."
      ]
    },
    {
      "cell_type": "code",
      "metadata": {
        "id": "qx4nueZ-XGxl"
      },
      "source": [
        "imported = tf.saved_model.load(model_path, tags=[])"
      ],
      "execution_count": null,
      "outputs": []
    },
    {
      "cell_type": "markdown",
      "metadata": {
        "id": "YihB8xSxhVG_"
      },
      "source": [
        "### Inspect the signatures of the saved model"
      ]
    },
    {
      "cell_type": "code",
      "metadata": {
        "id": "fkzeObh8hbny"
      },
      "source": [
        "print(imported.signatures)\n",
        "print(imported.signatures['default'])\n",
        "inputs = imported.signatures['default'].inputs\n",
        "outputs = imported.signatures['default'].outputs\n",
        "\n",
        "from pprint import pprint\n",
        "pprint(inputs)\n",
        "pprint(outputs)"
      ],
      "execution_count": null,
      "outputs": []
    },
    {
      "cell_type": "markdown",
      "metadata": {
        "id": "AMG9W52Kikfx"
      },
      "source": [
        "### Pass some data through the reloaded model\n",
        "\n",
        "Note that 'default' is the only option in the signature.  Also note that `imported.signatures['default']` is a `ConceteFunction`.  Send some data through to test the function. See [the model page](https://tfhub.dev/google/remote_sensing/bigearthnet-resnet50/1) for reference.  Specifically, \"the size of the input image is flexible, but it would be best to match the model training input, which was height x width = 224 x 224 pixels.\""
      ]
    },
    {
      "cell_type": "code",
      "metadata": {
        "id": "waubV_jJcVWp"
      },
      "source": [
        "images = tf.ones([8, 224, 224, 3]) # A batch of images with shape [batch_size, height, width, 3].\n",
        "features = imported.signatures['default'](images)  # Features with shape [batch_size, num_features].\n",
        "print(features.keys())\n",
        "print(features['logits'][0])\n",
        "print(features['pre_logits'][0])\n",
        "print(features['default'][0])\n",
        "# OK"
      ],
      "execution_count": null,
      "outputs": []
    },
    {
      "cell_type": "markdown",
      "metadata": {
        "id": "6CimXvLqh5Uu"
      },
      "source": [
        "From [the model page on TensorFlow hub](https://www.tensorflow.org/hub/common_saved_model_apis/images): \"The output `logits` is a single tensor of dtype `float32` and shape `[batch_size, num_classes]`\".  Assume that `logits` in this context is as defined [here](https://developers.google.com/machine-learning/glossary/#logits).  To get a class probability vector, feed the logits to a softmax.  Class list is [here](https://github.com/tensorflow/datasets/blob/master/tensorflow_datasets/image_classification/bigearthnet.py#L71)."
      ]
    },
    {
      "cell_type": "markdown",
      "metadata": {
        "id": "QAmVyQj5i5yk"
      },
      "source": [
        "## Re-save the loaded model\n",
        "\n",
        "The model needs to be saved with a 'serving_default' tag, i.e. `tf.saved_model.DEFAULT_SERVING_SIGNATURE_DEF_KEY`.  The signature comes from the 'default' function loaded from the TensorFlow hub model.  See [this reference](https://www.tensorflow.org/guide/saved_model#specifying_signatures_during_export) for more info on specifying export signatures."
      ]
    },
    {
      "cell_type": "code",
      "metadata": {
        "id": "dzv4-o7HetUR"
      },
      "source": [
        "export_dir = 'gs://YOUR-BUCKET/EXPORT-FOLDER'\n",
        "tf.saved_model.save(imported, export_dir, imported.signatures['default'])"
      ],
      "execution_count": null,
      "outputs": []
    },
    {
      "cell_type": "markdown",
      "metadata": {
        "id": "9YRA2-99lLGE"
      },
      "source": [
        "Use the command line tool to inspect the inputs and outputs.  This model has multiple outputs, so we need to choose one.  "
      ]
    },
    {
      "cell_type": "code",
      "metadata": {
        "id": "KEYxNiFZfYeE"
      },
      "source": [
        "!saved_model_cli show --dir {export_dir} --all"
      ],
      "execution_count": null,
      "outputs": []
    },
    {
      "cell_type": "markdown",
      "metadata": {
        "id": "IFS3DFGrqkyA"
      },
      "source": [
        "Pull the names from this output manually and hard-code them here.  Grab the length 45 `logits` for output.  There is only one input, `images`."
      ]
    },
    {
      "cell_type": "code",
      "metadata": {
        "id": "68k2538Kof0c"
      },
      "source": [
        "input_name = 'serving_default_images:0'\n",
        "output_name = 'StatefulPartitionedCall:6'\n",
        "\n",
        "# Make a dictionary that maps Earth Engine outputs and inputs to \n",
        "# AI Platform inputs and outputs, respectively.\n",
        "import json\n",
        "input_dict = \"'\" + json.dumps({input_name: \"array\"}) + \"'\"\n",
        "output_dict = \"'\" + json.dumps({output_name: \"logits\"}) + \"'\"\n",
        "\n",
        "print(input_dict)\n",
        "print(output_dict)"
      ],
      "execution_count": null,
      "outputs": []
    },
    {
      "cell_type": "markdown",
      "metadata": {
        "id": "qjRpcMcKJVws"
      },
      "source": [
        "Prepare the model for use in Earth Engine.  This process wraps the model in nodes that convert `base64` <-> `float32`."
      ]
    },
    {
      "cell_type": "code",
      "metadata": {
        "id": "zxPgxa6c_zcu"
      },
      "source": [
        "eeified_dir = 'gs://YOUR-BUCKET/EEIFIED-FOLDER'\n",
        "\n",
        "!earthengine set_project 'YOUR-PROJECT'\n",
        "!earthengine model prepare --source_dir {export_dir} --dest_dir {eeified_dir} --input {input_dict} --output {output_dict}"
      ],
      "execution_count": null,
      "outputs": []
    },
    {
      "cell_type": "code",
      "metadata": {
        "id": "RobwGy7LHPeU"
      },
      "source": [
        "MODEL_NAME = 'bigearthnet_logits'\n",
        "VERSION_NAME = 'v1'\n",
        "\n",
        "!gcloud ai-platform models create {MODEL_NAME} --project 'YOUR-PROJECT'\n",
        "\n",
        "!gcloud ai-platform versions create {VERSION_NAME} \\\n",
        "  --project 'YOUR-PROJECT' \\\n",
        "  --model {MODEL_NAME} \\\n",
        "  --runtime-version 2.2 \\\n",
        "  --python-version 3.7 \\\n",
        "  --framework \"TENSORFLOW\" \\\n",
        "  --origin {eeified_dir}"
      ],
      "execution_count": null,
      "outputs": []
    },
    {
      "cell_type": "markdown",
      "metadata": {
        "id": "K7vMsXbf1Esi"
      },
      "source": [
        "## Embedding\n",
        "\n",
        "Now do the length 2048 embedding."
      ]
    },
    {
      "cell_type": "code",
      "metadata": {
        "id": "CQejafq4zQ66"
      },
      "source": [
        "input_name = 'serving_default_images:0'\n",
        "output_name = 'StatefulPartitionedCall:5'\n",
        "\n",
        "import json\n",
        "input_dict = \"'\" + json.dumps({input_name: \"array\"}) + \"'\"\n",
        "output_dict = \"'\" + json.dumps({output_name: \"prelogits\"}) + \"'\"\n",
        "\n",
        "print(input_dict)\n",
        "print(output_dict)"
      ],
      "execution_count": null,
      "outputs": []
    },
    {
      "cell_type": "markdown",
      "metadata": {
        "id": "UZkNTm76zQ6_"
      },
      "source": [
        "Prepare the model for use in Earth Engine.  This process wraps the model in nodes that convert `base64` <-> `float32`."
      ]
    },
    {
      "cell_type": "code",
      "metadata": {
        "id": "VfcXr2rRzQ7A"
      },
      "source": [
        "eeified_dir = 'gs://YOUR-BUCKET/EEIFIED-EMBED-FOLDER'\n",
        "\n",
        "!earthengine set_project 'YOUR-PROJECT'\n",
        "!earthengine model prepare --source_dir {export_dir} --dest_dir {eeified_dir} --input {input_dict} --output {output_dict}"
      ],
      "execution_count": null,
      "outputs": []
    },
    {
      "cell_type": "code",
      "metadata": {
        "id": "6eh4IzB0zQ7C"
      },
      "source": [
        "MODEL_NAME = 'bigearthnet_embed'\n",
        "VERSION_NAME = 'v1'\n",
        "\n",
        "!gcloud ai-platform models create {MODEL_NAME} --project 'YOUR-PROJECT'\n",
        "\n",
        "!gcloud ai-platform versions create {VERSION_NAME} \\\n",
        "  --project 'YOUR-PROJECT' \\\n",
        "  --model {MODEL_NAME} \\\n",
        "  --runtime-version 2.2 \\\n",
        "  --python-version 3.7 \\\n",
        "  --framework \"TENSORFLOW\" \\\n",
        "  --origin {eeified_dir}"
      ],
      "execution_count": null,
      "outputs": []
    },
    {
      "cell_type": "markdown",
      "metadata": {
        "id": "lPYE2c7iPVSl"
      },
      "source": [
        "## Fine Tuning\n",
        "\n",
        "To learn more about fine tuning, see [this reference](https://www.tensorflow.org/hub/tf2_saved_model#fine-tuning)."
      ]
    }
  ]
}