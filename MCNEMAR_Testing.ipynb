{
  "nbformat": 4,
  "nbformat_minor": 0,
  "metadata": {
    "colab": {
      "name": "MCNEMAR_Testing_vBiplov_vTim.ipynb",
      "provenance": [],
      "collapsed_sections": [],
      "toc_visible": true,
      "include_colab_link": true
    },
    "kernelspec": {
      "name": "python3",
      "display_name": "Python 3"
    }
  },
  "cells": [
    {
      "cell_type": "markdown",
      "metadata": {
        "id": "view-in-github",
        "colab_type": "text"
      },
      "source": [
        "<a href=\"https://colab.research.google.com/github/nyeinnst/bigdata/blob/master/MCNEMAR_Testing.ipynb\" target=\"_parent\"><img src=\"https://colab.research.google.com/assets/colab-badge.svg\" alt=\"Open In Colab\"/></a>"
      ]
    },
    {
      "cell_type": "markdown",
      "metadata": {
        "id": "G7QkwuIhfFB1"
      },
      "source": [
        "# Mount & Imports"
      ]
    },
    {
      "cell_type": "code",
      "metadata": {
        "id": "ad6x0YHjEzpY",
        "outputId": "f2f552cf-c32c-4d44-b3b0-3acabdc9163a",
        "colab": {
          "base_uri": "https://localhost:8080/",
          "height": 35
        }
      },
      "source": [
        "import os, sys\n",
        "from google.colab import drive\n",
        "drive.mount('/content/mnt') \n",
        "nb_path = '/content/notebooks'\n",
        "#create a symbolic link for pointing to /content/mnt/My Drive/Colab Notebooks\n",
        "os.symlink('/content/mnt/My Drive/Colab Notebooks', nb_path)\n",
        "sys.path.insert(0, nb_path) "
      ],
      "execution_count": null,
      "outputs": [
        {
          "output_type": "stream",
          "text": [
            "Mounted at /content/mnt\n"
          ],
          "name": "stdout"
        }
      ]
    },
    {
      "cell_type": "code",
      "metadata": {
        "id": "Ye_KXmRiE18-"
      },
      "source": [
        "import pandas as pd\n",
        "import matplotlib.pyplot as plt\n",
        "import seaborn as sns\n",
        "from sklearn.metrics import log_loss\n",
        "import numpy as np\n",
        "np.seterr(divide='ignore', invalid='ignore')\n",
        "from sklearn.metrics import confusion_matrix\n",
        "from sklearn.metrics import accuracy_score \n",
        "from sklearn.metrics import classification_report \n",
        "from sklearn.metrics import cohen_kappa_score\n",
        "from sklearn.metrics import average_precision_score\n",
        "from sklearn.metrics import f1_score\n",
        "from sklearn.metrics import precision_score\n",
        "from sklearn.metrics import fbeta_score\n",
        "from sklearn.metrics import precision_recall_fscore_support \n",
        "from sklearn.metrics import roc_auc_score\n",
        "from sklearn.metrics import roc_curve\n",
        "from sklearn.metrics import brier_score_loss\n",
        "import itertools \n",
        "%matplotlib inline"
      ],
      "execution_count": null,
      "outputs": []
    },
    {
      "cell_type": "markdown",
      "metadata": {
        "id": "z5ttq9kLc9T_"
      },
      "source": [
        "Data: [Google Drive with csv files](https://drive.google.com/drive/folders/1qTZwbJU_jSZsJAczIcfb6-uUkQqLcKeS?usp=sharing) <br /> (Note: \"results.csv\" contains all data from the other csv files)"
      ]
    },
    {
      "cell_type": "markdown",
      "metadata": {
        "id": "bmL7Ygl6o6ax"
      },
      "source": [
        "# Data Preparation"
      ]
    },
    {
      "cell_type": "markdown",
      "metadata": {
        "id": "62MZ9wTVFM3z"
      },
      "source": [
        "Removes 2019-09-23 from the dataframe"
      ]
    },
    {
      "cell_type": "code",
      "metadata": {
        "id": "-7johO2wpGcU",
        "cellView": "both",
        "outputId": "70d50582-97a9-4194-8778-47669ebfa678",
        "colab": {
          "base_uri": "https://localhost:8080/",
          "height": 225
        }
      },
      "source": [
        "# Edge Adjusted 8b\n",
        "ea8b = pd.DataFrame(pd.read_csv('/content/mnt/My Drive/SCO_Mekong_Water_Disasters/Mekong_Services/S1_TF_Workspace/exports/edge-adjusted-8b.csv')).rename(columns={'WaterPlane':'actual','water':'model'})\n",
        "# remove date with 2019-09-23\n",
        "ea8b = ea8b[ea8b['system:time_start'] != '2019-09-23T07:00:00']\n",
        "# display(ea8b)\n",
        "display(ea8b.size)\n",
        "\n",
        "# Edge Adjusted 9c\n",
        "ea9c = pd.DataFrame(pd.read_csv('/content/mnt/My Drive/SCO_Mekong_Water_Disasters/Mekong_Services/S1_TF_Workspace/exports/edge-adjusted-9c.csv')).rename(columns={'WaterPlane':'actual','water':'model'})\n",
        "# remove date with 2019-09-23\n",
        "ea9c = ea9c[ea9c['system:time_start'] != '2019-09-23T07:00:00']\n",
        "display(ea9c.size)\n",
        "\n",
        "# Edge Adjusted a0\n",
        "eaa0 = pd.DataFrame(pd.read_csv('/content/mnt/My Drive/SCO_Mekong_Water_Disasters/Mekong_Services/S1_TF_Workspace/exports/edge-adjusted-a0.csv')).rename(columns={'WaterPlane':'actual','water':'model'})\n",
        "# remove date with 2019-09-23\n",
        "eaa0 = eaa0[eaa0['system:time_start'] != '2019-09-23T07:00:00']\n",
        "display(eaa0.size)\n",
        "\n",
        "# Edge Fixed 42\n",
        "ef42 = pd.DataFrame(pd.read_csv('/content/mnt/My Drive/SCO_Mekong_Water_Disasters/Mekong_Services/S1_TF_Workspace/exports/edge-fixed-42.csv')).rename(columns={'WaterPlane':'actual','water':'model'})\n",
        "# remove date with 2019-09-23\n",
        "ef42 = ef42[ef42['system:time_start'] != '2019-09-23T07:00:00']\n",
        "display(ef42.size)\n",
        "\n",
        "# Edge Fixed 52\n",
        "ef52 = pd.DataFrame(pd.read_csv('/content/mnt/My Drive/SCO_Mekong_Water_Disasters/Mekong_Services/S1_TF_Workspace/exports/edge-fixed-52.csv')).rename(columns={'WaterPlane':'actual','water':'model'})\n",
        "# remove date with 2019-09-23\n",
        "ef52 = ef52[ef52['system:time_start'] != '2019-09-23T07:00:00']\n",
        "display(ef52.size)\n",
        "\n",
        "# Edge Fixed df\n",
        "efdf = pd.DataFrame(pd.read_csv('/content/mnt/My Drive/SCO_Mekong_Water_Disasters/Mekong_Services/S1_TF_Workspace/exports/edge-fixed-df.csv')).rename(columns={'WaterPlane':'actual','water':'model'})\n",
        "# remove date with 2019-09-23\n",
        "efdf = efdf[efdf['system:time_start'] != '2019-09-23T07:00:00']\n",
        "display(efdf.size)\n",
        "\n",
        "# JRC Adjusted 6b\n",
        "ja6b = pd.DataFrame(pd.read_csv('/content/mnt/My Drive/SCO_Mekong_Water_Disasters/Mekong_Services/S1_TF_Workspace/exports/jrc-adjusted-6b.csv')).rename(columns={'WaterPlane':'actual','water':'model'})\n",
        "# remove date with 2019-09-23\n",
        "ja6b = ja6b[ja6b['system:time_start'] != '2019-09-23T07:00:00']\n",
        "display(ja6b.size)\n",
        "\n",
        "# JRC Adjusted ce\n",
        "jace = pd.DataFrame(pd.read_csv('/content/mnt/My Drive/SCO_Mekong_Water_Disasters/Mekong_Services/S1_TF_Workspace/exports/jrc-adjusted-ce.csv')).rename(columns={'WaterPlane':'actual','water':'model'})\n",
        "# remove date with 2019-09-23\n",
        "jace = jace[jace['system:time_start'] != '2019-09-23T07:00:00']\n",
        "display(jace.size)\n",
        "\n",
        "# JRC Adjusted f8\n",
        "jaf8 = pd.DataFrame(pd.read_csv('/content/mnt/My Drive/SCO_Mekong_Water_Disasters/Mekong_Services/S1_TF_Workspace/exports/jrc-adjusted-f8.csv')).rename(columns={'WaterPlane':'actual','water':'model'})\n",
        "# remove date with 2019-09-23\n",
        "jaf8 = jaf8[jaf8['system:time_start'] != '2019-09-23T07:00:00']\n",
        "display(jaf8.size)\n",
        "\n",
        "# JRC Fixed 2e\n",
        "jf2e = pd.DataFrame(pd.read_csv('/content/mnt/My Drive/SCO_Mekong_Water_Disasters/Mekong_Services/S1_TF_Workspace/exports/jrc-fixed-2e.csv')).rename(columns={'WaterPlane':'actual','water':'model'})\n",
        "# remove date with 2019-09-23\n",
        "jf2e = jf2e[jf2e['system:time_start'] != '2019-09-23T07:00:00']\n",
        "display(jf2e.size)\n",
        "\n",
        "# JRC Fixed 39\n",
        "jf39 = pd.DataFrame(pd.read_csv('/content/mnt/My Drive/SCO_Mekong_Water_Disasters/Mekong_Services/S1_TF_Workspace/exports/jrc-fixed-39.csv')).rename(columns={'WaterPlane':'actual','water':'model'})\n",
        "# remove date with 2019-09-23\n",
        "jf39 = jf39[jf39['system:time_start'] != '2019-09-23T07:00:00']\n",
        "display(jf39.size)\n",
        "\n",
        "# JRC Fixed fa\n",
        "jffa = pd.DataFrame(pd.read_csv('/content/mnt/My Drive/SCO_Mekong_Water_Disasters/Mekong_Services/S1_TF_Workspace/exports/jrc-fixed-fa.csv')).rename(columns={'WaterPlane':'actual','water':'model'})\n",
        "# remove date with 2019-09-23\n",
        "jffa = jffa[jffa['system:time_start'] != '2019-09-23T07:00:00']\n",
        "display(jffa.size)"
      ],
      "execution_count": null,
      "outputs": [
        {
          "output_type": "display_data",
          "data": {
            "text/plain": [
              "2825"
            ]
          },
          "metadata": {
            "tags": []
          }
        },
        {
          "output_type": "display_data",
          "data": {
            "text/plain": [
              "2825"
            ]
          },
          "metadata": {
            "tags": []
          }
        },
        {
          "output_type": "display_data",
          "data": {
            "text/plain": [
              "2825"
            ]
          },
          "metadata": {
            "tags": []
          }
        },
        {
          "output_type": "display_data",
          "data": {
            "text/plain": [
              "2825"
            ]
          },
          "metadata": {
            "tags": []
          }
        },
        {
          "output_type": "display_data",
          "data": {
            "text/plain": [
              "2825"
            ]
          },
          "metadata": {
            "tags": []
          }
        },
        {
          "output_type": "display_data",
          "data": {
            "text/plain": [
              "2825"
            ]
          },
          "metadata": {
            "tags": []
          }
        },
        {
          "output_type": "display_data",
          "data": {
            "text/plain": [
              "2825"
            ]
          },
          "metadata": {
            "tags": []
          }
        },
        {
          "output_type": "display_data",
          "data": {
            "text/plain": [
              "2825"
            ]
          },
          "metadata": {
            "tags": []
          }
        },
        {
          "output_type": "display_data",
          "data": {
            "text/plain": [
              "2825"
            ]
          },
          "metadata": {
            "tags": []
          }
        },
        {
          "output_type": "display_data",
          "data": {
            "text/plain": [
              "2825"
            ]
          },
          "metadata": {
            "tags": []
          }
        },
        {
          "output_type": "display_data",
          "data": {
            "text/plain": [
              "2825"
            ]
          },
          "metadata": {
            "tags": []
          }
        },
        {
          "output_type": "display_data",
          "data": {
            "text/plain": [
              "2825"
            ]
          },
          "metadata": {
            "tags": []
          }
        }
      ]
    },
    {
      "cell_type": "markdown",
      "metadata": {
        "id": "Pcphqy8ViMSc"
      },
      "source": [
        "## Export the edge and jrc datasets to perform analysis"
      ]
    },
    {
      "cell_type": "code",
      "metadata": {
        "id": "OoXl4McXUBp7",
        "outputId": "458921b1-271c-4071-bfc7-b87ffc4536d5",
        "colab": {
          "base_uri": "https://localhost:8080/",
          "height": 445
        }
      },
      "source": [
        "edge_data = [eaa0,ea9c,ea8b,ef42,efdf,ef52]\n",
        "edge_names = ['Edge Adjusted bce','Edge Adjusted dice','Edge Adjusted bce_dice',\n",
        "              'Edge Fixed bce', 'Edge Fixed dice','Edge Fixed bce_dice']\n",
        "dates = list(jffa['system:time_start'].unique())\n",
        "\n",
        "edge_list_df = []\n",
        "for table, name in zip(edge_data, edge_names):\n",
        "  level1, level2, level3 = name.split(\" \")\n",
        "  for _index, _date in enumerate(dates):\n",
        "    t = table.loc[table['system:time_start']==_date]\n",
        "    _date = _date.split('T')[0]\n",
        "    export_df = pd.DataFrame({\n",
        "        f'level1': level1,\n",
        "        f'level2': level2,\n",
        "        f'level3': level3,\n",
        "        # f'actual_d{_index+1}': t['actual'],\n",
        "        # f'edge_map_d{_index+1}': np.where(t['model']>=0.5,1,0),\n",
        "        f'actual_{_date}': t['actual'],\n",
        "        f'edge_map_{_date}': np.where(t['model']>=0.5,1,0)\n",
        "    })\n",
        "    edge_list_df.append(export_df)\n",
        "\n",
        "edge_list_df = pd.concat(edge_list_df)\n",
        "edge_list_df.head(300)\n",
        "# edge_list_df.to_csv(f'/content/mnt/My Drive/SCO_Mekong_Water_Disasters/Mekong_Services/S1_TF_Workspace/exports/mcnemar_testing/edge_export_4_mcnemar.csv')"
      ],
      "execution_count": null,
      "outputs": [
        {
          "output_type": "execute_result",
          "data": {
            "text/html": [
              "<div>\n",
              "<style scoped>\n",
              "    .dataframe tbody tr th:only-of-type {\n",
              "        vertical-align: middle;\n",
              "    }\n",
              "\n",
              "    .dataframe tbody tr th {\n",
              "        vertical-align: top;\n",
              "    }\n",
              "\n",
              "    .dataframe thead th {\n",
              "        text-align: right;\n",
              "    }\n",
              "</style>\n",
              "<table border=\"1\" class=\"dataframe\">\n",
              "  <thead>\n",
              "    <tr style=\"text-align: right;\">\n",
              "      <th></th>\n",
              "      <th>level1</th>\n",
              "      <th>level2</th>\n",
              "      <th>level3</th>\n",
              "      <th>actual_2019-09-09</th>\n",
              "      <th>edge_map_2019-09-09</th>\n",
              "      <th>actual_2019-09-11</th>\n",
              "      <th>edge_map_2019-09-11</th>\n",
              "      <th>actual_2019-10-03</th>\n",
              "      <th>edge_map_2019-10-03</th>\n",
              "      <th>actual_2019-10-05</th>\n",
              "      <th>edge_map_2019-10-05</th>\n",
              "      <th>actual_2019-10-15</th>\n",
              "      <th>edge_map_2019-10-15</th>\n",
              "    </tr>\n",
              "  </thead>\n",
              "  <tbody>\n",
              "    <tr>\n",
              "      <th>0</th>\n",
              "      <td>Edge</td>\n",
              "      <td>Adjusted</td>\n",
              "      <td>bce</td>\n",
              "      <td>0.0</td>\n",
              "      <td>0.0</td>\n",
              "      <td>NaN</td>\n",
              "      <td>NaN</td>\n",
              "      <td>NaN</td>\n",
              "      <td>NaN</td>\n",
              "      <td>NaN</td>\n",
              "      <td>NaN</td>\n",
              "      <td>NaN</td>\n",
              "      <td>NaN</td>\n",
              "    </tr>\n",
              "    <tr>\n",
              "      <th>1</th>\n",
              "      <td>Edge</td>\n",
              "      <td>Adjusted</td>\n",
              "      <td>bce</td>\n",
              "      <td>1.0</td>\n",
              "      <td>0.0</td>\n",
              "      <td>NaN</td>\n",
              "      <td>NaN</td>\n",
              "      <td>NaN</td>\n",
              "      <td>NaN</td>\n",
              "      <td>NaN</td>\n",
              "      <td>NaN</td>\n",
              "      <td>NaN</td>\n",
              "      <td>NaN</td>\n",
              "    </tr>\n",
              "    <tr>\n",
              "      <th>2</th>\n",
              "      <td>Edge</td>\n",
              "      <td>Adjusted</td>\n",
              "      <td>bce</td>\n",
              "      <td>1.0</td>\n",
              "      <td>1.0</td>\n",
              "      <td>NaN</td>\n",
              "      <td>NaN</td>\n",
              "      <td>NaN</td>\n",
              "      <td>NaN</td>\n",
              "      <td>NaN</td>\n",
              "      <td>NaN</td>\n",
              "      <td>NaN</td>\n",
              "      <td>NaN</td>\n",
              "    </tr>\n",
              "    <tr>\n",
              "      <th>3</th>\n",
              "      <td>Edge</td>\n",
              "      <td>Adjusted</td>\n",
              "      <td>bce</td>\n",
              "      <td>1.0</td>\n",
              "      <td>1.0</td>\n",
              "      <td>NaN</td>\n",
              "      <td>NaN</td>\n",
              "      <td>NaN</td>\n",
              "      <td>NaN</td>\n",
              "      <td>NaN</td>\n",
              "      <td>NaN</td>\n",
              "      <td>NaN</td>\n",
              "      <td>NaN</td>\n",
              "    </tr>\n",
              "    <tr>\n",
              "      <th>4</th>\n",
              "      <td>Edge</td>\n",
              "      <td>Adjusted</td>\n",
              "      <td>bce</td>\n",
              "      <td>1.0</td>\n",
              "      <td>1.0</td>\n",
              "      <td>NaN</td>\n",
              "      <td>NaN</td>\n",
              "      <td>NaN</td>\n",
              "      <td>NaN</td>\n",
              "      <td>NaN</td>\n",
              "      <td>NaN</td>\n",
              "      <td>NaN</td>\n",
              "      <td>NaN</td>\n",
              "    </tr>\n",
              "    <tr>\n",
              "      <th>...</th>\n",
              "      <td>...</td>\n",
              "      <td>...</td>\n",
              "      <td>...</td>\n",
              "      <td>...</td>\n",
              "      <td>...</td>\n",
              "      <td>...</td>\n",
              "      <td>...</td>\n",
              "      <td>...</td>\n",
              "      <td>...</td>\n",
              "      <td>...</td>\n",
              "      <td>...</td>\n",
              "      <td>...</td>\n",
              "      <td>...</td>\n",
              "    </tr>\n",
              "    <tr>\n",
              "      <th>398</th>\n",
              "      <td>Edge</td>\n",
              "      <td>Adjusted</td>\n",
              "      <td>bce</td>\n",
              "      <td>NaN</td>\n",
              "      <td>NaN</td>\n",
              "      <td>NaN</td>\n",
              "      <td>NaN</td>\n",
              "      <td>NaN</td>\n",
              "      <td>NaN</td>\n",
              "      <td>1.0</td>\n",
              "      <td>1.0</td>\n",
              "      <td>NaN</td>\n",
              "      <td>NaN</td>\n",
              "    </tr>\n",
              "    <tr>\n",
              "      <th>399</th>\n",
              "      <td>Edge</td>\n",
              "      <td>Adjusted</td>\n",
              "      <td>bce</td>\n",
              "      <td>NaN</td>\n",
              "      <td>NaN</td>\n",
              "      <td>NaN</td>\n",
              "      <td>NaN</td>\n",
              "      <td>NaN</td>\n",
              "      <td>NaN</td>\n",
              "      <td>1.0</td>\n",
              "      <td>1.0</td>\n",
              "      <td>NaN</td>\n",
              "      <td>NaN</td>\n",
              "    </tr>\n",
              "    <tr>\n",
              "      <th>400</th>\n",
              "      <td>Edge</td>\n",
              "      <td>Adjusted</td>\n",
              "      <td>bce</td>\n",
              "      <td>NaN</td>\n",
              "      <td>NaN</td>\n",
              "      <td>NaN</td>\n",
              "      <td>NaN</td>\n",
              "      <td>NaN</td>\n",
              "      <td>NaN</td>\n",
              "      <td>1.0</td>\n",
              "      <td>1.0</td>\n",
              "      <td>NaN</td>\n",
              "      <td>NaN</td>\n",
              "    </tr>\n",
              "    <tr>\n",
              "      <th>401</th>\n",
              "      <td>Edge</td>\n",
              "      <td>Adjusted</td>\n",
              "      <td>bce</td>\n",
              "      <td>NaN</td>\n",
              "      <td>NaN</td>\n",
              "      <td>NaN</td>\n",
              "      <td>NaN</td>\n",
              "      <td>NaN</td>\n",
              "      <td>NaN</td>\n",
              "      <td>1.0</td>\n",
              "      <td>1.0</td>\n",
              "      <td>NaN</td>\n",
              "      <td>NaN</td>\n",
              "    </tr>\n",
              "    <tr>\n",
              "      <th>402</th>\n",
              "      <td>Edge</td>\n",
              "      <td>Adjusted</td>\n",
              "      <td>bce</td>\n",
              "      <td>NaN</td>\n",
              "      <td>NaN</td>\n",
              "      <td>NaN</td>\n",
              "      <td>NaN</td>\n",
              "      <td>NaN</td>\n",
              "      <td>NaN</td>\n",
              "      <td>1.0</td>\n",
              "      <td>1.0</td>\n",
              "      <td>NaN</td>\n",
              "      <td>NaN</td>\n",
              "    </tr>\n",
              "  </tbody>\n",
              "</table>\n",
              "<p>300 rows × 13 columns</p>\n",
              "</div>"
            ],
            "text/plain": [
              "    level1    level2  ... actual_2019-10-15  edge_map_2019-10-15\n",
              "0     Edge  Adjusted  ...               NaN                  NaN\n",
              "1     Edge  Adjusted  ...               NaN                  NaN\n",
              "2     Edge  Adjusted  ...               NaN                  NaN\n",
              "3     Edge  Adjusted  ...               NaN                  NaN\n",
              "4     Edge  Adjusted  ...               NaN                  NaN\n",
              "..     ...       ...  ...               ...                  ...\n",
              "398   Edge  Adjusted  ...               NaN                  NaN\n",
              "399   Edge  Adjusted  ...               NaN                  NaN\n",
              "400   Edge  Adjusted  ...               NaN                  NaN\n",
              "401   Edge  Adjusted  ...               NaN                  NaN\n",
              "402   Edge  Adjusted  ...               NaN                  NaN\n",
              "\n",
              "[300 rows x 13 columns]"
            ]
          },
          "metadata": {
            "tags": []
          },
          "execution_count": 4
        }
      ]
    },
    {
      "cell_type": "code",
      "metadata": {
        "id": "jzD7lW80MFLu"
      },
      "source": [
        "jrc_data = [ja6b,jace,jaf8,jf2e,jf39,jffa]\n",
        "jrc_names = ['JRC Adjusted bce', 'JRC Adjusted dice', 'JRC Adjusted bce_dice',\n",
        "             'JRC Fixed bce', 'JRC Fixed dice', 'JRC Fixed bce_dice']\n",
        "dates = list(jffa['system:time_start'].unique())\n",
        "\n",
        "jrc_list_df = []\n",
        "for table, name in zip(jrc_data, jrc_names):\n",
        "  level1, level2, level3 = name.split(\" \")\n",
        "  for _index, _date in enumerate(dates):\n",
        "    t = table.loc[table['system:time_start']==_date]\n",
        "    _date = _date.split('T')[0]\n",
        "    export_df = pd.DataFrame({\n",
        "        f'level1': level1,\n",
        "        f'level2': level2,\n",
        "        f'level3': level3,\n",
        "        # f'actual_d{_index+1}': t['actual'],\n",
        "        # f'jrc_map_d{_index+1}': np.where(t['model']>=0.5,1,0),\n",
        "        f'actual_{_date}': t['actual'],\n",
        "        f'jrc_map_{_date}': np.where(t['model']>=0.5,1,0)\n",
        "    })\n",
        "    jrc_list_df.append(export_df)\n",
        "\n",
        "jrc_list_df = pd.concat(jrc_list_df)\n",
        "# jrc_list_df.to_csv(f'/content/mnt/My Drive/SCO_Mekong_Water_Disasters/Mekong_Services/S1_TF_Workspace/exports/mcnemar_testing/jrc_export_4_mcnemar.csv')"
      ],
      "execution_count": null,
      "outputs": []
    },
    {
      "cell_type": "markdown",
      "metadata": {
        "id": "qVMbTj_1P2UW"
      },
      "source": [
        "# Data Analysis"
      ]
    },
    {
      "cell_type": "markdown",
      "metadata": {
        "id": "sC4TyITEGF-H"
      },
      "source": [
        "## Main Variables"
      ]
    },
    {
      "cell_type": "code",
      "metadata": {
        "id": "5z7sluitGIIc"
      },
      "source": [
        "jrc_data = pd.DataFrame(pd.read_csv('/content/mnt/My Drive/SCO_Mekong_Water_Disasters/Mekong_Services/S1_TF_Workspace/exports/mcnemar_testing/jrc_export_4_mcnemar.csv'))\n",
        "edge_data = pd.DataFrame(pd.read_csv('/content/mnt/My Drive/SCO_Mekong_Water_Disasters/Mekong_Services/S1_TF_Workspace/exports/mcnemar_testing/edge_export_4_mcnemar.csv'))\n",
        "\n",
        "# variables\n",
        "actual = 'actual'\n",
        "edge_modeled = 'edge_map'\n",
        "jrc_modeled = 'jrc_map'\n",
        "date1 = '2019-09-09'\n",
        "date2 = '2019-09-11'\n",
        "date3 = '2019-10-03'\n",
        "date4 = '2019-10-05'\n",
        "date5 = '2019-10-15'\n",
        "\n",
        "_edge = (edge_data['level1'] == 'Edge')\n",
        "_edge_adjusted = (edge_data['level2'] == 'Adjusted')\n",
        "_edge_fixed = (edge_data['level2'] == 'Fixed')\n",
        "_jrc = (jrc_data['level1'] == 'JRC')\n",
        "_jrc_adjusted = (jrc_data['level2'] == 'Adjusted')\n",
        "_jrc_fixed = (jrc_data['level2'] == 'Fixed')\n",
        "\n",
        "# get all the 12 data\n",
        "# adjusted bce\n",
        "ea_bce = edge_data[_edge & _edge_adjusted & (edge_data['level3'] == 'bce')]\n",
        "ja_bce = jrc_data[_jrc & _jrc_adjusted & (jrc_data['level3'] == 'bce')]\n",
        "# adjusted dice\n",
        "ea_dice = edge_data[_edge & _edge_adjusted & (edge_data['level3'] == 'dice')]\n",
        "ja_dice = jrc_data[_jrc & _jrc_adjusted & (jrc_data['level3'] == 'dice')]\n",
        "# adjusted bce dice\n",
        "ea_bce_dice = edge_data[_edge & _edge_adjusted & (edge_data['level3'] == 'bce_dice')]\n",
        "ja_bce_dice = jrc_data[_jrc & _jrc_adjusted & (jrc_data['level3'] == 'bce_dice')]\n",
        "# fixed bce\n",
        "ef_bce = edge_data[_edge & _edge_fixed & (edge_data['level3'] == 'bce')]\n",
        "jf_bce = jrc_data[_jrc & _jrc_fixed & (jrc_data['level3'] == 'bce')]\n",
        "# fixed dice\n",
        "ef_dice = edge_data[_edge & _edge_fixed & (edge_data['level3'] == 'dice')]\n",
        "jf_dice = jrc_data[_jrc & _jrc_fixed & (jrc_data['level3'] == 'dice')]\n",
        "# fixed bce dice\n",
        "ef_bce_dice = edge_data[_edge & _edge_fixed & (edge_data['level3'] == 'bce_dice')]\n",
        "jf_bce_dice = jrc_data[_jrc & _jrc_fixed & (jrc_data['level3'] == 'bce_dice')]"
      ],
      "execution_count": null,
      "outputs": []
    },
    {
      "cell_type": "markdown",
      "metadata": {
        "id": "KlZETTvnGaEA"
      },
      "source": [
        "## Labels"
      ]
    },
    {
      "cell_type": "markdown",
      "metadata": {
        "id": "QmluIkW1uWYo"
      },
      "source": [
        "### Adjusted BCE\n"
      ]
    },
    {
      "cell_type": "code",
      "metadata": {
        "id": "6c-uLrFGGeb3",
        "outputId": "f90c64b7-accd-4363-ed67-702fff2099a6",
        "colab": {
          "base_uri": "https://localhost:8080/",
          "height": 242
        }
      },
      "source": [
        "##############################################################################\n",
        "# edge adjusted bce and jrc adjusted bce labels are same                     #\n",
        "##############################################################################\n",
        "date1_actual = ea_bce[ea_bce[f'{actual}_{date1}'].notna()][f'{actual}_{date1}']\n",
        "date2_actual = ea_bce[ea_bce[f'{actual}_{date2}'].notna()][f'{actual}_{date2}']\n",
        "date3_actual = ea_bce[ea_bce[f'{actual}_{date3}'].notna()][f'{actual}_{date3}']\n",
        "date4_actual = ea_bce[ea_bce[f'{actual}_{date4}'].notna()][f'{actual}_{date4}']\n",
        "date5_actual = ea_bce[ea_bce[f'{actual}_{date5}'].notna()][f'{actual}_{date5}']\n",
        "actual_a_bce = pd.concat([date1_actual, date2_actual, date3_actual,\n",
        "                          date4_actual, date5_actual], axis=0)\n",
        "display(actual_a_bce.size)\n",
        "display(actual_a_bce)\n",
        "actual_a_bce_array = np.array(actual_a_bce)"
      ],
      "execution_count": null,
      "outputs": [
        {
          "output_type": "display_data",
          "data": {
            "text/plain": [
              "565"
            ]
          },
          "metadata": {
            "tags": []
          }
        },
        {
          "output_type": "display_data",
          "data": {
            "text/plain": [
              "0      0.0\n",
              "1      1.0\n",
              "2      1.0\n",
              "3      1.0\n",
              "4      1.0\n",
              "      ... \n",
              "560    0.0\n",
              "561    0.0\n",
              "562    1.0\n",
              "563    1.0\n",
              "564    1.0\n",
              "Length: 565, dtype: float64"
            ]
          },
          "metadata": {
            "tags": []
          }
        }
      ]
    },
    {
      "cell_type": "markdown",
      "metadata": {
        "id": "XqdD005FxagL"
      },
      "source": [
        "### Adjusted Dice"
      ]
    },
    {
      "cell_type": "code",
      "metadata": {
        "id": "OWZaU6utxZmK",
        "outputId": "e55267db-a917-4176-80d1-c08cbcd334e2",
        "colab": {
          "base_uri": "https://localhost:8080/",
          "height": 242
        }
      },
      "source": [
        "##############################################################################\n",
        "# edge adjusted dice and jrc adjusted dice labels are same                   #\n",
        "##############################################################################\n",
        "date1_actual = ea_dice[ea_dice[f'{actual}_{date1}'].notna()][f'{actual}_{date1}']\n",
        "date2_actual = ea_dice[ea_dice[f'{actual}_{date2}'].notna()][f'{actual}_{date2}']\n",
        "date3_actual = ea_dice[ea_dice[f'{actual}_{date3}'].notna()][f'{actual}_{date3}']\n",
        "date4_actual = ea_dice[ea_dice[f'{actual}_{date4}'].notna()][f'{actual}_{date4}']\n",
        "date5_actual = ea_dice[ea_dice[f'{actual}_{date5}'].notna()][f'{actual}_{date5}']\n",
        "actual_a_dice = pd.concat([date1_actual, date2_actual, date3_actual, date4_actual, date5_actual], axis=0)\n",
        "display(actual_a_dice.size)\n",
        "display(actual_a_dice)\n",
        "actual_a_dice_array = np.array(actual_a_dice)"
      ],
      "execution_count": null,
      "outputs": [
        {
          "output_type": "display_data",
          "data": {
            "text/plain": [
              "565"
            ]
          },
          "metadata": {
            "tags": []
          }
        },
        {
          "output_type": "display_data",
          "data": {
            "text/plain": [
              "565     0.0\n",
              "566     1.0\n",
              "567     1.0\n",
              "568     1.0\n",
              "569     1.0\n",
              "       ... \n",
              "1125    0.0\n",
              "1126    0.0\n",
              "1127    1.0\n",
              "1128    1.0\n",
              "1129    1.0\n",
              "Length: 565, dtype: float64"
            ]
          },
          "metadata": {
            "tags": []
          }
        }
      ]
    },
    {
      "cell_type": "markdown",
      "metadata": {
        "id": "mAgoejF2_L16"
      },
      "source": [
        "### Adjusted BCE Dice"
      ]
    },
    {
      "cell_type": "code",
      "metadata": {
        "id": "ATterav1_PCV",
        "outputId": "919c3b30-5e4c-43af-9eb7-4f6d71ccf1c6",
        "colab": {
          "base_uri": "https://localhost:8080/",
          "height": 242
        }
      },
      "source": [
        "##############################################################################\n",
        "# edge adjusted bce dice and jrc adjusted bce dice labels are same           #\n",
        "##############################################################################\n",
        "date1_actual = ea_bce_dice[ea_bce_dice[f'{actual}_{date1}'].notna()][f'{actual}_{date1}']\n",
        "date2_actual = ea_bce_dice[ea_bce_dice[f'{actual}_{date2}'].notna()][f'{actual}_{date2}']\n",
        "date3_actual = ea_bce_dice[ea_bce_dice[f'{actual}_{date3}'].notna()][f'{actual}_{date3}']\n",
        "date4_actual = ea_bce_dice[ea_bce_dice[f'{actual}_{date4}'].notna()][f'{actual}_{date4}']\n",
        "date5_actual = ea_bce_dice[ea_bce_dice[f'{actual}_{date5}'].notna()][f'{actual}_{date5}']\n",
        "actual_a_bce_dice = pd.concat([date1_actual, date2_actual, date3_actual, date4_actual, date5_actual], axis=0)\n",
        "display(actual_a_bce_dice.size)\n",
        "display(actual_a_bce_dice)\n",
        "actual_a_bce_dice_array = np.array(actual_a_bce_dice)"
      ],
      "execution_count": null,
      "outputs": [
        {
          "output_type": "display_data",
          "data": {
            "text/plain": [
              "565"
            ]
          },
          "metadata": {
            "tags": []
          }
        },
        {
          "output_type": "display_data",
          "data": {
            "text/plain": [
              "1130    0.0\n",
              "1131    1.0\n",
              "1132    1.0\n",
              "1133    1.0\n",
              "1134    1.0\n",
              "       ... \n",
              "1690    0.0\n",
              "1691    0.0\n",
              "1692    1.0\n",
              "1693    1.0\n",
              "1694    1.0\n",
              "Length: 565, dtype: float64"
            ]
          },
          "metadata": {
            "tags": []
          }
        }
      ]
    },
    {
      "cell_type": "markdown",
      "metadata": {
        "id": "JsubUrQC_o3I"
      },
      "source": [
        "### Fixed BCE"
      ]
    },
    {
      "cell_type": "code",
      "metadata": {
        "id": "c0ADW6QN_r9v",
        "outputId": "3a68e62d-c6ac-408c-ba5f-05ba2aba0a1c",
        "colab": {
          "base_uri": "https://localhost:8080/",
          "height": 242
        }
      },
      "source": [
        "##############################################################################\n",
        "# edge fixed bce and jrc fixed bce labels are same                           #\n",
        "##############################################################################\n",
        "date1_actual = ef_bce[ef_bce[f'{actual}_{date1}'].notna()][f'{actual}_{date1}']\n",
        "date2_actual = ef_bce[ef_bce[f'{actual}_{date2}'].notna()][f'{actual}_{date2}']\n",
        "date3_actual = ef_bce[ef_bce[f'{actual}_{date3}'].notna()][f'{actual}_{date3}']\n",
        "date4_actual = ef_bce[ef_bce[f'{actual}_{date4}'].notna()][f'{actual}_{date4}']\n",
        "date5_actual = ef_bce[ef_bce[f'{actual}_{date5}'].notna()][f'{actual}_{date5}']\n",
        "actual_f_bce = pd.concat([date1_actual, date2_actual, date3_actual,\n",
        "                          date4_actual, date5_actual], axis=0)\n",
        "display(actual_f_bce.size)\n",
        "display(actual_f_bce)\n",
        "actual_f_bce_array = np.array(actual_f_bce)"
      ],
      "execution_count": null,
      "outputs": [
        {
          "output_type": "display_data",
          "data": {
            "text/plain": [
              "565"
            ]
          },
          "metadata": {
            "tags": []
          }
        },
        {
          "output_type": "display_data",
          "data": {
            "text/plain": [
              "1695    0.0\n",
              "1696    1.0\n",
              "1697    1.0\n",
              "1698    1.0\n",
              "1699    1.0\n",
              "       ... \n",
              "2255    0.0\n",
              "2256    0.0\n",
              "2257    1.0\n",
              "2258    1.0\n",
              "2259    1.0\n",
              "Length: 565, dtype: float64"
            ]
          },
          "metadata": {
            "tags": []
          }
        }
      ]
    },
    {
      "cell_type": "markdown",
      "metadata": {
        "id": "BRZeSFThAAGk"
      },
      "source": [
        "### Fixed Dice"
      ]
    },
    {
      "cell_type": "code",
      "metadata": {
        "id": "QNy1_jA9AE2N",
        "outputId": "3b3090a9-dfbe-4a20-d15f-599d91ecedc8",
        "colab": {
          "base_uri": "https://localhost:8080/",
          "height": 242
        }
      },
      "source": [
        "##############################################################################\n",
        "# edge fixed dice and jrc fixed dice labels are same                         #\n",
        "##############################################################################\n",
        "date1_actual = ef_dice[ef_dice[f'{actual}_{date1}'].notna()][f'{actual}_{date1}']\n",
        "date2_actual = ef_dice[ef_dice[f'{actual}_{date2}'].notna()][f'{actual}_{date2}']\n",
        "date3_actual = ef_dice[ef_dice[f'{actual}_{date3}'].notna()][f'{actual}_{date3}']\n",
        "date4_actual = ef_dice[ef_dice[f'{actual}_{date4}'].notna()][f'{actual}_{date4}']\n",
        "date5_actual = ef_dice[ef_dice[f'{actual}_{date5}'].notna()][f'{actual}_{date5}']\n",
        "actual_f_dice = pd.concat([date1_actual, date2_actual, date3_actual, date4_actual, date5_actual], axis=0)\n",
        "display(actual_f_dice.size)\n",
        "display(actual_f_dice)\n",
        "actual_f_dice_array = np.array(actual_f_dice)"
      ],
      "execution_count": null,
      "outputs": [
        {
          "output_type": "display_data",
          "data": {
            "text/plain": [
              "565"
            ]
          },
          "metadata": {
            "tags": []
          }
        },
        {
          "output_type": "display_data",
          "data": {
            "text/plain": [
              "2260    0.0\n",
              "2261    1.0\n",
              "2262    1.0\n",
              "2263    1.0\n",
              "2264    1.0\n",
              "       ... \n",
              "2820    0.0\n",
              "2821    0.0\n",
              "2822    1.0\n",
              "2823    1.0\n",
              "2824    1.0\n",
              "Length: 565, dtype: float64"
            ]
          },
          "metadata": {
            "tags": []
          }
        }
      ]
    },
    {
      "cell_type": "markdown",
      "metadata": {
        "id": "e2wLjZt0AURD"
      },
      "source": [
        "### Fixed BCE Dice"
      ]
    },
    {
      "cell_type": "code",
      "metadata": {
        "id": "rtKObeTnAX_-",
        "outputId": "58026b18-ce8a-4824-d13a-9f7d84ec65aa",
        "colab": {
          "base_uri": "https://localhost:8080/",
          "height": 242
        }
      },
      "source": [
        "##############################################################################\n",
        "# edge fixed bce dice and jrc fixed bce dice labels are same                 #\n",
        "##############################################################################\n",
        "date1_actual = ef_bce_dice[ef_bce_dice[f'{actual}_{date1}'].notna()][f'{actual}_{date1}']\n",
        "date2_actual = ef_bce_dice[ef_bce_dice[f'{actual}_{date2}'].notna()][f'{actual}_{date2}']\n",
        "date3_actual = ef_bce_dice[ef_bce_dice[f'{actual}_{date3}'].notna()][f'{actual}_{date3}']\n",
        "date4_actual = ef_bce_dice[ef_bce_dice[f'{actual}_{date4}'].notna()][f'{actual}_{date4}']\n",
        "date5_actual = ef_bce_dice[ef_bce_dice[f'{actual}_{date5}'].notna()][f'{actual}_{date5}']\n",
        "actual_f_bce_dice = pd.concat([date1_actual, date2_actual, date3_actual, date4_actual, date5_actual], axis=0)\n",
        "display(actual_f_bce_dice.size)\n",
        "display(actual_f_bce_dice)\n",
        "actual_f_bce_dice_array = np.array(actual_f_bce_dice)"
      ],
      "execution_count": null,
      "outputs": [
        {
          "output_type": "display_data",
          "data": {
            "text/plain": [
              "565"
            ]
          },
          "metadata": {
            "tags": []
          }
        },
        {
          "output_type": "display_data",
          "data": {
            "text/plain": [
              "2825    0.0\n",
              "2826    1.0\n",
              "2827    1.0\n",
              "2828    1.0\n",
              "2829    1.0\n",
              "       ... \n",
              "3385    0.0\n",
              "3386    0.0\n",
              "3387    1.0\n",
              "3388    1.0\n",
              "3389    1.0\n",
              "Length: 565, dtype: float64"
            ]
          },
          "metadata": {
            "tags": []
          }
        }
      ]
    },
    {
      "cell_type": "code",
      "metadata": {
        "id": "cMXJI5YIojuq",
        "outputId": "07eb8614-d685-46eb-ad1e-599abb79d5c1",
        "colab": {
          "base_uri": "https://localhost:8080/",
          "height": 104
        }
      },
      "source": [
        "display(np.array_equal(actual_a_bce_array, actual_a_dice_array))\n",
        "display(np.array_equal(actual_a_dice_array, actual_a_bce_dice_array))\n",
        "display(np.array_equal(actual_a_bce_dice_array, actual_f_bce_array))\n",
        "display(np.array_equal(actual_f_bce_array, actual_f_dice_array))\n",
        "display(np.array_equal(actual_f_dice_array, actual_f_bce_dice_array))"
      ],
      "execution_count": null,
      "outputs": [
        {
          "output_type": "display_data",
          "data": {
            "text/plain": [
              "True"
            ]
          },
          "metadata": {
            "tags": []
          }
        },
        {
          "output_type": "display_data",
          "data": {
            "text/plain": [
              "True"
            ]
          },
          "metadata": {
            "tags": []
          }
        },
        {
          "output_type": "display_data",
          "data": {
            "text/plain": [
              "True"
            ]
          },
          "metadata": {
            "tags": []
          }
        },
        {
          "output_type": "display_data",
          "data": {
            "text/plain": [
              "True"
            ]
          },
          "metadata": {
            "tags": []
          }
        },
        {
          "output_type": "display_data",
          "data": {
            "text/plain": [
              "True"
            ]
          },
          "metadata": {
            "tags": []
          }
        }
      ]
    },
    {
      "cell_type": "markdown",
      "metadata": {
        "id": "6ID8-Ke3w-yJ"
      },
      "source": [
        "## Model Outputs"
      ]
    },
    {
      "cell_type": "markdown",
      "metadata": {
        "id": "qjOBHCCKXwk1"
      },
      "source": [
        "### Adjusted BCE"
      ]
    },
    {
      "cell_type": "code",
      "metadata": {
        "id": "e5bqGgjCP4pc",
        "outputId": "c7f7d8c7-49be-49b8-e38e-96e7b3ae982b",
        "colab": {
          "base_uri": "https://localhost:8080/",
          "height": 466
        }
      },
      "source": [
        "#####################\n",
        "# edge adjusted bce\n",
        "#####################\n",
        "ea_bce_date1 = ea_bce[ea_bce[f'{edge_modeled}_{date1}'].notna()][f'{edge_modeled}_{date1}']\n",
        "ea_bce_date2 = ea_bce[ea_bce[f'{edge_modeled}_{date2}'].notna()][f'{edge_modeled}_{date2}']\n",
        "ea_bce_date3 = ea_bce[ea_bce[f'{edge_modeled}_{date3}'].notna()][f'{edge_modeled}_{date3}']\n",
        "ea_bce_date4 = ea_bce[ea_bce[f'{edge_modeled}_{date4}'].notna()][f'{edge_modeled}_{date4}']\n",
        "ea_bce_date5 = ea_bce[ea_bce[f'{edge_modeled}_{date5}'].notna()][f'{edge_modeled}_{date5}']\n",
        "ea_bce_modeled = pd.concat([ea_bce_date1, ea_bce_date2, ea_bce_date3,\n",
        "                            ea_bce_date4, ea_bce_date5], axis=0)\n",
        "display(ea_bce_modeled.size)\n",
        "display(ea_bce_modeled)\n",
        "ea_bce_modeled_array = np.array(ea_bce_modeled)\n",
        "\n",
        "#####################\n",
        "# jrc adjusted bce\n",
        "#####################\n",
        "ja_bce_date1 = ja_bce[ja_bce[f'{jrc_modeled}_{date1}'].notna()][f'{jrc_modeled}_{date1}']\n",
        "ja_bce_date2 = ja_bce[ja_bce[f'{jrc_modeled}_{date2}'].notna()][f'{jrc_modeled}_{date2}']\n",
        "ja_bce_date3 = ja_bce[ja_bce[f'{jrc_modeled}_{date3}'].notna()][f'{jrc_modeled}_{date3}']\n",
        "ja_bce_date4 = ja_bce[ja_bce[f'{jrc_modeled}_{date4}'].notna()][f'{jrc_modeled}_{date4}']\n",
        "ja_bce_date5 = ja_bce[ja_bce[f'{jrc_modeled}_{date5}'].notna()][f'{jrc_modeled}_{date5}']\n",
        "ja_bce_modeled = pd.concat([ja_bce_date1, ja_bce_date2, ja_bce_date3,\n",
        "                            ja_bce_date4, ja_bce_date5], axis=0)\n",
        "display(ja_bce_modeled.size)\n",
        "display(ja_bce_modeled)\n",
        "ja_bce_modeled_array = np.array(ja_bce_modeled)\n"
      ],
      "execution_count": null,
      "outputs": [
        {
          "output_type": "display_data",
          "data": {
            "text/plain": [
              "565"
            ]
          },
          "metadata": {
            "tags": []
          }
        },
        {
          "output_type": "display_data",
          "data": {
            "text/plain": [
              "0      0.0\n",
              "1      0.0\n",
              "2      1.0\n",
              "3      1.0\n",
              "4      1.0\n",
              "      ... \n",
              "560    0.0\n",
              "561    0.0\n",
              "562    1.0\n",
              "563    1.0\n",
              "564    1.0\n",
              "Length: 565, dtype: float64"
            ]
          },
          "metadata": {
            "tags": []
          }
        },
        {
          "output_type": "display_data",
          "data": {
            "text/plain": [
              "565"
            ]
          },
          "metadata": {
            "tags": []
          }
        },
        {
          "output_type": "display_data",
          "data": {
            "text/plain": [
              "0      0.0\n",
              "1      1.0\n",
              "2      1.0\n",
              "3      1.0\n",
              "4      1.0\n",
              "      ... \n",
              "560    0.0\n",
              "561    0.0\n",
              "562    1.0\n",
              "563    1.0\n",
              "564    1.0\n",
              "Length: 565, dtype: float64"
            ]
          },
          "metadata": {
            "tags": []
          }
        }
      ]
    },
    {
      "cell_type": "markdown",
      "metadata": {
        "id": "HhgngJpLF2fY"
      },
      "source": [
        "### Adjusted Dice"
      ]
    },
    {
      "cell_type": "code",
      "metadata": {
        "id": "CarQtj-_F1uD",
        "outputId": "0c1c74ab-292e-446c-c2ca-5eea540e2fe1",
        "colab": {
          "base_uri": "https://localhost:8080/",
          "height": 466
        }
      },
      "source": [
        "#####################\n",
        "# edge adjusted dice\n",
        "#####################\n",
        "ea_dice_date1 = ea_dice[ea_dice[f'{edge_modeled}_{date1}'].notna()][f'{edge_modeled}_{date1}']\n",
        "ea_dice_date2 = ea_dice[ea_dice[f'{edge_modeled}_{date2}'].notna()][f'{edge_modeled}_{date2}']\n",
        "ea_dice_date3 = ea_dice[ea_dice[f'{edge_modeled}_{date3}'].notna()][f'{edge_modeled}_{date3}']\n",
        "ea_dice_date4 = ea_dice[ea_dice[f'{edge_modeled}_{date4}'].notna()][f'{edge_modeled}_{date4}']\n",
        "ea_dice_date5 = ea_dice[ea_dice[f'{edge_modeled}_{date5}'].notna()][f'{edge_modeled}_{date5}']\n",
        "ea_dice_modeled = pd.concat([ea_dice_date1, ea_dice_date2, ea_dice_date3,\n",
        "                             ea_dice_date4, ea_dice_date5], axis=0)\n",
        "display(ea_dice_modeled.size)\n",
        "display(ea_dice_modeled)\n",
        "ea_dice_modeled_array = np.array(ea_dice_modeled)\n",
        "\n",
        "#####################\n",
        "# jrc adjusted dice\n",
        "#####################\n",
        "ja_dice_date1 = ja_dice[ja_dice[f'{jrc_modeled}_{date1}'].notna()][f'{jrc_modeled}_{date1}']\n",
        "ja_dice_date2 = ja_dice[ja_dice[f'{jrc_modeled}_{date2}'].notna()][f'{jrc_modeled}_{date2}']\n",
        "ja_dice_date3 = ja_dice[ja_dice[f'{jrc_modeled}_{date3}'].notna()][f'{jrc_modeled}_{date3}']\n",
        "ja_dice_date4 = ja_dice[ja_dice[f'{jrc_modeled}_{date4}'].notna()][f'{jrc_modeled}_{date4}']\n",
        "ja_dice_date5 = ja_dice[ja_dice[f'{jrc_modeled}_{date5}'].notna()][f'{jrc_modeled}_{date5}']\n",
        "ja_dice_modeled = pd.concat([ja_dice_date1, ja_dice_date2, ja_dice_date3,\n",
        "                             ja_dice_date4, ja_dice_date5], axis=0)\n",
        "display(ja_dice_modeled.size)\n",
        "display(ja_dice_modeled)\n",
        "ja_dice_modeled_array = np.array(ja_dice_modeled)\n"
      ],
      "execution_count": null,
      "outputs": [
        {
          "output_type": "display_data",
          "data": {
            "text/plain": [
              "565"
            ]
          },
          "metadata": {
            "tags": []
          }
        },
        {
          "output_type": "display_data",
          "data": {
            "text/plain": [
              "565     0.0\n",
              "566     0.0\n",
              "567     1.0\n",
              "568     1.0\n",
              "569     1.0\n",
              "       ... \n",
              "1125    0.0\n",
              "1126    0.0\n",
              "1127    1.0\n",
              "1128    1.0\n",
              "1129    1.0\n",
              "Length: 565, dtype: float64"
            ]
          },
          "metadata": {
            "tags": []
          }
        },
        {
          "output_type": "display_data",
          "data": {
            "text/plain": [
              "565"
            ]
          },
          "metadata": {
            "tags": []
          }
        },
        {
          "output_type": "display_data",
          "data": {
            "text/plain": [
              "565     0.0\n",
              "566     1.0\n",
              "567     1.0\n",
              "568     1.0\n",
              "569     1.0\n",
              "       ... \n",
              "1125    0.0\n",
              "1126    0.0\n",
              "1127    1.0\n",
              "1128    1.0\n",
              "1129    1.0\n",
              "Length: 565, dtype: float64"
            ]
          },
          "metadata": {
            "tags": []
          }
        }
      ]
    },
    {
      "cell_type": "markdown",
      "metadata": {
        "id": "zliV-oomHy8z"
      },
      "source": [
        "### Adjusted BCE Dice"
      ]
    },
    {
      "cell_type": "code",
      "metadata": {
        "id": "BdMvjq0PHyDK",
        "outputId": "b5f17a55-1aa9-410b-9a74-967a0e62e302",
        "colab": {
          "base_uri": "https://localhost:8080/",
          "height": 466
        }
      },
      "source": [
        "#####################\n",
        "# edge adjusted bce_dice\n",
        "#####################\n",
        "ea_bce_dice_date1 = ea_bce_dice[ea_bce_dice[f'{edge_modeled}_{date1}'].notna()][f'{edge_modeled}_{date1}']\n",
        "ea_bce_dice_date2 = ea_bce_dice[ea_bce_dice[f'{edge_modeled}_{date2}'].notna()][f'{edge_modeled}_{date2}']\n",
        "ea_bce_dice_date3 = ea_bce_dice[ea_bce_dice[f'{edge_modeled}_{date3}'].notna()][f'{edge_modeled}_{date3}']\n",
        "ea_bce_dice_date4 = ea_bce_dice[ea_bce_dice[f'{edge_modeled}_{date4}'].notna()][f'{edge_modeled}_{date4}']\n",
        "ea_bce_dice_date5 = ea_bce_dice[ea_bce_dice[f'{edge_modeled}_{date5}'].notna()][f'{edge_modeled}_{date5}']\n",
        "ea_bce_dice_modeled = pd.concat([ea_bce_dice_date1, ea_bce_dice_date2,\n",
        "                                 ea_bce_dice_date3, ea_bce_dice_date4,\n",
        "                                 ea_bce_dice_date5], axis=0)\n",
        "display(ea_bce_dice_modeled.size)\n",
        "display(ea_bce_dice_modeled)\n",
        "ea_bce_dice_modeled_array = np.array(ea_bce_dice_modeled)\n",
        "\n",
        "#####################\n",
        "# jrc adjusted bce_dice\n",
        "#####################\n",
        "ja_bce_dice_date1 = ja_bce_dice[ja_bce_dice[f'{jrc_modeled}_{date1}'].notna()][f'{jrc_modeled}_{date1}']\n",
        "ja_bce_dice_date2 = ja_bce_dice[ja_bce_dice[f'{jrc_modeled}_{date2}'].notna()][f'{jrc_modeled}_{date2}']\n",
        "ja_bce_dice_date3 = ja_bce_dice[ja_bce_dice[f'{jrc_modeled}_{date3}'].notna()][f'{jrc_modeled}_{date3}']\n",
        "ja_bce_dice_date4 = ja_bce_dice[ja_bce_dice[f'{jrc_modeled}_{date4}'].notna()][f'{jrc_modeled}_{date4}']\n",
        "ja_bce_dice_date5 = ja_bce_dice[ja_bce_dice[f'{jrc_modeled}_{date5}'].notna()][f'{jrc_modeled}_{date5}']\n",
        "ja_bce_dice_modeled = pd.concat([ja_bce_dice_date1, ja_bce_dice_date2,\n",
        "                                 ja_bce_dice_date3, ja_bce_dice_date4,\n",
        "                                 ja_bce_dice_date5], axis=0)\n",
        "display(ja_bce_dice_modeled.size)\n",
        "display(ja_bce_dice_modeled)\n",
        "ja_bce_dice_modeled_array = np.array(ja_bce_dice_modeled)\n"
      ],
      "execution_count": null,
      "outputs": [
        {
          "output_type": "display_data",
          "data": {
            "text/plain": [
              "565"
            ]
          },
          "metadata": {
            "tags": []
          }
        },
        {
          "output_type": "display_data",
          "data": {
            "text/plain": [
              "1130    0.0\n",
              "1131    0.0\n",
              "1132    1.0\n",
              "1133    1.0\n",
              "1134    1.0\n",
              "       ... \n",
              "1690    0.0\n",
              "1691    0.0\n",
              "1692    1.0\n",
              "1693    1.0\n",
              "1694    1.0\n",
              "Length: 565, dtype: float64"
            ]
          },
          "metadata": {
            "tags": []
          }
        },
        {
          "output_type": "display_data",
          "data": {
            "text/plain": [
              "565"
            ]
          },
          "metadata": {
            "tags": []
          }
        },
        {
          "output_type": "display_data",
          "data": {
            "text/plain": [
              "1130    0.0\n",
              "1131    1.0\n",
              "1132    1.0\n",
              "1133    1.0\n",
              "1134    1.0\n",
              "       ... \n",
              "1690    0.0\n",
              "1691    0.0\n",
              "1692    1.0\n",
              "1693    1.0\n",
              "1694    1.0\n",
              "Length: 565, dtype: float64"
            ]
          },
          "metadata": {
            "tags": []
          }
        }
      ]
    },
    {
      "cell_type": "markdown",
      "metadata": {
        "id": "1U2OBVu9KjbD"
      },
      "source": [
        "### Fixed BCE"
      ]
    },
    {
      "cell_type": "code",
      "metadata": {
        "id": "oeYkyDu3KgId",
        "outputId": "eb1d332b-a73c-4c97-bbef-5c45a65202aa",
        "colab": {
          "base_uri": "https://localhost:8080/",
          "height": 466
        }
      },
      "source": [
        "#####################\n",
        "# edge fixed bce\n",
        "#####################\n",
        "ef_bce_date1 = ef_bce[ef_bce[f'{edge_modeled}_{date1}'].notna()][f'{edge_modeled}_{date1}']\n",
        "ef_bce_date2 = ef_bce[ef_bce[f'{edge_modeled}_{date2}'].notna()][f'{edge_modeled}_{date2}']\n",
        "ef_bce_date3 = ef_bce[ef_bce[f'{edge_modeled}_{date3}'].notna()][f'{edge_modeled}_{date3}']\n",
        "ef_bce_date4 = ef_bce[ef_bce[f'{edge_modeled}_{date4}'].notna()][f'{edge_modeled}_{date4}']\n",
        "ef_bce_date5 = ef_bce[ef_bce[f'{edge_modeled}_{date5}'].notna()][f'{edge_modeled}_{date5}']\n",
        "ef_bce_modeled = pd.concat([ef_bce_date1, ef_bce_date2, ef_bce_date3,\n",
        "                            ef_bce_date4, ef_bce_date5], axis=0)\n",
        "display(ef_bce_modeled.size)\n",
        "display(ef_bce_modeled)\n",
        "ef_bce_modeled_array = np.array(ef_bce_modeled)\n",
        "\n",
        "#####################\n",
        "# jrc fixed bce\n",
        "#####################\n",
        "jf_bce_date1 = jf_bce[jf_bce[f'{jrc_modeled}_{date1}'].notna()][f'{jrc_modeled}_{date1}']\n",
        "jf_bce_date2 = jf_bce[jf_bce[f'{jrc_modeled}_{date2}'].notna()][f'{jrc_modeled}_{date2}']\n",
        "jf_bce_date3 = jf_bce[jf_bce[f'{jrc_modeled}_{date3}'].notna()][f'{jrc_modeled}_{date3}']\n",
        "jf_bce_date4 = jf_bce[jf_bce[f'{jrc_modeled}_{date4}'].notna()][f'{jrc_modeled}_{date4}']\n",
        "jf_bce_date5 = jf_bce[jf_bce[f'{jrc_modeled}_{date5}'].notna()][f'{jrc_modeled}_{date5}']\n",
        "jf_bce_modeled = pd.concat([jf_bce_date1, jf_bce_date2, jf_bce_date3,\n",
        "                            jf_bce_date4, jf_bce_date5], axis=0)\n",
        "display(jf_bce_modeled.size)\n",
        "display(jf_bce_modeled)\n",
        "jf_bce_modeled_array = np.array(jf_bce_modeled)\n"
      ],
      "execution_count": null,
      "outputs": [
        {
          "output_type": "display_data",
          "data": {
            "text/plain": [
              "565"
            ]
          },
          "metadata": {
            "tags": []
          }
        },
        {
          "output_type": "display_data",
          "data": {
            "text/plain": [
              "1695    0.0\n",
              "1696    0.0\n",
              "1697    1.0\n",
              "1698    1.0\n",
              "1699    1.0\n",
              "       ... \n",
              "2255    0.0\n",
              "2256    0.0\n",
              "2257    1.0\n",
              "2258    1.0\n",
              "2259    1.0\n",
              "Length: 565, dtype: float64"
            ]
          },
          "metadata": {
            "tags": []
          }
        },
        {
          "output_type": "display_data",
          "data": {
            "text/plain": [
              "565"
            ]
          },
          "metadata": {
            "tags": []
          }
        },
        {
          "output_type": "display_data",
          "data": {
            "text/plain": [
              "1695    0.0\n",
              "1696    1.0\n",
              "1697    1.0\n",
              "1698    1.0\n",
              "1699    1.0\n",
              "       ... \n",
              "2255    0.0\n",
              "2256    0.0\n",
              "2257    1.0\n",
              "2258    1.0\n",
              "2259    1.0\n",
              "Length: 565, dtype: float64"
            ]
          },
          "metadata": {
            "tags": []
          }
        }
      ]
    },
    {
      "cell_type": "markdown",
      "metadata": {
        "id": "gHAqB8AYLIr7"
      },
      "source": [
        "### Fixed Dice"
      ]
    },
    {
      "cell_type": "code",
      "metadata": {
        "id": "PYcr0Z1qLOFf",
        "outputId": "1976ff85-b433-4e0a-9911-182e189cf339",
        "colab": {
          "base_uri": "https://localhost:8080/",
          "height": 466
        }
      },
      "source": [
        "#####################\n",
        "# edge fixed dice\n",
        "#####################\n",
        "ef_dice_date1 = ef_dice[ef_dice[f'{edge_modeled}_{date1}'].notna()][f'{edge_modeled}_{date1}']\n",
        "ef_dice_date2 = ef_dice[ef_dice[f'{edge_modeled}_{date2}'].notna()][f'{edge_modeled}_{date2}']\n",
        "ef_dice_date3 = ef_dice[ef_dice[f'{edge_modeled}_{date3}'].notna()][f'{edge_modeled}_{date3}']\n",
        "ef_dice_date4 = ef_dice[ef_dice[f'{edge_modeled}_{date4}'].notna()][f'{edge_modeled}_{date4}']\n",
        "ef_dice_date5 = ef_dice[ef_dice[f'{edge_modeled}_{date5}'].notna()][f'{edge_modeled}_{date5}']\n",
        "ef_dice_modeled = pd.concat([ef_dice_date1, ef_dice_date2, ef_dice_date3,\n",
        "                             ef_dice_date4, ef_dice_date5], axis=0)\n",
        "display(ef_dice_modeled.size)\n",
        "display(ef_dice_modeled)\n",
        "ef_dice_modeled_array = np.array(ef_dice_modeled)\n",
        "\n",
        "#####################\n",
        "# jrc fixed dice\n",
        "#####################\n",
        "jf_dice_date1 = jf_dice[jf_dice[f'{jrc_modeled}_{date1}'].notna()][f'{jrc_modeled}_{date1}']\n",
        "jf_dice_date2 = jf_dice[jf_dice[f'{jrc_modeled}_{date2}'].notna()][f'{jrc_modeled}_{date2}']\n",
        "jf_dice_date3 = jf_dice[jf_dice[f'{jrc_modeled}_{date3}'].notna()][f'{jrc_modeled}_{date3}']\n",
        "jf_dice_date4 = jf_dice[jf_dice[f'{jrc_modeled}_{date4}'].notna()][f'{jrc_modeled}_{date4}']\n",
        "jf_dice_date5 = jf_dice[jf_dice[f'{jrc_modeled}_{date5}'].notna()][f'{jrc_modeled}_{date5}']\n",
        "jf_dice_modeled = pd.concat([jf_dice_date1, jf_dice_date2, jf_dice_date3,\n",
        "                             jf_dice_date4, jf_dice_date5], axis=0)\n",
        "display(jf_dice_modeled.size)\n",
        "display(jf_dice_modeled)\n",
        "jf_dice_modeled_array = np.array(jf_dice_modeled)\n"
      ],
      "execution_count": null,
      "outputs": [
        {
          "output_type": "display_data",
          "data": {
            "text/plain": [
              "565"
            ]
          },
          "metadata": {
            "tags": []
          }
        },
        {
          "output_type": "display_data",
          "data": {
            "text/plain": [
              "2260    0.0\n",
              "2261    0.0\n",
              "2262    1.0\n",
              "2263    1.0\n",
              "2264    1.0\n",
              "       ... \n",
              "2820    0.0\n",
              "2821    0.0\n",
              "2822    1.0\n",
              "2823    1.0\n",
              "2824    1.0\n",
              "Length: 565, dtype: float64"
            ]
          },
          "metadata": {
            "tags": []
          }
        },
        {
          "output_type": "display_data",
          "data": {
            "text/plain": [
              "565"
            ]
          },
          "metadata": {
            "tags": []
          }
        },
        {
          "output_type": "display_data",
          "data": {
            "text/plain": [
              "2260    0.0\n",
              "2261    1.0\n",
              "2262    1.0\n",
              "2263    1.0\n",
              "2264    1.0\n",
              "       ... \n",
              "2820    0.0\n",
              "2821    0.0\n",
              "2822    1.0\n",
              "2823    1.0\n",
              "2824    1.0\n",
              "Length: 565, dtype: float64"
            ]
          },
          "metadata": {
            "tags": []
          }
        }
      ]
    },
    {
      "cell_type": "markdown",
      "metadata": {
        "id": "tkwEBCLHLr40"
      },
      "source": [
        "### Fixed BCE Dice"
      ]
    },
    {
      "cell_type": "code",
      "metadata": {
        "id": "XhJgd40FLvO6",
        "outputId": "bd348086-cbe7-45b1-e88c-f0da6d6790a6",
        "colab": {
          "base_uri": "https://localhost:8080/",
          "height": 484
        }
      },
      "source": [
        "#####################\n",
        "# edge fixed bce_dice\n",
        "#####################\n",
        "ef_bce_dice_date1 = ef_bce_dice[ef_bce_dice[f'{edge_modeled}_{date1}'].notna()][f'{edge_modeled}_{date1}']\n",
        "ef_bce_dice_date2 = ef_bce_dice[ef_bce_dice[f'{edge_modeled}_{date2}'].notna()][f'{edge_modeled}_{date2}']\n",
        "ef_bce_dice_date3 = ef_bce_dice[ef_bce_dice[f'{edge_modeled}_{date3}'].notna()][f'{edge_modeled}_{date3}']\n",
        "ef_bce_dice_date4 = ef_bce_dice[ef_bce_dice[f'{edge_modeled}_{date4}'].notna()][f'{edge_modeled}_{date4}']\n",
        "ef_bce_dice_date5 = ef_bce_dice[ef_bce_dice[f'{edge_modeled}_{date5}'].notna()][f'{edge_modeled}_{date5}']\n",
        "ef_bce_dice_modeled = pd.concat([ef_bce_dice_date1, ef_bce_dice_date2,\n",
        "                                 ef_bce_dice_date3, ef_bce_dice_date4,\n",
        "                                 ef_bce_dice_date5], axis=0)\n",
        "display(ef_bce_dice_modeled.size)\n",
        "display(ef_bce_dice_modeled)\n",
        "display(type(ef_bce_dice_modeled))\n",
        "ef_bce_dice_modeled_array = np.array(ef_bce_dice_modeled)\n",
        "\n",
        "#####################\n",
        "# jrc fixed bce_dice\n",
        "#####################\n",
        "jf_bce_dice_date1 = jf_bce_dice[jf_bce_dice[f'{jrc_modeled}_{date1}'].notna()][f'{jrc_modeled}_{date1}']\n",
        "jf_bce_dice_date2 = jf_bce_dice[jf_bce_dice[f'{jrc_modeled}_{date2}'].notna()][f'{jrc_modeled}_{date2}']\n",
        "jf_bce_dice_date3 = jf_bce_dice[jf_bce_dice[f'{jrc_modeled}_{date3}'].notna()][f'{jrc_modeled}_{date3}']\n",
        "jf_bce_dice_date4 = jf_bce_dice[jf_bce_dice[f'{jrc_modeled}_{date4}'].notna()][f'{jrc_modeled}_{date4}']\n",
        "jf_bce_dice_date5 = jf_bce_dice[jf_bce_dice[f'{jrc_modeled}_{date5}'].notna()][f'{jrc_modeled}_{date5}']\n",
        "jf_bce_dice_modeled = pd.concat([jf_bce_dice_date1, jf_bce_dice_date2,\n",
        "                                 jf_bce_dice_date3, jf_bce_dice_date4,\n",
        "                                 jf_bce_dice_date5], axis=0)\n",
        "display(jf_bce_dice_modeled.size)\n",
        "display(jf_bce_dice_modeled)\n",
        "jf_bce_dice_modeled_array = np.array(jf_bce_dice_modeled)\n"
      ],
      "execution_count": null,
      "outputs": [
        {
          "output_type": "display_data",
          "data": {
            "text/plain": [
              "565"
            ]
          },
          "metadata": {
            "tags": []
          }
        },
        {
          "output_type": "display_data",
          "data": {
            "text/plain": [
              "2825    0.0\n",
              "2826    0.0\n",
              "2827    1.0\n",
              "2828    1.0\n",
              "2829    1.0\n",
              "       ... \n",
              "3385    0.0\n",
              "3386    0.0\n",
              "3387    1.0\n",
              "3388    1.0\n",
              "3389    1.0\n",
              "Length: 565, dtype: float64"
            ]
          },
          "metadata": {
            "tags": []
          }
        },
        {
          "output_type": "display_data",
          "data": {
            "text/plain": [
              "pandas.core.series.Series"
            ]
          },
          "metadata": {
            "tags": []
          }
        },
        {
          "output_type": "display_data",
          "data": {
            "text/plain": [
              "565"
            ]
          },
          "metadata": {
            "tags": []
          }
        },
        {
          "output_type": "display_data",
          "data": {
            "text/plain": [
              "2825    0.0\n",
              "2826    1.0\n",
              "2827    1.0\n",
              "2828    1.0\n",
              "2829    1.0\n",
              "       ... \n",
              "3385    0.0\n",
              "3386    0.0\n",
              "3387    1.0\n",
              "3388    1.0\n",
              "3389    1.0\n",
              "Length: 565, dtype: float64"
            ]
          },
          "metadata": {
            "tags": []
          }
        }
      ]
    },
    {
      "cell_type": "markdown",
      "metadata": {
        "id": "PyD4rkCConr1"
      },
      "source": [
        "# K-Fold with Cochrans Q"
      ]
    },
    {
      "cell_type": "code",
      "metadata": {
        "id": "lGj18Tu_ZSgd"
      },
      "source": [
        "from sklearn.model_selection import StratifiedKFold\n",
        "from sklearn.model_selection import RepeatedKFold\n",
        "from mlxtend.evaluate import cochrans_q\n",
        "\n",
        "skf = StratifiedKFold(n_splits=10, random_state=2652124, shuffle=True)"
      ],
      "execution_count": null,
      "outputs": []
    },
    {
      "cell_type": "code",
      "metadata": {
        "id": "jq_oRGIch3Jw"
      },
      "source": [
        "# ###################StratifiedKFold\n",
        "\n",
        "# #####split and shuffle all of the 12 models and the 1 actual set\n",
        "\n",
        "# # skf = StratifiedKFold(n_splits=10)\n",
        "# # # skf.get_n_splits(X, y)\n",
        "# skf = StratifiedKFold(n_splits=10, random_state=2652124, shuffle=True)\n",
        "# # print(skf)\n",
        "# # for train_index, validation_index in skf.split(actual_all_planet, ea_bce_modeled_all, ja_bce_modeled_all):\n",
        "# #    print(\"TRAIN_actual_all_planet:\", actual_all_planet[train_index], \"VALIDATION_actual_all_planet:\", actual_all_planet[validation_index])\n",
        "# #    print(\"TRAIN_ea_bce_modeled_all:\", ea_bce_modeled_all[train_index], \"VALIDATION_ea_bce_modeled_all:\", ea_bce_modeled_all[validation_index])\n",
        "# #    print(\"TRAIN_ja_bce_modeled_all:\", ja_bce_modeled_all[train_index], \"VALIDATION_ja_bce_modeled_all:\", ja_bce_modeled_all[validation_index])\n",
        "# #    actual_all_planet_train, actual_all_planet_validation = actual_all_planet[train_index], actual_all_planet[validation_index]\n",
        "# #    ea_bce_modeled_all_train, ea_bce_modeled_all_validation = ea_bce_modeled_all[train_index], ea_bce_modeled_all[validation_index]\n",
        "# #    ja_bce_modeled_all_train, ja_bce_modeled_all_validation = ja_bce_modeled_all[train_index], ja_bce_modeled_all[validation_index]\n",
        "\n",
        "\n",
        "\n",
        "# for train_index, validation_index in skf.split(actual_f_bce_dice_all, jf_bce_dice_modeled_all, ef_bce_dice_modeled_all, jf_dice_modeled_all, ef_dice_modeled_all, jf_bce_modeled_all, ef_bce_modeled_all, ja_bce_dice_modeled_all, ea_bce_dice_modeled_all, ja_dice_modeled_all, ea_dice_modeled_all, ja_bce_modeled_all, ea_bce_modeled_all):\n",
        "#   #  print(\"TRAIN_actual_f_bce_dice_all:\", actual_f_bce_dice_all[train_index], \"VALIDATION_actual_f_bce_dice_all:\", actual_f_bce_dice_all[validation_index])\n",
        "#   #  print(\"TRAIN_jf_bce_dice_modeled_all:\", jf_bce_dice_modeled_all[train_index], \"VALIDATION_jf_bce_dice_modeled_all:\", jf_bce_dice_modeled_all[validation_index])\n",
        "#   #  print(\"TRAIN_ef_bce_dice_modeled_all:\", ef_bce_dice_modeled_all[train_index], \"VALIDATION_ef_bce_dice_modeled_all:\", ef_bce_dice_modeled_all[validation_index])\n",
        "#   #  print(\"TRAIN_jf_dice_modeled_all:\", jf_dice_modeled_all[train_index], \"VALIDATION_jf_dice_modeled_all:\", jf_dice_modeled_all[validation_index])\n",
        "#   #  print(\"TRAIN_ef_dice_modeled_all:\", ef_dice_modeled_all[train_index], \"VALIDATION_ef_dice_modeled_all:\", ef_dice_modeled_all[validation_index])\n",
        "#   #  print(\"TRAIN_jf_bce_modeled_all:\", jf_bce_modeled_all[train_index], \"VALIDATION_jf_bce_modeled_all:\", jf_bce_modeled_all[validation_index])\n",
        "#   #  print(\"TRAIN_ef_bce_modeled_all:\", ef_bce_modeled_all[train_index], \"VALIDATION_ef_bce_modeled_all:\", ef_bce_modeled_all[validation_index])\n",
        "#   #  print(\"TRAIN_ja_bce_dice_modeled_all:\", ja_bce_dice_modeled_all[train_index], \"VALIDATION_ja_bce_dice_modeled_all:\", ja_bce_dice_modeled_all[validation_index])\n",
        "#   #  print(\"TRAIN_ea_bce_dice_modeled_alll:\", ea_bce_dice_modeled_all[train_index], \"VALIDATION_ea_bce_dice_modeled_all:\", ea_bce_dice_modeled_all[validation_index])\n",
        "#   #  print(\"TRAIN_ja_dice_modeled_all:\", ja_dice_modeled_all[train_index], \"VALIDATION_ja_dice_modeled_all:\", ja_dice_modeled_all[validation_index])\n",
        "#   #  print(\"TRAIN_ea_dice_modeled_all:\", ea_dice_modeled_all[train_index], \"VALIDATION_ea_dice_modeled_all:\", ea_dice_modeled_all[validation_index])\n",
        "#   #  print(\"TRAIN_ja_bce_modeled_all:\", ja_bce_modeled_all[train_index], \"VALIDATION_ja_bce_modeled_all:\", ea_dice_modeled_all[validation_index])\n",
        "#   #  print(\"TRAIN_ea_bce_modeled_all:\", ea_bce_modeled_all[train_index], \"VALIDATION_ea_bce_modeled_all:\", ea_bce_modeled_all[validation_index])\n",
        "#    actual_f_bce_dice_all_train, actual_f_bce_dice_all_validation = actual_f_bce_dice_all[train_index], actual_f_bce_dice_all[validation_index]\n",
        "#    jf_bce_dice_modeled_all_train, jf_bce_dice_modeled_all_validation = jf_bce_dice_modeled_all[train_index], jf_bce_dice_modeled_all[validation_index]\n",
        "#    ef_bce_dice_modeled_all_train, ef_bce_dice_modeled_all_validation = ef_bce_dice_modeled_all[train_index], ef_bce_dice_modeled_all[validation_index]\n",
        "#    jf_dice_modeled_all_train, jf_dice_modeled_all_validation = jf_dice_modeled_all[train_index], jf_dice_modeled_all[validation_index]\n",
        "#    ef_dice_modeled_all_all_train, ef_dice_modeled_all_validation = ef_dice_modeled_all[train_index], ef_dice_modeled_all[validation_index]\n",
        "#    jf_bce_modeled_all_train, jf_bce_modeled_all_validation = jf_bce_modeled_all[train_index], jf_bce_modeled_all[validation_index]\n",
        "#    ef_bce_modeled_all_train, ef_bce_modeled_alll_validation = ef_bce_modeled_all[train_index], ef_bce_modeled_all[validation_index]\n",
        "#    ja_bce_dice_modeled_alll_train, ja_bce_dice_modeled_all_validation = ja_bce_dice_modeled_all[train_index], ja_bce_dice_modeled_all[validation_index]\n",
        "#    ea_bce_dice_modeled_all_train, ea_bce_dice_modeled_all_validation = ea_bce_dice_modeled_all[train_index], ea_bce_dice_modeled_all[validation_index]\n",
        "#    ja_dice_modeled_all_train, ja_dice_modeled_all_validation = ja_dice_modeled_all[train_index], ja_dice_modeled_all[validation_index]\n",
        "#    ea_dice_modeled_all, ea_dice_modeled_all_validation = ea_dice_modeled_all[train_index], ea_dice_modeled_all[validation_index]\n",
        "#    ja_bce_modeled_all_train, ja_bce_modeled_alll_validation = ja_bce_modeled_all[train_index], ja_bce_modeled_all[validation_index]\n",
        "#    ea_bce_modeled_all_train, ea_bce_modeled_all_validation = ea_bce_modeled_all[train_index], ea_bce_modeled_all[validation_index]\n",
        "\n",
        "# print(\"actual_f_bce_dice_all_train\",actual_f_bce_dice_all_train.size)\n",
        "# print(\"actual_f_bce_dice_all_validation\",actual_f_bce_dice_all_validation.size)\n",
        "# print(\"jf_bce_dice_modeled_all_train\",jf_bce_dice_modeled_all_train.size)\n",
        "# print(\"jf_bce_dice_modeled_all_validation\",jf_bce_dice_modeled_all_validation.size)\n",
        "# print(\"ef_bce_dice_modeled_all_train\",ef_bce_dice_modeled_all_train.size)\n",
        "# print(\"ef_bce_dice_modeled_all_validation\",ef_bce_dice_modeled_all_validation.size)\n",
        "# print(\"jf_dice_modeled_all_train\",jf_dice_modeled_all_train.size)\n",
        "# print(\"jf_dice_modeled_all_validation\",jf_dice_modeled_all_validation.size)\n",
        "# print(\"ef_dice_modeled_all_all_train\",ef_dice_modeled_all_all_train.size)\n",
        "# print(\"ef_dice_modeled_all_validation\",ef_dice_modeled_all_validation.size)  \n",
        "# print(\"jf_bce_modeled_all_train\",jf_bce_modeled_all_train.size)  \n",
        "# print(\"jf_bce_modeled_all_validation\",jf_bce_modeled_all_validation.size)  \n",
        "# print(\"ef_bce_modeled_all_train\",ef_bce_modeled_all_train.size)\n",
        "# print(\"ef_bce_modeled_alll_validation\",ef_bce_modeled_alll_validation.size)\n",
        "# print(\"ja_bce_dice_modeled_alll_train\",ja_bce_dice_modeled_alll_train.size)\n",
        "# print(\"ja_bce_dice_modeled_all_validation\",ja_bce_dice_modeled_all_validation.size)\n",
        "# print(\"ea_bce_dice_modeled_all_train\",ea_bce_dice_modeled_all_train.size)\n",
        "# print(\"ea_bce_dice_modeled_all_validation\",ea_bce_dice_modeled_all_validation.size)\n",
        "# print(\"ja_dice_modeled_all_train\",ja_dice_modeled_all_train.size) \n",
        "# print(\"ja_dice_modeled_all_validation\",ja_dice_modeled_all_validation.size)   \n",
        "# print(\"ea_dice_modeled_all\",ea_dice_modeled_all.size)  \n",
        "# print(\"ea_dice_modeled_all_validation\",ea_dice_modeled_all_validation.size)  \n",
        "# print(\"ja_bce_modeled_all_train\",ja_bce_modeled_all_train.size)  \n",
        "# print(\"ja_bce_modeled_alll_validation\",ja_bce_modeled_alll_validation.size)  \n",
        "# print(\"ea_bce_modeled_all_train\",ea_bce_modeled_all_train.size)\n",
        "# print(\"ea_bce_modeled_all_validation\",ea_bce_modeled_all_validation.size)  \n"
      ],
      "execution_count": null,
      "outputs": []
    },
    {
      "cell_type": "markdown",
      "metadata": {
        "id": "lPInFb0AhgwU"
      },
      "source": [
        "## Adjusted BCE"
      ]
    },
    {
      "cell_type": "code",
      "metadata": {
        "id": "eLwsWhbQx39o",
        "outputId": "027c1171-1356-4f0e-b5fe-0fdec45c6ef6",
        "colab": {
          "base_uri": "https://localhost:8080/",
          "height": 220
        }
      },
      "source": [
        "# edge adjusted bce\n",
        "ea_bce_train_accuracies = []\n",
        "ea_bce_validate_accuracies = []\n",
        "# jrc adjusted bce\n",
        "ja_bce_train_accuracies = []\n",
        "ja_bce_validate_accuracies = []\n",
        "\n",
        "# cochran q and p\n",
        "qs_a_bce_train = []\n",
        "ps_a_bce_train = []\n",
        "qs_a_bce_validate = []\n",
        "ps_a_bce_validate = []\n",
        "\n",
        "for train_index, validate_index in skf.split(actual_a_bce_array, ea_bce_modeled_array, ja_bce_modeled_array):\n",
        "  # actual labels\n",
        "  actual_a_bce_train, actual_a_bce_validate = actual_a_bce_array[train_index], actual_a_bce_array[validate_index]\n",
        "\n",
        "  # adjusted bce\n",
        "  ea_bce_train, ea_bce_validate = ea_bce_modeled_array[train_index], ea_bce_modeled_array[validate_index]\n",
        "  ja_bce_train, ja_bce_validate = ja_bce_modeled_array[train_index], ja_bce_modeled_array[validate_index]\n",
        "\n",
        "  # accuracies\n",
        "  # edge adjusted bce\n",
        "  ea_bce_train_accuracy = accuracy_score(actual_a_bce_train, ea_bce_train)\n",
        "  ea_bce_train_accuracies.append(ea_bce_train_accuracy)\n",
        "  ea_bce_validate_accuracy = accuracy_score(actual_a_bce_validate, ea_bce_validate)\n",
        "  ea_bce_validate_accuracies.append(ea_bce_validate_accuracy)\n",
        "\n",
        "  # jrc adjusted bce\n",
        "  ja_bce_train_accuracy = accuracy_score(actual_a_bce_train, ja_bce_train)\n",
        "  ja_bce_train_accuracies.append(ja_bce_train_accuracy)\n",
        "  ja_bce_validate_accuracy = accuracy_score(actual_a_bce_validate, ja_bce_validate)\n",
        "  ja_bce_validate_accuracies.append(ja_bce_validate_accuracy)\n",
        "\n",
        "  # cochran q and p\n",
        "  # adjusted bce\n",
        "  q_a_bce_train, p_a_bce_train = cochrans_q(actual_a_bce_train.ravel(), ea_bce_train.ravel(), ja_bce_train.ravel())\n",
        "  qs_a_bce_train.append(q_a_bce_train)\n",
        "  ps_a_bce_train.append(p_a_bce_train)\n",
        "  q_a_bce_validate, p_a_bce_validate = cochrans_q(actual_a_bce_validate.ravel(), ea_bce_validate.ravel(), ja_bce_validate.ravel())\n",
        "  qs_a_bce_validate.append(q_a_bce_validate)\n",
        "  ps_a_bce_validate.append(p_a_bce_validate)\n",
        "\n",
        "# accuracy\n",
        "display(f'ea_bce_train_accuracy: {np.mean(np.array(ea_bce_train_accuracies))}')\n",
        "display(f'ea_bce_validate_accuracy: {np.mean(np.array(ea_bce_validate_accuracies))}')\n",
        "display(f'ja_bce_train_accuracy: {np.mean(np.array(ja_bce_train_accuracies))}')\n",
        "display(f'ja_bce_validate_accuracy: {np.mean(np.array(ja_bce_validate_accuracies))}')\n",
        "\n",
        "# cochran q and p\n",
        "# if nan make that 0 (should we not?)\n",
        "# if not comment them\n",
        "qs_a_bce_train = [0. if np.isnan(_x) else _x for _x in qs_a_bce_train]\n",
        "ps_a_bce_train = [0. if np.isnan(_x) else _x for _x in ps_a_bce_train]\n",
        "qs_a_bce_validate = [0. if np.isnan(_x) else _x for _x in qs_a_bce_validate]\n",
        "ps_a_bce_validate = [0. if np.isnan(_x) else _x for _x in ps_a_bce_validate]\n",
        "\n",
        "display(f'q_a_bce_train: {np.mean(np.array(qs_a_bce_train))}')\n",
        "display(f'p_a_bce_train: {np.mean(np.array(ps_a_bce_train))}')\n",
        "display(f'q_a_bce_validate: {np.mean(np.array(qs_a_bce_validate))}')\n",
        "display(f'p_a_bce_validate: {np.mean(np.array(ps_a_bce_validate))}')"
      ],
      "execution_count": null,
      "outputs": [
        {
          "output_type": "stream",
          "text": [
            "/usr/local/lib/python3.6/dist-packages/mlxtend/evaluate/cochrans_q.py:75: FutureWarning: arrays to stack must be passed as a \"sequence\" type such as list or tuple. Support for non-sequence iterables such as generators is deprecated as of NumPy 1.16 and will raise an error in the future.\n",
            "  mod in y_model_predictions)).astype(int)\n"
          ],
          "name": "stderr"
        },
        {
          "output_type": "display_data",
          "data": {
            "application/vnd.google.colaboratory.intrinsic+json": {
              "type": "string"
            },
            "text/plain": [
              "'ea_bce_train_accuracy: 0.927433751527621'"
            ]
          },
          "metadata": {
            "tags": []
          }
        },
        {
          "output_type": "display_data",
          "data": {
            "application/vnd.google.colaboratory.intrinsic+json": {
              "type": "string"
            },
            "text/plain": [
              "'ea_bce_validate_accuracy: 0.9274436090225564'"
            ]
          },
          "metadata": {
            "tags": []
          }
        },
        {
          "output_type": "display_data",
          "data": {
            "application/vnd.google.colaboratory.intrinsic+json": {
              "type": "string"
            },
            "text/plain": [
              "'ja_bce_train_accuracy: 0.9327432978048668'"
            ]
          },
          "metadata": {
            "tags": []
          }
        },
        {
          "output_type": "display_data",
          "data": {
            "application/vnd.google.colaboratory.intrinsic+json": {
              "type": "string"
            },
            "text/plain": [
              "'ja_bce_validate_accuracy: 0.9327380952380953'"
            ]
          },
          "metadata": {
            "tags": []
          }
        },
        {
          "output_type": "display_data",
          "data": {
            "application/vnd.google.colaboratory.intrinsic+json": {
              "type": "string"
            },
            "text/plain": [
              "'q_a_bce_train: 0.9928571428571429'"
            ]
          },
          "metadata": {
            "tags": []
          }
        },
        {
          "output_type": "display_data",
          "data": {
            "application/vnd.google.colaboratory.intrinsic+json": {
              "type": "string"
            },
            "text/plain": [
              "'p_a_bce_train: 0.36673265483192824'"
            ]
          },
          "metadata": {
            "tags": []
          }
        },
        {
          "output_type": "display_data",
          "data": {
            "application/vnd.google.colaboratory.intrinsic+json": {
              "type": "string"
            },
            "text/plain": [
              "'q_a_bce_validate: 0.7'"
            ]
          },
          "metadata": {
            "tags": []
          }
        },
        {
          "output_type": "display_data",
          "data": {
            "application/vnd.google.colaboratory.intrinsic+json": {
              "type": "string"
            },
            "text/plain": [
              "'p_a_bce_validate: 0.2743851746364837'"
            ]
          },
          "metadata": {
            "tags": []
          }
        }
      ]
    },
    {
      "cell_type": "markdown",
      "metadata": {
        "id": "p38VhPRty3fR"
      },
      "source": [
        "## Adjusted Dice"
      ]
    },
    {
      "cell_type": "code",
      "metadata": {
        "id": "LRc52L8-y8T-",
        "outputId": "4bce335a-9e74-45e0-f5ec-9e76e0ab4f27",
        "colab": {
          "base_uri": "https://localhost:8080/",
          "height": 220
        }
      },
      "source": [
        "# edge adjusted dice\n",
        "ea_dice_train_accuracies = []\n",
        "ea_dice_validate_accuracies = []\n",
        "# jrc adjusted dice\n",
        "ja_dice_train_accuracies = []\n",
        "ja_dice_validate_accuracies = []\n",
        "\n",
        "# cochran q and p\n",
        "qs_a_dice_train = []\n",
        "ps_a_dice_train = []\n",
        "qs_a_dice_validate = []\n",
        "ps_a_dice_validate = []\n",
        "\n",
        "for train_index, validate_index in skf.split(actual_a_dice_array, ea_dice_modeled_array, ja_dice_modeled_array):\n",
        "  # actual labels\n",
        "  actual_a_dice_train, actual_a_dice_validate = actual_a_dice_array[train_index], actual_a_dice_array[validate_index]\n",
        "\n",
        "  # adjusted dice\n",
        "  ea_dice_train, ea_dice_validate = ea_dice_modeled_array[train_index], ea_dice_modeled_array[validate_index]\n",
        "  ja_dice_train, ja_dice_validate = ja_dice_modeled_array[train_index], ja_dice_modeled_array[validate_index]\n",
        "\n",
        "  # accuracies\n",
        "  # edge adjusted dice\n",
        "  ea_dice_train_accuracy = accuracy_score(actual_a_dice_train, ea_dice_train)\n",
        "  ea_dice_train_accuracies.append(ea_dice_train_accuracy)\n",
        "  ea_dice_validate_accuracy = accuracy_score(actual_a_dice_validate, ea_dice_validate)\n",
        "  ea_dice_validate_accuracies.append(ea_dice_validate_accuracy)\n",
        "\n",
        "  # jrc adjusted dice\n",
        "  ja_dice_train_accuracy = accuracy_score(actual_a_dice_train, ja_dice_train)\n",
        "  ja_dice_train_accuracies.append(ja_dice_train_accuracy)\n",
        "  ja_dice_validate_accuracy = accuracy_score(actual_a_dice_validate, ja_dice_validate)\n",
        "  ja_dice_validate_accuracies.append(ja_dice_validate_accuracy)\n",
        "\n",
        "  # cochran q and p\n",
        "  # adjusted dice\n",
        "  q_a_dice_train, p_a_dice_train = cochrans_q(actual_a_dice_train.ravel(), ea_dice_train.ravel(), ja_dice_train.ravel())\n",
        "  qs_a_dice_train.append(q_a_dice_train)\n",
        "  ps_a_dice_train.append(p_a_dice_train)\n",
        "  q_a_dice_validate, p_a_dice_validate = cochrans_q(actual_a_dice_validate.ravel(), ea_dice_validate.ravel(), ja_dice_validate.ravel())\n",
        "  qs_a_dice_validate.append(q_a_dice_validate)\n",
        "  ps_a_dice_validate.append(p_a_dice_validate)\n",
        "\n",
        "# accuracy\n",
        "display(f'ea_dice_train_accuracy: {np.mean(np.array(ea_dice_train_accuracies))}')\n",
        "display(f'ea_dice_validate_accuracy: {np.mean(np.array(ea_dice_validate_accuracies))}')\n",
        "display(f'ja_dice_train_accuracy: {np.mean(np.array(ja_dice_train_accuracies))}')\n",
        "display(f'ja_dice_validate_accuracy: {np.mean(np.array(ja_dice_validate_accuracies))}')\n",
        "\n",
        "# cochran q and p\n",
        "# if nan make that 0 (should we not?)\n",
        "# if not comment them\n",
        "qs_a_dice_train = [0. if np.isnan(_x) else _x for _x in qs_a_dice_train]\n",
        "ps_a_dice_train = [0. if np.isnan(_x) else _x for _x in ps_a_dice_train]\n",
        "qs_a_dice_validate = [0. if np.isnan(_x) else _x for _x in qs_a_dice_validate]\n",
        "ps_a_dice_validate = [0. if np.isnan(_x) else _x for _x in ps_a_dice_validate]\n",
        "\n",
        "display(f'q_a_dice_train: {np.mean(np.array(qs_a_dice_train))}')\n",
        "display(f'p_a_dice_train: {np.mean(np.array(ps_a_dice_train))}')\n",
        "display(f'q_a_dice_validate: {np.mean(np.array(qs_a_dice_validate))}')\n",
        "display(f'p_a_dice_validate: {np.mean(np.array(ps_a_dice_validate))}')"
      ],
      "execution_count": null,
      "outputs": [
        {
          "output_type": "stream",
          "text": [
            "/usr/local/lib/python3.6/dist-packages/mlxtend/evaluate/cochrans_q.py:75: FutureWarning: arrays to stack must be passed as a \"sequence\" type such as list or tuple. Support for non-sequence iterables such as generators is deprecated as of NumPy 1.16 and will raise an error in the future.\n",
            "  mod in y_model_predictions)).astype(int)\n"
          ],
          "name": "stderr"
        },
        {
          "output_type": "display_data",
          "data": {
            "application/vnd.google.colaboratory.intrinsic+json": {
              "type": "string"
            },
            "text/plain": [
              "'ea_dice_train_accuracy: 0.927433751527621'"
            ]
          },
          "metadata": {
            "tags": []
          }
        },
        {
          "output_type": "display_data",
          "data": {
            "application/vnd.google.colaboratory.intrinsic+json": {
              "type": "string"
            },
            "text/plain": [
              "'ea_dice_validate_accuracy: 0.9274436090225564'"
            ]
          },
          "metadata": {
            "tags": []
          }
        },
        {
          "output_type": "display_data",
          "data": {
            "application/vnd.google.colaboratory.intrinsic+json": {
              "type": "string"
            },
            "text/plain": [
              "'ja_dice_train_accuracy: 0.9292030846340673'"
            ]
          },
          "metadata": {
            "tags": []
          }
        },
        {
          "output_type": "display_data",
          "data": {
            "application/vnd.google.colaboratory.intrinsic+json": {
              "type": "string"
            },
            "text/plain": [
              "'ja_dice_validate_accuracy: 0.9291666666666666'"
            ]
          },
          "metadata": {
            "tags": []
          }
        },
        {
          "output_type": "display_data",
          "data": {
            "application/vnd.google.colaboratory.intrinsic+json": {
              "type": "string"
            },
            "text/plain": [
              "'q_a_dice_train: 0.3'"
            ]
          },
          "metadata": {
            "tags": []
          }
        },
        {
          "output_type": "display_data",
          "data": {
            "application/vnd.google.colaboratory.intrinsic+json": {
              "type": "string"
            },
            "text/plain": [
              "'p_a_dice_train: 0.6908225245818708'"
            ]
          },
          "metadata": {
            "tags": []
          }
        },
        {
          "output_type": "display_data",
          "data": {
            "application/vnd.google.colaboratory.intrinsic+json": {
              "type": "string"
            },
            "text/plain": [
              "'q_a_dice_validate: 0.5'"
            ]
          },
          "metadata": {
            "tags": []
          }
        },
        {
          "output_type": "display_data",
          "data": {
            "application/vnd.google.colaboratory.intrinsic+json": {
              "type": "string"
            },
            "text/plain": [
              "'p_a_dice_validate: 0.15865525393145558'"
            ]
          },
          "metadata": {
            "tags": []
          }
        }
      ]
    },
    {
      "cell_type": "markdown",
      "metadata": {
        "id": "NZ_MKufBz7FK"
      },
      "source": [
        "## Adjusted BCE Dice"
      ]
    },
    {
      "cell_type": "code",
      "metadata": {
        "id": "_LL6dI730AkP",
        "outputId": "c851d9c3-c45b-49de-bb28-b464da18530a",
        "colab": {
          "base_uri": "https://localhost:8080/",
          "height": 220
        }
      },
      "source": [
        "# edge adjusted bce dice\n",
        "ea_bce_dice_train_accuracies = []\n",
        "ea_bce_dice_validate_accuracies = []\n",
        "# jrc adjusted bce dice\n",
        "ja_bce_dice_train_accuracies = []\n",
        "ja_bce_dice_validate_accuracies = []\n",
        "\n",
        "# cochran q and p\n",
        "qs_a_bce_dice_train = []\n",
        "ps_a_bce_dice_train = []\n",
        "qs_a_bce_dice_validate = []\n",
        "ps_a_bce_dice_validate = []\n",
        "\n",
        "for train_index, validate_index in skf.split(actual_a_bce_dice_array, ea_bce_dice_modeled_array, ja_bce_dice_modeled_array):\n",
        "  # actual labels\n",
        "  actual_a_bce_dice_train, actual_a_bce_dice_validate = actual_a_bce_dice_array[train_index], actual_a_bce_dice_array[validate_index]\n",
        "\n",
        "  # adjusted bce dice\n",
        "  ea_bce_dice_train, ea_bce_dice_validate = ea_bce_dice_modeled_array[train_index], ea_bce_dice_modeled_array[validate_index]\n",
        "  ja_bce_dice_train, ja_bce_dice_validate = ja_bce_dice_modeled_array[train_index], ja_bce_dice_modeled_array[validate_index]\n",
        "\n",
        "  # accuracies\n",
        "  # edge adjusted bce dice\n",
        "  ea_bce_dice_train_accuracy = accuracy_score(actual_a_bce_dice_train, ea_bce_dice_train)\n",
        "  ea_bce_dice_train_accuracies.append(ea_bce_dice_train_accuracy)\n",
        "  ea_bce_dice_validate_accuracy = accuracy_score(actual_a_bce_dice_validate, ea_bce_dice_validate)\n",
        "  ea_bce_dice_validate_accuracies.append(ea_bce_dice_validate_accuracy)\n",
        "\n",
        "  # jrc adjusted bce dice\n",
        "  ja_bce_dice_train_accuracy = accuracy_score(actual_a_bce_dice_train, ja_bce_dice_train)\n",
        "  ja_bce_dice_train_accuracies.append(ja_bce_dice_train_accuracy)\n",
        "  ja_bce_dice_validate_accuracy = accuracy_score(actual_a_bce_dice_validate, ja_bce_dice_validate)\n",
        "  ja_bce_dice_validate_accuracies.append(ja_bce_dice_validate_accuracy)\n",
        "\n",
        "  # cochran q and p\n",
        "  # adjusted bce dice\n",
        "  q_a_bce_dice_train, p_a_bce_dice_train = cochrans_q(actual_a_bce_dice_train.ravel(), ea_bce_dice_train.ravel(), ja_bce_dice_train.ravel())\n",
        "  qs_a_bce_dice_train.append(q_a_bce_dice_train)\n",
        "  ps_a_bce_dice_train.append(p_a_bce_dice_train)\n",
        "  q_a_bce_dice_validate, p_a_bce_dice_validate = cochrans_q(actual_a_bce_dice_validate.ravel(), ea_bce_dice_validate.ravel(), ja_bce_dice_validate.ravel())\n",
        "  qs_a_bce_dice_validate.append(q_a_bce_dice_validate)\n",
        "  ps_a_bce_dice_validate.append(p_a_bce_dice_validate)\n",
        "\n",
        "# accuracy\n",
        "display(f'ea_bce_dice_train_accuracy: {np.mean(np.array(ea_bce_dice_train_accuracies))}')\n",
        "display(f'ea_bce_dice_validate_accuracy: {np.mean(np.array(ea_bce_dice_validate_accuracies))}')\n",
        "display(f'ja_bce_dice_train_accuracy: {np.mean(np.array(ja_bce_dice_train_accuracies))}')\n",
        "display(f'ja_bce_dice_validate_accuracy: {np.mean(np.array(ja_bce_dice_validate_accuracies))}')\n",
        "\n",
        "# cochran q and p\n",
        "# if nan make that 0 (should we not?)\n",
        "# if not comment them\n",
        "qs_a_bce_dice_train = [0. if np.isnan(_x) else _x for _x in qs_a_bce_dice_train]\n",
        "ps_a_bce_dice_train = [0. if np.isnan(_x) else _x for _x in ps_a_bce_dice_train]\n",
        "qs_a_bce_dice_validate = [0. if np.isnan(_x) else _x for _x in qs_a_bce_dice_validate]\n",
        "ps_a_bce_dice_validate = [0. if np.isnan(_x) else _x for _x in ps_a_bce_dice_validate]\n",
        "\n",
        "display(f'q_a_bce_dice_train: {np.mean(np.array(qs_a_bce_dice_train))}')\n",
        "display(f'p_a_bce_dice_train: {np.mean(np.array(ps_a_bce_dice_train))}')\n",
        "display(f'q_a_bce_dice_validate: {np.mean(np.array(qs_a_bce_dice_validate))}')\n",
        "display(f'p_a_bce_dice_validate: {np.mean(np.array(ps_a_bce_dice_validate))}')"
      ],
      "execution_count": null,
      "outputs": [
        {
          "output_type": "stream",
          "text": [
            "/usr/local/lib/python3.6/dist-packages/mlxtend/evaluate/cochrans_q.py:75: FutureWarning: arrays to stack must be passed as a \"sequence\" type such as list or tuple. Support for non-sequence iterables such as generators is deprecated as of NumPy 1.16 and will raise an error in the future.\n",
            "  mod in y_model_predictions)).astype(int)\n"
          ],
          "name": "stderr"
        },
        {
          "output_type": "display_data",
          "data": {
            "application/vnd.google.colaboratory.intrinsic+json": {
              "type": "string"
            },
            "text/plain": [
              "'ea_bce_dice_train_accuracy: 0.913275992760237'"
            ]
          },
          "metadata": {
            "tags": []
          }
        },
        {
          "output_type": "display_data",
          "data": {
            "application/vnd.google.colaboratory.intrinsic+json": {
              "type": "string"
            },
            "text/plain": [
              "'ea_bce_dice_validate_accuracy: 0.9134085213032582'"
            ]
          },
          "metadata": {
            "tags": []
          }
        },
        {
          "output_type": "display_data",
          "data": {
            "application/vnd.google.colaboratory.intrinsic+json": {
              "type": "string"
            },
            "text/plain": [
              "'ja_bce_dice_train_accuracy: 0.9362835109756663'"
            ]
          },
          "metadata": {
            "tags": []
          }
        },
        {
          "output_type": "display_data",
          "data": {
            "application/vnd.google.colaboratory.intrinsic+json": {
              "type": "string"
            },
            "text/plain": [
              "'ja_bce_dice_validate_accuracy: 0.9363095238095237'"
            ]
          },
          "metadata": {
            "tags": []
          }
        },
        {
          "output_type": "display_data",
          "data": {
            "application/vnd.google.colaboratory.intrinsic+json": {
              "type": "string"
            },
            "text/plain": [
              "'q_a_bce_dice_train: 7.391432748538011'"
            ]
          },
          "metadata": {
            "tags": []
          }
        },
        {
          "output_type": "display_data",
          "data": {
            "application/vnd.google.colaboratory.intrinsic+json": {
              "type": "string"
            },
            "text/plain": [
              "'p_a_bce_dice_train: 0.009253730294213797'"
            ]
          },
          "metadata": {
            "tags": []
          }
        },
        {
          "output_type": "display_data",
          "data": {
            "application/vnd.google.colaboratory.intrinsic+json": {
              "type": "string"
            },
            "text/plain": [
              "'q_a_bce_dice_validate: 1.78'"
            ]
          },
          "metadata": {
            "tags": []
          }
        },
        {
          "output_type": "display_data",
          "data": {
            "application/vnd.google.colaboratory.intrinsic+json": {
              "type": "string"
            },
            "text/plain": [
              "'p_a_bce_dice_validate: 0.2001404570382685'"
            ]
          },
          "metadata": {
            "tags": []
          }
        }
      ]
    },
    {
      "cell_type": "markdown",
      "metadata": {
        "id": "sC8LEk050mu-"
      },
      "source": [
        "## Fixed BCE"
      ]
    },
    {
      "cell_type": "code",
      "metadata": {
        "id": "YcvvSWF20q9O",
        "outputId": "a833055c-d09d-47b5-d43b-47c0c3cded14",
        "colab": {
          "base_uri": "https://localhost:8080/",
          "height": 220
        }
      },
      "source": [
        "# edge fixed bce\n",
        "ef_bce_train_accuracies = []\n",
        "ef_bce_validate_accuracies = []\n",
        "# jrc fixed bce\n",
        "jf_bce_train_accuracies = []\n",
        "jf_bce_validate_accuracies = []\n",
        "\n",
        "# cochran q and p\n",
        "qs_f_bce_train = []\n",
        "ps_f_bce_train = []\n",
        "qs_f_bce_validate = []\n",
        "ps_f_bce_validate = []\n",
        "\n",
        "for train_index, validate_index in skf.split(actual_f_bce_array, ef_bce_modeled_array, jf_bce_modeled_array):\n",
        "  # actual labels\n",
        "  actual_f_bce_train, actual_f_bce_validate = actual_f_bce_array[train_index], actual_f_bce_array[validate_index]\n",
        "\n",
        "  # fixed bce\n",
        "  ef_bce_train, ef_bce_validate = ef_bce_modeled_array[train_index], ef_bce_modeled_array[validate_index]\n",
        "  jf_bce_train, jf_bce_validate = jf_bce_modeled_array[train_index], jf_bce_modeled_array[validate_index]\n",
        "\n",
        "  # accuracies\n",
        "  # edge fixed bce\n",
        "  ef_bce_train_accuracy = accuracy_score(actual_f_bce_train, ef_bce_train)\n",
        "  ef_bce_train_accuracies.append(ef_bce_train_accuracy)\n",
        "  ef_bce_validate_accuracy = accuracy_score(actual_f_bce_validate, ef_bce_validate)\n",
        "  ef_bce_validate_accuracies.append(ef_bce_validate_accuracy)\n",
        "\n",
        "  # jrc fixed bce\n",
        "  jf_bce_train_accuracy = accuracy_score(actual_f_bce_train, jf_bce_train)\n",
        "  jf_bce_train_accuracies.append(jf_bce_train_accuracy)\n",
        "  jf_bce_validate_accuracy = accuracy_score(actual_f_bce_validate, jf_bce_validate)\n",
        "  jf_bce_validate_accuracies.append(jf_bce_validate_accuracy)\n",
        "\n",
        "  # cochran q and p\n",
        "  # fixed bce\n",
        "  q_f_bce_train, p_f_bce_train = cochrans_q(actual_f_bce_train.ravel(), ef_bce_train.ravel(), jf_bce_train.ravel())\n",
        "  qs_f_bce_train.append(q_f_bce_train)\n",
        "  ps_f_bce_train.append(p_f_bce_train)\n",
        "  q_f_bce_validate, p_f_bce_validate = cochrans_q(actual_f_bce_validate.ravel(), ef_bce_validate.ravel(), jf_bce_validate.ravel())\n",
        "  qs_f_bce_validate.append(q_f_bce_validate)\n",
        "  ps_f_bce_validate.append(p_f_bce_validate)\n",
        "\n",
        "# accuracy\n",
        "display(f'ef_bce_train_accuracy: {np.mean(np.array(ef_bce_train_accuracies))}')\n",
        "display(f'ef_bce_validate_accuracy: {np.mean(np.array(ef_bce_validate_accuracies))}')\n",
        "display(f'jf_bce_train_accuracy: {np.mean(np.array(jf_bce_train_accuracies))}')\n",
        "display(f'jf_bce_validate_accuracy: {np.mean(np.array(jf_bce_validate_accuracies))}')\n",
        "\n",
        "# cochran q and p\n",
        "# if nan make that 0 (should we not?)\n",
        "# if not comment them\n",
        "qs_f_bce_train = [0. if np.isnan(_x) else _x for _x in qs_f_bce_train]\n",
        "ps_f_bce_train = [0. if np.isnan(_x) else _x for _x in ps_f_bce_train]\n",
        "qs_f_bce_validate = [0. if np.isnan(_x) else _x for _x in qs_f_bce_validate]\n",
        "ps_f_bce_validate = [0. if np.isnan(_x) else _x for _x in ps_f_bce_validate]\n",
        "\n",
        "display(f'q_f_bce_train: {np.mean(np.array(qs_f_bce_train))}')\n",
        "display(f'p_f_bce_train: {np.mean(np.array(ps_f_bce_train))}')\n",
        "display(f'q_f_bce_validate: {np.mean(np.array(qs_f_bce_validate))}')\n",
        "display(f'p_f_bce_validate: {np.mean(np.array(ps_f_bce_validate))}')"
      ],
      "execution_count": null,
      "outputs": [
        {
          "output_type": "stream",
          "text": [
            "/usr/local/lib/python3.6/dist-packages/mlxtend/evaluate/cochrans_q.py:75: FutureWarning: arrays to stack must be passed as a \"sequence\" type such as list or tuple. Support for non-sequence iterables such as generators is deprecated as of NumPy 1.16 and will raise an error in the future.\n",
            "  mod in y_model_predictions)).astype(int)\n"
          ],
          "name": "stderr"
        },
        {
          "output_type": "display_data",
          "data": {
            "application/vnd.google.colaboratory.intrinsic+json": {
              "type": "string"
            },
            "text/plain": [
              "'ef_bce_train_accuracy: 0.9238954720542054'"
            ]
          },
          "metadata": {
            "tags": []
          }
        },
        {
          "output_type": "display_data",
          "data": {
            "application/vnd.google.colaboratory.intrinsic+json": {
              "type": "string"
            },
            "text/plain": [
              "'ef_bce_validate_accuracy: 0.9240288220551378'"
            ]
          },
          "metadata": {
            "tags": []
          }
        },
        {
          "output_type": "display_data",
          "data": {
            "application/vnd.google.colaboratory.intrinsic+json": {
              "type": "string"
            },
            "text/plain": [
              "'jf_bce_train_accuracy: 0.9309743514378974'"
            ]
          },
          "metadata": {
            "tags": []
          }
        },
        {
          "output_type": "display_data",
          "data": {
            "application/vnd.google.colaboratory.intrinsic+json": {
              "type": "string"
            },
            "text/plain": [
              "'jf_bce_validate_accuracy: 0.931046365914787'"
            ]
          },
          "metadata": {
            "tags": []
          }
        },
        {
          "output_type": "display_data",
          "data": {
            "application/vnd.google.colaboratory.intrinsic+json": {
              "type": "string"
            },
            "text/plain": [
              "'q_f_bce_train: 1.5077777777777777'"
            ]
          },
          "metadata": {
            "tags": []
          }
        },
        {
          "output_type": "display_data",
          "data": {
            "application/vnd.google.colaboratory.intrinsic+json": {
              "type": "string"
            },
            "text/plain": [
              "'p_f_bce_train: 0.2459320396618072'"
            ]
          },
          "metadata": {
            "tags": []
          }
        },
        {
          "output_type": "display_data",
          "data": {
            "application/vnd.google.colaboratory.intrinsic+json": {
              "type": "string"
            },
            "text/plain": [
              "'q_f_bce_validate: 0.6'"
            ]
          },
          "metadata": {
            "tags": []
          }
        },
        {
          "output_type": "display_data",
          "data": {
            "application/vnd.google.colaboratory.intrinsic+json": {
              "type": "string"
            },
            "text/plain": [
              "'p_f_bce_validate: 0.3426541238501926'"
            ]
          },
          "metadata": {
            "tags": []
          }
        }
      ]
    },
    {
      "cell_type": "markdown",
      "metadata": {
        "id": "hJaozc8R1R3D"
      },
      "source": [
        "## Fixed Dice"
      ]
    },
    {
      "cell_type": "code",
      "metadata": {
        "id": "hh7bREkI1WBy",
        "outputId": "8535a97f-3c97-4fab-8fef-4fa2ae3a8163",
        "colab": {
          "base_uri": "https://localhost:8080/",
          "height": 220
        }
      },
      "source": [
        "# edge fixed dice\n",
        "ef_dice_train_accuracies = []\n",
        "ef_dice_validate_accuracies = []\n",
        "# jrc fixed dice\n",
        "jf_dice_train_accuracies = []\n",
        "jf_dice_validate_accuracies = []\n",
        "\n",
        "# cochran q and p\n",
        "qs_f_dice_train = []\n",
        "ps_f_dice_train = []\n",
        "qs_f_dice_validate = []\n",
        "ps_f_dice_validate = []\n",
        "\n",
        "for train_index, validate_index in skf.split(actual_f_dice_array, ef_dice_modeled_array, jf_dice_modeled_array):\n",
        "  # actual labels\n",
        "  actual_f_dice_train, actual_f_dice_validate = actual_f_dice_array[train_index], actual_f_dice_array[validate_index]\n",
        "\n",
        "  # fixed dice\n",
        "  ef_dice_train, ef_dice_validate = ef_dice_modeled_array[train_index], ef_dice_modeled_array[validate_index]\n",
        "  jf_dice_train, jf_dice_validate = jf_dice_modeled_array[train_index], jf_dice_modeled_array[validate_index]\n",
        "\n",
        "  # accuracies\n",
        "  # edge fixed dice\n",
        "  ef_dice_train_accuracy = accuracy_score(actual_f_dice_train, ef_dice_train)\n",
        "  ef_dice_train_accuracies.append(ef_dice_train_accuracy)\n",
        "  ef_dice_validate_accuracy = accuracy_score(actual_f_dice_validate, ef_dice_validate)\n",
        "  ef_dice_validate_accuracies.append(ef_dice_validate_accuracy)\n",
        "\n",
        "  # jrc adjusted dice\n",
        "  jf_dice_train_accuracy = accuracy_score(actual_f_dice_train, jf_dice_train)\n",
        "  jf_dice_train_accuracies.append(jf_dice_train_accuracy)\n",
        "  jf_dice_validate_accuracy = accuracy_score(actual_f_dice_validate, jf_dice_validate)\n",
        "  jf_dice_validate_accuracies.append(jf_dice_validate_accuracy)\n",
        "\n",
        "  # cochran q and p\n",
        "  # fixed dice\n",
        "  q_f_dice_train, p_f_dice_train = cochrans_q(actual_f_dice_train.ravel(), ef_dice_train.ravel(), jf_dice_train.ravel())\n",
        "  qs_f_dice_train.append(q_f_dice_train)\n",
        "  ps_f_dice_train.append(p_f_dice_train)\n",
        "  q_f_dice_validate, p_f_dice_validate = cochrans_q(actual_f_dice_validate.ravel(), ef_dice_validate.ravel(), jf_dice_validate.ravel())\n",
        "  qs_f_dice_validate.append(q_f_dice_validate)\n",
        "  ps_f_dice_validate.append(p_f_dice_validate)\n",
        "\n",
        "# accuracy\n",
        "display(f'ef_dice_train_accuracy: {np.mean(np.array(ef_dice_train_accuracies))}')\n",
        "display(f'ef_dice_validate_accuracy: {np.mean(np.array(ef_dice_validate_accuracies))}')\n",
        "display(f'jf_dice_train_accuracy: {np.mean(np.array(jf_dice_train_accuracies))}')\n",
        "display(f'jf_dice_validate_accuracy: {np.mean(np.array(jf_dice_validate_accuracies))}')\n",
        "\n",
        "# cochran q and p\n",
        "# if nan make that 0 (should we not?)\n",
        "# if not comment them\n",
        "qs_f_dice_train = [0. if np.isnan(_x) else _x for _x in qs_f_dice_train]\n",
        "ps_f_dice_train = [0. if np.isnan(_x) else _x for _x in ps_f_dice_train]\n",
        "qs_f_dice_validate = [0. if np.isnan(_x) else _x for _x in qs_f_dice_validate]\n",
        "ps_f_dice_validate = [0. if np.isnan(_x) else _x for _x in ps_f_dice_validate]\n",
        "\n",
        "display(f'q_f_dice_train: {np.mean(np.array(qs_f_dice_train))}')\n",
        "display(f'p_f_dice_train: {np.mean(np.array(ps_f_dice_train))}')\n",
        "display(f'q_f_dice_validate: {np.mean(np.array(qs_f_dice_validate))}')\n",
        "display(f'p_f_dice_validate: {np.mean(np.array(ps_f_dice_validate))}')"
      ],
      "execution_count": null,
      "outputs": [
        {
          "output_type": "stream",
          "text": [
            "/usr/local/lib/python3.6/dist-packages/mlxtend/evaluate/cochrans_q.py:75: FutureWarning: arrays to stack must be passed as a \"sequence\" type such as list or tuple. Support for non-sequence iterables such as generators is deprecated as of NumPy 1.16 and will raise an error in the future.\n",
            "  mod in y_model_predictions)).astype(int)\n"
          ],
          "name": "stderr"
        },
        {
          "output_type": "display_data",
          "data": {
            "application/vnd.google.colaboratory.intrinsic+json": {
              "type": "string"
            },
            "text/plain": [
              "'ef_dice_train_accuracy: 0.9203540986649754'"
            ]
          },
          "metadata": {
            "tags": []
          }
        },
        {
          "output_type": "display_data",
          "data": {
            "application/vnd.google.colaboratory.intrinsic+json": {
              "type": "string"
            },
            "text/plain": [
              "'ef_dice_validate_accuracy: 0.9203634085213034'"
            ]
          },
          "metadata": {
            "tags": []
          }
        },
        {
          "output_type": "display_data",
          "data": {
            "application/vnd.google.colaboratory.intrinsic+json": {
              "type": "string"
            },
            "text/plain": [
              "'jf_dice_train_accuracy: 0.9274341382670978'"
            ]
          },
          "metadata": {
            "tags": []
          }
        },
        {
          "output_type": "display_data",
          "data": {
            "application/vnd.google.colaboratory.intrinsic+json": {
              "type": "string"
            },
            "text/plain": [
              "'jf_dice_validate_accuracy: 0.9274749373433584'"
            ]
          },
          "metadata": {
            "tags": []
          }
        },
        {
          "output_type": "display_data",
          "data": {
            "application/vnd.google.colaboratory.intrinsic+json": {
              "type": "string"
            },
            "text/plain": [
              "'q_f_dice_train: 1.4863492063492063'"
            ]
          },
          "metadata": {
            "tags": []
          }
        },
        {
          "output_type": "display_data",
          "data": {
            "application/vnd.google.colaboratory.intrinsic+json": {
              "type": "string"
            },
            "text/plain": [
              "'p_f_dice_train: 0.23966708332016023'"
            ]
          },
          "metadata": {
            "tags": []
          }
        },
        {
          "output_type": "display_data",
          "data": {
            "application/vnd.google.colaboratory.intrinsic+json": {
              "type": "string"
            },
            "text/plain": [
              "'q_f_dice_validate: 0.5333333333333333'"
            ]
          },
          "metadata": {
            "tags": []
          }
        },
        {
          "output_type": "display_data",
          "data": {
            "application/vnd.google.colaboratory.intrinsic+json": {
              "type": "string"
            },
            "text/plain": [
              "'p_f_dice_validate: 0.31502554009653294'"
            ]
          },
          "metadata": {
            "tags": []
          }
        }
      ]
    },
    {
      "cell_type": "markdown",
      "metadata": {
        "id": "CS9iejZd17gW"
      },
      "source": [
        "## Fixed BCE Dice"
      ]
    },
    {
      "cell_type": "code",
      "metadata": {
        "id": "mfLoljiz1_e3",
        "outputId": "ffb4cb48-6ab3-4a8e-e6e1-3959d3d87f74",
        "colab": {
          "base_uri": "https://localhost:8080/",
          "height": 220
        }
      },
      "source": [
        "# edge fixed bce dice\n",
        "ef_bce_dice_train_accuracies = []\n",
        "ef_bce_dice_validate_accuracies = []\n",
        "\n",
        "# jrc fixed bce dice\n",
        "jf_bce_dice_train_accuracies = []\n",
        "jf_bce_dice_validate_accuracies = []\n",
        "\n",
        "# cochran q and p\n",
        "qs_f_bce_dice_train = []\n",
        "ps_f_bce_dice_train = []\n",
        "qs_f_bce_dice_validate = []\n",
        "ps_f_bce_dice_validate = []\n",
        "\n",
        "for train_index, validate_index in skf.split(actual_f_bce_dice_array, ef_bce_dice_modeled_array, jf_bce_dice_modeled_array):\n",
        "  # actual labels\n",
        "  actual_f_bce_dice_train, actual_f_bce_dice_validate = actual_f_bce_dice_array[train_index], actual_f_bce_dice_array[validate_index]\n",
        "\n",
        "  # fixed bce dice\n",
        "  ef_bce_dice_train, ef_bce_dice_validate = ef_bce_dice_modeled_array[train_index], ef_bce_dice_modeled_array[validate_index]\n",
        "  jf_bce_dice_train, jf_bce_dice_validate = jf_bce_dice_modeled_array[train_index], jf_bce_dice_modeled_array[validate_index]\n",
        "\n",
        "  # accuracies\n",
        "  # edge fixed bce dice\n",
        "  ef_bce_dice_train_accuracy = accuracy_score(actual_f_bce_dice_train, ef_bce_dice_train)\n",
        "  ef_bce_dice_train_accuracies.append(ef_bce_dice_train_accuracy)\n",
        "  ef_bce_dice_validate_accuracy = accuracy_score(actual_f_bce_dice_validate, ef_bce_dice_validate)\n",
        "  ef_bce_dice_validate_accuracies.append(ef_bce_dice_validate_accuracy)\n",
        "\n",
        "  # jrc fixed bce dice\n",
        "  jf_bce_dice_train_accuracy = accuracy_score(actual_f_bce_dice_train, jf_bce_dice_train)\n",
        "  jf_bce_dice_train_accuracies.append(jf_bce_dice_train_accuracy)\n",
        "  jf_bce_dice_validate_accuracy = accuracy_score(actual_f_bce_dice_validate, jf_bce_dice_validate)\n",
        "  jf_bce_dice_validate_accuracies.append(jf_bce_dice_validate_accuracy)\n",
        "\n",
        "  # cochran q and p\n",
        "  # fixed bce dice\n",
        "  q_f_bce_dice_train, p_f_bce_dice_train = cochrans_q(actual_f_bce_dice_train.ravel(), ef_bce_dice_train.ravel(), jf_bce_dice_train.ravel())\n",
        "  qs_f_bce_dice_train.append(q_f_bce_dice_train)\n",
        "  ps_f_bce_dice_train.append(p_f_bce_dice_train)\n",
        "  q_f_bce_dice_validate, p_f_bce_dice_validate = cochrans_q(actual_f_bce_dice_validate.ravel(), ef_bce_dice_validate.ravel(), jf_bce_dice_validate.ravel())\n",
        "  qs_f_bce_dice_validate.append(q_f_bce_dice_validate)\n",
        "  ps_f_bce_dice_validate.append(p_f_bce_dice_validate)\n",
        "\n",
        "# accuracy\n",
        "display(f'ef_bce_dice_train_accuracy: {np.mean(np.array(ef_bce_dice_train_accuracies))}')\n",
        "display(f'ef_bce_dice_validate_accuracy: {np.mean(np.array(ef_bce_dice_validate_accuracies))}')\n",
        "display(f'jf_bce_dice_train_accuracy: {np.mean(np.array(jf_bce_dice_train_accuracies))}')\n",
        "display(f'jf_bce_dice_validate_accuracy: {np.mean(np.array(jf_bce_dice_validate_accuracies))}')\n",
        "\n",
        "# cochran q and p\n",
        "# if nan make that 0 (should we not?)\n",
        "# if not comment them\n",
        "qs_f_bce_dice_train = [0. if np.isnan(_x) else _x for _x in qs_f_bce_dice_train]\n",
        "ps_f_bce_dice_train = [0. if np.isnan(_x) else _x for _x in ps_f_bce_dice_train]\n",
        "qs_f_bce_dice_validate = [0. if np.isnan(_x) else _x for _x in qs_f_bce_dice_validate]\n",
        "ps_f_bce_dice_validate = [0. if np.isnan(_x) else _x for _x in ps_f_bce_dice_validate]\n",
        "\n",
        "display(f'q_f_bce_dice_train: {np.mean(np.array(qs_f_bce_dice_train))}')\n",
        "display(f'p_f_bce_dice_train: {np.mean(np.array(ps_f_bce_dice_train))}')\n",
        "display(f'q_f_bce_dice_validate: {np.mean(np.array(qs_f_bce_dice_validate))}')\n",
        "display(f'p_f_bce_dice_validate: {np.mean(np.array(ps_f_bce_dice_validate))}')\n"
      ],
      "execution_count": null,
      "outputs": [
        {
          "output_type": "stream",
          "text": [
            "/usr/local/lib/python3.6/dist-packages/mlxtend/evaluate/cochrans_q.py:75: FutureWarning: arrays to stack must be passed as a \"sequence\" type such as list or tuple. Support for non-sequence iterables such as generators is deprecated as of NumPy 1.16 and will raise an error in the future.\n",
            "  mod in y_model_predictions)).astype(int)\n"
          ],
          "name": "stderr"
        },
        {
          "output_type": "display_data",
          "data": {
            "application/vnd.google.colaboratory.intrinsic+json": {
              "type": "string"
            },
            "text/plain": [
              "'ef_bce_dice_train_accuracy: 0.927433751527621'"
            ]
          },
          "metadata": {
            "tags": []
          }
        },
        {
          "output_type": "display_data",
          "data": {
            "application/vnd.google.colaboratory.intrinsic+json": {
              "type": "string"
            },
            "text/plain": [
              "'ef_bce_dice_validate_accuracy: 0.9274436090225564'"
            ]
          },
          "metadata": {
            "tags": []
          }
        },
        {
          "output_type": "display_data",
          "data": {
            "application/vnd.google.colaboratory.intrinsic+json": {
              "type": "string"
            },
            "text/plain": [
              "'jf_bce_dice_train_accuracy: 0.9345134043902666'"
            ]
          },
          "metadata": {
            "tags": []
          }
        },
        {
          "output_type": "display_data",
          "data": {
            "application/vnd.google.colaboratory.intrinsic+json": {
              "type": "string"
            },
            "text/plain": [
              "'jf_bce_dice_validate_accuracy: 0.9345238095238096'"
            ]
          },
          "metadata": {
            "tags": []
          }
        },
        {
          "output_type": "display_data",
          "data": {
            "application/vnd.google.colaboratory.intrinsic+json": {
              "type": "string"
            },
            "text/plain": [
              "'q_f_bce_dice_train: 1.5255555555555556'"
            ]
          },
          "metadata": {
            "tags": []
          }
        },
        {
          "output_type": "display_data",
          "data": {
            "application/vnd.google.colaboratory.intrinsic+json": {
              "type": "string"
            },
            "text/plain": [
              "'p_f_bce_dice_train: 0.25090091912442675'"
            ]
          },
          "metadata": {
            "tags": []
          }
        },
        {
          "output_type": "display_data",
          "data": {
            "application/vnd.google.colaboratory.intrinsic+json": {
              "type": "string"
            },
            "text/plain": [
              "'q_f_bce_dice_validate: 0.8'"
            ]
          },
          "metadata": {
            "tags": []
          }
        },
        {
          "output_type": "display_data",
          "data": {
            "application/vnd.google.colaboratory.intrinsic+json": {
              "type": "string"
            },
            "text/plain": [
              "'p_f_bce_dice_validate: 0.30611622542277483'"
            ]
          },
          "metadata": {
            "tags": []
          }
        }
      ]
    },
    {
      "cell_type": "markdown",
      "metadata": {
        "id": "bL_iJOEykDM_"
      },
      "source": [
        "# All Comparisons"
      ]
    },
    {
      "cell_type": "markdown",
      "metadata": {
        "id": "kMXuNsKVgk4U"
      },
      "source": [
        "## Cochran Comparison all"
      ]
    },
    {
      "cell_type": "code",
      "metadata": {
        "id": "yvRde64PghB5",
        "outputId": "4f9c14b7-7b29-4d57-c97b-365eb8887891",
        "colab": {
          "base_uri": "https://localhost:8080/",
          "height": 106
        }
      },
      "source": [
        "#####################\n",
        "# Cochran Comparison all\n",
        "#####################\n",
        "q_Cochran_Comparison_all, p_Cochran_Comparison_all = cochrans_q(actual_f_bce_dice.ravel(),\n",
        "                                                                ea_bce_modeled.ravel(),\n",
        "                                                                ja_bce_modeled.ravel(),\n",
        "                                                                ea_dice_modeled.ravel(),\n",
        "                                                                ja_dice_modeled.ravel(),\n",
        "                                                                ea_bce_dice_modeled.ravel(),\n",
        "                                                                ja_bce_dice_modeled.ravel(),\n",
        "                                                                ef_bce_modeled.ravel(),\n",
        "                                                                jf_bce_modeled.ravel(),\n",
        "                                                                ef_dice_modeled.ravel(),\n",
        "                                                                jf_dice_modeled.ravel(),\n",
        "                                                                ef_bce_dice_modeled.ravel(),\n",
        "                                                                jf_bce_dice_modeled.ravel(),\n",
        "                                                                )\n",
        "\n",
        "print(': Q: %.13f' % q_Cochran_Comparison_all)\n",
        "print(': p-value: %.13f' % p_Cochran_Comparison_all)"
      ],
      "execution_count": null,
      "outputs": [
        {
          "output_type": "stream",
          "text": [
            ": Q: 34.1471135940410\n",
            ": p-value: 0.0003421887730\n"
          ],
          "name": "stdout"
        },
        {
          "output_type": "stream",
          "text": [
            "/usr/local/lib/python3.6/dist-packages/mlxtend/evaluate/cochrans_q.py:75: FutureWarning: arrays to stack must be passed as a \"sequence\" type such as list or tuple. Support for non-sequence iterables such as generators is deprecated as of NumPy 1.16 and will raise an error in the future.\n",
            "  mod in y_model_predictions)).astype(int)\n"
          ],
          "name": "stderr"
        }
      ]
    },
    {
      "cell_type": "markdown",
      "metadata": {
        "id": "hYC80Jh4ij9H"
      },
      "source": [
        "## Mcnemar tables Comparison all"
      ]
    },
    {
      "cell_type": "code",
      "metadata": {
        "id": "mXmhiiTpijD5",
        "outputId": "2461eadd-c23c-455a-adef-877467bbc4ae",
        "colab": {
          "base_uri": "https://localhost:8080/",
          "height": 1000
        }
      },
      "source": [
        "from mlxtend.evaluate import mcnemar_tables\n",
        "from mlxtend.plotting import checkerboard_plot\n",
        "import matplotlib.pyplot as plt\n",
        "from mlxtend.plotting import checkerboard_plot\n",
        "\n",
        "tb = mcnemar_tables(actual_f_bce_dice.ravel(),\n",
        "                    ea_bce_modeled.ravel(),\n",
        "                    ja_bce_modeled.ravel(),\n",
        "                    ea_dice_modeled.ravel(),\n",
        "                    ja_dice_modeled.ravel(),\n",
        "                    ea_bce_dice_modeled.ravel(),\n",
        "                    ja_bce_dice_modeled.ravel(),\n",
        "                    ef_bce_modeled.ravel(),\n",
        "                    jf_bce_modeled.ravel(),\n",
        "                    ef_dice_modeled.ravel(),\n",
        "                    jf_dice_modeled.ravel(),\n",
        "                    ef_bce_dice_modeled.ravel(),\n",
        "                    jf_bce_dice_modeled.ravel(),\n",
        "                    )\n",
        "\n",
        "key_val_pair = {\n",
        "    'model_10': 'ef_bce_dice',\n",
        "    'model_11': 'jf_bce_dice',\n",
        "    'model_0': 'ea_bce',\n",
        "    'model_1': 'ja_bce',\n",
        "    'model_2': 'ea_dice',\n",
        "    'model_3': 'ja_dice',\n",
        "    'model_4': 'ea_bce_dice',\n",
        "    'model_5': 'ja_bce_dice',\n",
        "    'model_6': 'ef_bce',\n",
        "    'model_7': 'jf_bce',\n",
        "    'model_8': 'ef_dice',\n",
        "    'model_9': 'jf_dice',\n",
        "}\n",
        "\n",
        "org_keys = list(tb.keys())\n",
        "org_vals = list(tb.values())\n",
        "new_keys = []\n",
        "\n",
        "for _key in org_keys:\n",
        "  for _, __ in key_val_pair.items():\n",
        "    _key = _key.replace(_, __)\n",
        "  new_keys.append(_key)\n",
        "\n",
        "\n",
        "tb = dict(zip(new_keys, org_vals))\n",
        "\n",
        "for key, value in tb.items():\n",
        "    print(key, '\\n', value, '\\n')"
      ],
      "execution_count": null,
      "outputs": [
        {
          "output_type": "stream",
          "text": [
            "ea_bce vs ja_bce \n",
            " [[521.   6.]\n",
            " [  3.  35.]] \n",
            "\n",
            "ea_bce vs ea_dice \n",
            " [[524.   0.]\n",
            " [  0.  41.]] \n",
            "\n",
            "ea_bce vs ja_dice \n",
            " [[522.   3.]\n",
            " [  2.  38.]] \n",
            "\n",
            "ea_bce vs ea_bce_dice \n",
            " [[514.   2.]\n",
            " [ 10.  39.]] \n",
            "\n",
            "ea_bce vs ja_bce_dice \n",
            " [[522.   7.]\n",
            " [  2.  34.]] \n",
            "\n",
            "ea_bce vs ef_bce \n",
            " [[521.   1.]\n",
            " [  3.  40.]] \n",
            "\n",
            "ea_bce vs jf_bce \n",
            " [[522.   4.]\n",
            " [  2.  37.]] \n",
            "\n",
            "ea_bce vs ef_dice \n",
            " [[520.   0.]\n",
            " [  4.  41.]] \n",
            "\n",
            "ea_bce vs jf_dice \n",
            " [[521.   3.]\n",
            " [  3.  38.]] \n",
            "\n",
            "ea_bce vs ef_bce_dice \n",
            " [[524.   0.]\n",
            " [  0.  41.]] \n",
            "\n",
            "ea_bce vs jf_bce_dice \n",
            " [[521.   7.]\n",
            " [  3.  34.]] \n",
            "\n",
            "ja_bce vs ea_dice \n",
            " [[521.   3.]\n",
            " [  6.  35.]] \n",
            "\n",
            "ja_bce vs ja_dice \n",
            " [[524.   1.]\n",
            " [  3.  37.]] \n",
            "\n",
            "ja_bce vs ea_bce_dice \n",
            " [[511.   5.]\n",
            " [ 16.  33.]] \n",
            "\n",
            "ja_bce vs ja_bce_dice \n",
            " [[526.   3.]\n",
            " [  1.  35.]] \n",
            "\n",
            "ja_bce vs ef_bce \n",
            " [[518.   4.]\n",
            " [  9.  34.]] \n",
            "\n",
            "ja_bce vs jf_bce \n",
            " [[525.   1.]\n",
            " [  2.  37.]] \n",
            "\n",
            "ja_bce vs ef_dice \n",
            " [[517.   3.]\n",
            " [ 10.  35.]] \n",
            "\n",
            "ja_bce vs jf_dice \n",
            " [[524.   0.]\n",
            " [  3.  38.]] \n",
            "\n",
            "ja_bce vs ef_bce_dice \n",
            " [[521.   3.]\n",
            " [  6.  35.]] \n",
            "\n",
            "ja_bce vs jf_bce_dice \n",
            " [[527.   1.]\n",
            " [  0.  37.]] \n",
            "\n",
            "ea_dice vs ja_dice \n",
            " [[522.   3.]\n",
            " [  2.  38.]] \n",
            "\n",
            "ea_dice vs ea_bce_dice \n",
            " [[514.   2.]\n",
            " [ 10.  39.]] \n",
            "\n",
            "ea_dice vs ja_bce_dice \n",
            " [[522.   7.]\n",
            " [  2.  34.]] \n",
            "\n",
            "ea_dice vs ef_bce \n",
            " [[521.   1.]\n",
            " [  3.  40.]] \n",
            "\n",
            "ea_dice vs jf_bce \n",
            " [[522.   4.]\n",
            " [  2.  37.]] \n",
            "\n",
            "ea_dice vs ef_dice \n",
            " [[520.   0.]\n",
            " [  4.  41.]] \n",
            "\n",
            "ea_dice vs jf_dice \n",
            " [[521.   3.]\n",
            " [  3.  38.]] \n",
            "\n",
            "ea_dice vs ef_bce_dice \n",
            " [[524.   0.]\n",
            " [  0.  41.]] \n",
            "\n",
            "ea_dice vs jf_bce_dice \n",
            " [[521.   7.]\n",
            " [  3.  34.]] \n",
            "\n",
            "ja_dice vs ea_bce_dice \n",
            " [[512.   4.]\n",
            " [ 13.  36.]] \n",
            "\n",
            "ja_dice vs ja_bce_dice \n",
            " [[525.   4.]\n",
            " [  0.  36.]] \n",
            "\n",
            "ja_dice vs ef_bce \n",
            " [[519.   3.]\n",
            " [  6.  37.]] \n",
            "\n",
            "ja_dice vs jf_bce \n",
            " [[524.   2.]\n",
            " [  1.  38.]] \n",
            "\n",
            "ja_dice vs ef_dice \n",
            " [[518.   2.]\n",
            " [  7.  38.]] \n",
            "\n",
            "ja_dice vs jf_dice \n",
            " [[523.   1.]\n",
            " [  2.  39.]] \n",
            "\n",
            "ja_dice vs ef_bce_dice \n",
            " [[522.   2.]\n",
            " [  3.  38.]] \n",
            "\n",
            "ja_dice vs jf_bce_dice \n",
            " [[524.   4.]\n",
            " [  1.  36.]] \n",
            "\n",
            "ea_bce_dice vs ja_bce_dice \n",
            " [[512.  17.]\n",
            " [  4.  32.]] \n",
            "\n",
            "ea_bce_dice vs ef_bce \n",
            " [[514.   8.]\n",
            " [  2.  41.]] \n",
            "\n",
            "ea_bce_dice vs jf_bce \n",
            " [[512.  14.]\n",
            " [  4.  35.]] \n",
            "\n",
            "ea_bce_dice vs ef_dice \n",
            " [[511.   9.]\n",
            " [  5.  40.]] \n",
            "\n",
            "ea_bce_dice vs jf_dice \n",
            " [[511.  13.]\n",
            " [  5.  36.]] \n",
            "\n",
            "ea_bce_dice vs ef_bce_dice \n",
            " [[514.  10.]\n",
            " [  2.  39.]] \n",
            "\n",
            "ea_bce_dice vs jf_bce_dice \n",
            " [[511.  17.]\n",
            " [  5.  32.]] \n",
            "\n",
            "ja_bce_dice vs ef_bce \n",
            " [[519.   3.]\n",
            " [ 10.  33.]] \n",
            "\n",
            "ja_bce_dice vs jf_bce \n",
            " [[525.   1.]\n",
            " [  4.  35.]] \n",
            "\n",
            "ja_bce_dice vs ef_dice \n",
            " [[518.   2.]\n",
            " [ 11.  34.]] \n",
            "\n",
            "ja_bce_dice vs jf_dice \n",
            " [[523.   1.]\n",
            " [  6.  35.]] \n",
            "\n",
            "ja_bce_dice vs ef_bce_dice \n",
            " [[522.   2.]\n",
            " [  7.  34.]] \n",
            "\n",
            "ja_bce_dice vs jf_bce_dice \n",
            " [[527.   1.]\n",
            " [  2.  35.]] \n",
            "\n",
            "ef_bce vs jf_bce \n",
            " [[519.   7.]\n",
            " [  3.  36.]] \n",
            "\n",
            "ef_bce vs ef_dice \n",
            " [[517.   3.]\n",
            " [  5.  40.]] \n",
            "\n",
            "ef_bce vs jf_dice \n",
            " [[518.   6.]\n",
            " [  4.  37.]] \n",
            "\n",
            "ef_bce vs ef_bce_dice \n",
            " [[521.   3.]\n",
            " [  1.  40.]] \n",
            "\n",
            "ef_bce vs jf_bce_dice \n",
            " [[518.  10.]\n",
            " [  4.  33.]] \n",
            "\n",
            "jf_bce vs ef_dice \n",
            " [[518.   2.]\n",
            " [  8.  37.]] \n",
            "\n",
            "jf_bce vs jf_dice \n",
            " [[524.   0.]\n",
            " [  2.  39.]] \n",
            "\n",
            "jf_bce vs ef_bce_dice \n",
            " [[522.   2.]\n",
            " [  4.  37.]] \n",
            "\n",
            "jf_bce vs jf_bce_dice \n",
            " [[525.   3.]\n",
            " [  1.  36.]] \n",
            "\n",
            "ef_dice vs jf_dice \n",
            " [[517.   7.]\n",
            " [  3.  38.]] \n",
            "\n",
            "ef_dice vs ef_bce_dice \n",
            " [[520.   4.]\n",
            " [  0.  41.]] \n",
            "\n",
            "ef_dice vs jf_bce_dice \n",
            " [[517.  11.]\n",
            " [  3.  34.]] \n",
            "\n",
            "jf_dice vs ef_bce_dice \n",
            " [[521.   3.]\n",
            " [  3.  38.]] \n",
            "\n",
            "jf_dice vs jf_bce_dice \n",
            " [[524.   4.]\n",
            " [  0.  37.]] \n",
            "\n",
            "ef_bce_dice vs jf_bce_dice \n",
            " [[521.   7.]\n",
            " [  3.  34.]] \n",
            "\n"
          ],
          "name": "stdout"
        }
      ]
    },
    {
      "cell_type": "markdown",
      "metadata": {
        "id": "tiGSmWjfjwFq"
      },
      "source": [
        "## McNemar Stats (This wont work for all at once)"
      ]
    },
    {
      "cell_type": "code",
      "metadata": {
        "id": "lA7l9N9-i79-",
        "outputId": "ef6ce5f1-4e0c-400d-9fd3-e20ee0f7ac27",
        "colab": {
          "base_uri": "https://localhost:8080/",
          "height": 355
        }
      },
      "source": [
        "from mlxtend.evaluate import mcnemar\n",
        "\n",
        "chi2, p = mcnemar(ary=np.array(tb), corrected=True,exact=True)\n",
        "print('chi-squared:', chi2)\n",
        "print('p-value:', p)"
      ],
      "execution_count": null,
      "outputs": [
        {
          "output_type": "error",
          "ename": "ValueError",
          "evalue": "ignored",
          "traceback": [
            "\u001b[0;31m---------------------------------------------------------------------------\u001b[0m",
            "\u001b[0;31mValueError\u001b[0m                                Traceback (most recent call last)",
            "\u001b[0;32m<ipython-input-44-e8999dc8b520>\u001b[0m in \u001b[0;36m<module>\u001b[0;34m()\u001b[0m\n\u001b[1;32m      1\u001b[0m \u001b[0;32mfrom\u001b[0m \u001b[0mmlxtend\u001b[0m\u001b[0;34m.\u001b[0m\u001b[0mevaluate\u001b[0m \u001b[0;32mimport\u001b[0m \u001b[0mmcnemar\u001b[0m\u001b[0;34m\u001b[0m\u001b[0;34m\u001b[0m\u001b[0m\n\u001b[1;32m      2\u001b[0m \u001b[0;34m\u001b[0m\u001b[0m\n\u001b[0;32m----> 3\u001b[0;31m \u001b[0mchi2\u001b[0m\u001b[0;34m,\u001b[0m \u001b[0mp\u001b[0m \u001b[0;34m=\u001b[0m \u001b[0mmcnemar\u001b[0m\u001b[0;34m(\u001b[0m\u001b[0mary\u001b[0m\u001b[0;34m=\u001b[0m\u001b[0mnp\u001b[0m\u001b[0;34m.\u001b[0m\u001b[0marray\u001b[0m\u001b[0;34m(\u001b[0m\u001b[0mtb\u001b[0m\u001b[0;34m)\u001b[0m\u001b[0;34m,\u001b[0m \u001b[0mcorrected\u001b[0m\u001b[0;34m=\u001b[0m\u001b[0;32mTrue\u001b[0m\u001b[0;34m,\u001b[0m\u001b[0mexact\u001b[0m\u001b[0;34m=\u001b[0m\u001b[0;32mTrue\u001b[0m\u001b[0;34m)\u001b[0m\u001b[0;34m\u001b[0m\u001b[0;34m\u001b[0m\u001b[0m\n\u001b[0m\u001b[1;32m      4\u001b[0m \u001b[0mprint\u001b[0m\u001b[0;34m(\u001b[0m\u001b[0;34m'chi-squared:'\u001b[0m\u001b[0;34m,\u001b[0m \u001b[0mchi2\u001b[0m\u001b[0;34m)\u001b[0m\u001b[0;34m\u001b[0m\u001b[0;34m\u001b[0m\u001b[0m\n\u001b[1;32m      5\u001b[0m \u001b[0mprint\u001b[0m\u001b[0;34m(\u001b[0m\u001b[0;34m'p-value:'\u001b[0m\u001b[0;34m,\u001b[0m \u001b[0mp\u001b[0m\u001b[0;34m)\u001b[0m\u001b[0;34m\u001b[0m\u001b[0;34m\u001b[0m\u001b[0m\n",
            "\u001b[0;32m/usr/local/lib/python3.6/dist-packages/mlxtend/evaluate/mcnemar.py\u001b[0m in \u001b[0;36mmcnemar\u001b[0;34m(ary, corrected, exact)\u001b[0m\n\u001b[1;32m    196\u001b[0m \u001b[0;34m\u001b[0m\u001b[0m\n\u001b[1;32m    197\u001b[0m     \u001b[0;32mif\u001b[0m \u001b[0;32mnot\u001b[0m \u001b[0mary\u001b[0m\u001b[0;34m.\u001b[0m\u001b[0mshape\u001b[0m \u001b[0;34m==\u001b[0m \u001b[0;34m(\u001b[0m\u001b[0;36m2\u001b[0m\u001b[0;34m,\u001b[0m \u001b[0;36m2\u001b[0m\u001b[0;34m)\u001b[0m\u001b[0;34m:\u001b[0m\u001b[0;34m\u001b[0m\u001b[0;34m\u001b[0m\u001b[0m\n\u001b[0;32m--> 198\u001b[0;31m         \u001b[0;32mraise\u001b[0m \u001b[0mValueError\u001b[0m\u001b[0;34m(\u001b[0m\u001b[0;34m'Input array must be a 2x2 array.'\u001b[0m\u001b[0;34m)\u001b[0m\u001b[0;34m\u001b[0m\u001b[0;34m\u001b[0m\u001b[0m\n\u001b[0m\u001b[1;32m    199\u001b[0m \u001b[0;34m\u001b[0m\u001b[0m\n\u001b[1;32m    200\u001b[0m     \u001b[0mb\u001b[0m \u001b[0;34m=\u001b[0m \u001b[0mary\u001b[0m\u001b[0;34m[\u001b[0m\u001b[0;36m0\u001b[0m\u001b[0;34m,\u001b[0m \u001b[0;36m1\u001b[0m\u001b[0;34m]\u001b[0m\u001b[0;34m\u001b[0m\u001b[0;34m\u001b[0m\u001b[0m\n",
            "\u001b[0;31mValueError\u001b[0m: Input array must be a 2x2 array."
          ]
        }
      ]
    },
    {
      "cell_type": "markdown",
      "metadata": {
        "id": "iYwo7jzvkZuS"
      },
      "source": [
        "## McNemar Stats (This will work for one vs one)"
      ]
    },
    {
      "cell_type": "code",
      "metadata": {
        "id": "xBlhvC9OQEgQ",
        "outputId": "815aa91a-157a-4f90-87b3-9cc49a42ffc9",
        "colab": {
          "base_uri": "https://localhost:8080/",
          "height": 1000
        }
      },
      "source": [
        "from mlxtend.evaluate import mcnemar\n",
        "\n",
        "for key, value in tb.items():\n",
        "    print(f'{key} \\n {value}')\n",
        "    chi2, p = mcnemar(ary=np.array(value), corrected=True,exact=True)\n",
        "    print(f'chi-squared: {chi2}')\n",
        "    print(f'p-value: {p} \\n')\n",
        "    print('##############################')\n",
        "\n"
      ],
      "execution_count": null,
      "outputs": [
        {
          "output_type": "stream",
          "text": [
            "ea_bce vs ja_bce \n",
            " [[521.   6.]\n",
            " [  3.  35.]]\n",
            "chi-squared: 3.0\n",
            "p-value: 0.5078125 \n",
            "\n",
            "##############################\n",
            "ea_bce vs ea_dice \n",
            " [[524.   0.]\n",
            " [  0.  41.]]\n",
            "chi-squared: 0.0\n",
            "p-value: 1.0 \n",
            "\n",
            "##############################\n",
            "ea_bce vs ja_dice \n",
            " [[522.   3.]\n",
            " [  2.  38.]]\n",
            "chi-squared: 2.0\n",
            "p-value: 1.0 \n",
            "\n",
            "##############################\n",
            "ea_bce vs ea_bce_dice \n",
            " [[514.   2.]\n",
            " [ 10.  39.]]\n",
            "chi-squared: 2.0\n",
            "p-value: 0.038574218750000014 \n",
            "\n",
            "##############################\n",
            "ea_bce vs ja_bce_dice \n",
            " [[522.   7.]\n",
            " [  2.  34.]]\n",
            "chi-squared: 2.0\n",
            "p-value: 0.17968750000000003 \n",
            "\n",
            "##############################\n",
            "ea_bce vs ef_bce \n",
            " [[521.   1.]\n",
            " [  3.  40.]]\n",
            "chi-squared: 1.0\n",
            "p-value: 0.625 \n",
            "\n",
            "##############################\n",
            "ea_bce vs jf_bce \n",
            " [[522.   4.]\n",
            " [  2.  37.]]\n",
            "chi-squared: 2.0\n",
            "p-value: 0.6875000000000002 \n",
            "\n",
            "##############################\n",
            "ea_bce vs ef_dice \n",
            " [[520.   0.]\n",
            " [  4.  41.]]\n",
            "chi-squared: 0.0\n",
            "p-value: 0.125 \n",
            "\n",
            "##############################\n",
            "ea_bce vs jf_dice \n",
            " [[521.   3.]\n",
            " [  3.  38.]]\n",
            "chi-squared: 3.0\n",
            "p-value: 1.0 \n",
            "\n",
            "##############################\n",
            "ea_bce vs ef_bce_dice \n",
            " [[524.   0.]\n",
            " [  0.  41.]]\n",
            "chi-squared: 0.0\n",
            "p-value: 1.0 \n",
            "\n",
            "##############################\n",
            "ea_bce vs jf_bce_dice \n",
            " [[521.   7.]\n",
            " [  3.  34.]]\n",
            "chi-squared: 3.0\n",
            "p-value: 0.3437499999999999 \n",
            "\n",
            "##############################\n",
            "ja_bce vs ea_dice \n",
            " [[521.   3.]\n",
            " [  6.  35.]]\n",
            "chi-squared: 3.0\n",
            "p-value: 0.5078125 \n",
            "\n",
            "##############################\n",
            "ja_bce vs ja_dice \n",
            " [[524.   1.]\n",
            " [  3.  37.]]\n",
            "chi-squared: 1.0\n",
            "p-value: 0.625 \n",
            "\n",
            "##############################\n",
            "ja_bce vs ea_bce_dice \n",
            " [[511.   5.]\n",
            " [ 16.  33.]]\n",
            "chi-squared: 5.0\n",
            "p-value: 0.026603698730468753 \n",
            "\n",
            "##############################\n",
            "ja_bce vs ja_bce_dice \n",
            " [[526.   3.]\n",
            " [  1.  35.]]\n",
            "chi-squared: 1.0\n",
            "p-value: 0.625 \n",
            "\n",
            "##############################\n",
            "ja_bce vs ef_bce \n",
            " [[518.   4.]\n",
            " [  9.  34.]]\n",
            "chi-squared: 4.0\n",
            "p-value: 0.26684570312499983 \n",
            "\n",
            "##############################\n",
            "ja_bce vs jf_bce \n",
            " [[525.   1.]\n",
            " [  2.  37.]]\n",
            "chi-squared: 1.0\n",
            "p-value: 1.0 \n",
            "\n",
            "##############################\n",
            "ja_bce vs ef_dice \n",
            " [[517.   3.]\n",
            " [ 10.  35.]]\n",
            "chi-squared: 3.0\n",
            "p-value: 0.09228515625000003 \n",
            "\n",
            "##############################\n",
            "ja_bce vs jf_dice \n",
            " [[524.   0.]\n",
            " [  3.  38.]]\n",
            "chi-squared: 0.0\n",
            "p-value: 0.25 \n",
            "\n",
            "##############################\n",
            "ja_bce vs ef_bce_dice \n",
            " [[521.   3.]\n",
            " [  6.  35.]]\n",
            "chi-squared: 3.0\n",
            "p-value: 0.5078125 \n",
            "\n",
            "##############################\n",
            "ja_bce vs jf_bce_dice \n",
            " [[527.   1.]\n",
            " [  0.  37.]]\n",
            "chi-squared: 0.0\n",
            "p-value: 1.0 \n",
            "\n",
            "##############################\n",
            "ea_dice vs ja_dice \n",
            " [[522.   3.]\n",
            " [  2.  38.]]\n",
            "chi-squared: 2.0\n",
            "p-value: 1.0 \n",
            "\n",
            "##############################\n",
            "ea_dice vs ea_bce_dice \n",
            " [[514.   2.]\n",
            " [ 10.  39.]]\n",
            "chi-squared: 2.0\n",
            "p-value: 0.038574218750000014 \n",
            "\n",
            "##############################\n",
            "ea_dice vs ja_bce_dice \n",
            " [[522.   7.]\n",
            " [  2.  34.]]\n",
            "chi-squared: 2.0\n",
            "p-value: 0.17968750000000003 \n",
            "\n",
            "##############################\n",
            "ea_dice vs ef_bce \n",
            " [[521.   1.]\n",
            " [  3.  40.]]\n",
            "chi-squared: 1.0\n",
            "p-value: 0.625 \n",
            "\n",
            "##############################\n",
            "ea_dice vs jf_bce \n",
            " [[522.   4.]\n",
            " [  2.  37.]]\n",
            "chi-squared: 2.0\n",
            "p-value: 0.6875000000000002 \n",
            "\n",
            "##############################\n",
            "ea_dice vs ef_dice \n",
            " [[520.   0.]\n",
            " [  4.  41.]]\n",
            "chi-squared: 0.0\n",
            "p-value: 0.125 \n",
            "\n",
            "##############################\n",
            "ea_dice vs jf_dice \n",
            " [[521.   3.]\n",
            " [  3.  38.]]\n",
            "chi-squared: 3.0\n",
            "p-value: 1.0 \n",
            "\n",
            "##############################\n",
            "ea_dice vs ef_bce_dice \n",
            " [[524.   0.]\n",
            " [  0.  41.]]\n",
            "chi-squared: 0.0\n",
            "p-value: 1.0 \n",
            "\n",
            "##############################\n",
            "ea_dice vs jf_bce_dice \n",
            " [[521.   7.]\n",
            " [  3.  34.]]\n",
            "chi-squared: 3.0\n",
            "p-value: 0.3437499999999999 \n",
            "\n",
            "##############################\n",
            "ja_dice vs ea_bce_dice \n",
            " [[512.   4.]\n",
            " [ 13.  36.]]\n",
            "chi-squared: 4.0\n",
            "p-value: 0.049041748046874986 \n",
            "\n",
            "##############################\n",
            "ja_dice vs ja_bce_dice \n",
            " [[525.   4.]\n",
            " [  0.  36.]]\n",
            "chi-squared: 0.0\n",
            "p-value: 0.125 \n",
            "\n",
            "##############################\n",
            "ja_dice vs ef_bce \n",
            " [[519.   3.]\n",
            " [  6.  37.]]\n",
            "chi-squared: 3.0\n",
            "p-value: 0.5078125 \n",
            "\n",
            "##############################\n",
            "ja_dice vs jf_bce \n",
            " [[524.   2.]\n",
            " [  1.  38.]]\n",
            "chi-squared: 1.0\n",
            "p-value: 1.0 \n",
            "\n",
            "##############################\n",
            "ja_dice vs ef_dice \n",
            " [[518.   2.]\n",
            " [  7.  38.]]\n",
            "chi-squared: 2.0\n",
            "p-value: 0.17968750000000003 \n",
            "\n",
            "##############################\n",
            "ja_dice vs jf_dice \n",
            " [[523.   1.]\n",
            " [  2.  39.]]\n",
            "chi-squared: 1.0\n",
            "p-value: 1.0 \n",
            "\n",
            "##############################\n",
            "ja_dice vs ef_bce_dice \n",
            " [[522.   2.]\n",
            " [  3.  38.]]\n",
            "chi-squared: 2.0\n",
            "p-value: 1.0 \n",
            "\n",
            "##############################\n",
            "ja_dice vs jf_bce_dice \n",
            " [[524.   4.]\n",
            " [  1.  36.]]\n",
            "chi-squared: 1.0\n",
            "p-value: 0.375 \n",
            "\n",
            "##############################\n",
            "ea_bce_dice vs ja_bce_dice \n",
            " [[512.  17.]\n",
            " [  4.  32.]]\n",
            "chi-squared: 4.0\n",
            "p-value: 0.0071973800659179705 \n",
            "\n",
            "##############################\n",
            "ea_bce_dice vs ef_bce \n",
            " [[514.   8.]\n",
            " [  2.  41.]]\n",
            "chi-squared: 2.0\n",
            "p-value: 0.10937500000000003 \n",
            "\n",
            "##############################\n",
            "ea_bce_dice vs jf_bce \n",
            " [[512.  14.]\n",
            " [  4.  35.]]\n",
            "chi-squared: 4.0\n",
            "p-value: 0.0308837890625 \n",
            "\n",
            "##############################\n",
            "ea_bce_dice vs ef_dice \n",
            " [[511.   9.]\n",
            " [  5.  40.]]\n",
            "chi-squared: 5.0\n",
            "p-value: 0.4239501953124999 \n",
            "\n",
            "##############################\n",
            "ea_bce_dice vs jf_dice \n",
            " [[511.  13.]\n",
            " [  5.  36.]]\n",
            "chi-squared: 5.0\n",
            "p-value: 0.09625244140624999 \n",
            "\n",
            "##############################\n",
            "ea_bce_dice vs ef_bce_dice \n",
            " [[514.  10.]\n",
            " [  2.  39.]]\n",
            "chi-squared: 2.0\n",
            "p-value: 0.038574218750000014 \n",
            "\n",
            "##############################\n",
            "ea_bce_dice vs jf_bce_dice \n",
            " [[511.  17.]\n",
            " [  5.  32.]]\n",
            "chi-squared: 5.0\n",
            "p-value: 0.016900539398193356 \n",
            "\n",
            "##############################\n",
            "ja_bce_dice vs ef_bce \n",
            " [[519.   3.]\n",
            " [ 10.  33.]]\n",
            "chi-squared: 3.0\n",
            "p-value: 0.09228515625000003 \n",
            "\n",
            "##############################\n",
            "ja_bce_dice vs jf_bce \n",
            " [[525.   1.]\n",
            " [  4.  35.]]\n",
            "chi-squared: 1.0\n",
            "p-value: 0.375 \n",
            "\n",
            "##############################\n",
            "ja_bce_dice vs ef_dice \n",
            " [[518.   2.]\n",
            " [ 11.  34.]]\n",
            "chi-squared: 2.0\n",
            "p-value: 0.022460937500000003 \n",
            "\n",
            "##############################\n",
            "ja_bce_dice vs jf_dice \n",
            " [[523.   1.]\n",
            " [  6.  35.]]\n",
            "chi-squared: 1.0\n",
            "p-value: 0.125 \n",
            "\n",
            "##############################\n",
            "ja_bce_dice vs ef_bce_dice \n",
            " [[522.   2.]\n",
            " [  7.  34.]]\n",
            "chi-squared: 2.0\n",
            "p-value: 0.17968750000000003 \n",
            "\n",
            "##############################\n",
            "ja_bce_dice vs jf_bce_dice \n",
            " [[527.   1.]\n",
            " [  2.  35.]]\n",
            "chi-squared: 1.0\n",
            "p-value: 1.0 \n",
            "\n",
            "##############################\n",
            "ef_bce vs jf_bce \n",
            " [[519.   7.]\n",
            " [  3.  36.]]\n",
            "chi-squared: 3.0\n",
            "p-value: 0.3437499999999999 \n",
            "\n",
            "##############################\n",
            "ef_bce vs ef_dice \n",
            " [[517.   3.]\n",
            " [  5.  40.]]\n",
            "chi-squared: 3.0\n",
            "p-value: 0.7265625000000002 \n",
            "\n",
            "##############################\n",
            "ef_bce vs jf_dice \n",
            " [[518.   6.]\n",
            " [  4.  37.]]\n",
            "chi-squared: 4.0\n",
            "p-value: 0.7539062500000002 \n",
            "\n",
            "##############################\n",
            "ef_bce vs ef_bce_dice \n",
            " [[521.   3.]\n",
            " [  1.  40.]]\n",
            "chi-squared: 1.0\n",
            "p-value: 0.625 \n",
            "\n",
            "##############################\n",
            "ef_bce vs jf_bce_dice \n",
            " [[518.  10.]\n",
            " [  4.  33.]]\n",
            "chi-squared: 4.0\n",
            "p-value: 0.17956542968750003 \n",
            "\n",
            "##############################\n",
            "jf_bce vs ef_dice \n",
            " [[518.   2.]\n",
            " [  8.  37.]]\n",
            "chi-squared: 2.0\n",
            "p-value: 0.10937500000000003 \n",
            "\n",
            "##############################\n",
            "jf_bce vs jf_dice \n",
            " [[524.   0.]\n",
            " [  2.  39.]]\n",
            "chi-squared: 0.0\n",
            "p-value: 0.5 \n",
            "\n",
            "##############################\n",
            "jf_bce vs ef_bce_dice \n",
            " [[522.   2.]\n",
            " [  4.  37.]]\n",
            "chi-squared: 2.0\n",
            "p-value: 0.6875000000000002 \n",
            "\n",
            "##############################\n",
            "jf_bce vs jf_bce_dice \n",
            " [[525.   3.]\n",
            " [  1.  36.]]\n",
            "chi-squared: 1.0\n",
            "p-value: 0.625 \n",
            "\n",
            "##############################\n",
            "ef_dice vs jf_dice \n",
            " [[517.   7.]\n",
            " [  3.  38.]]\n",
            "chi-squared: 3.0\n",
            "p-value: 0.3437499999999999 \n",
            "\n",
            "##############################\n",
            "ef_dice vs ef_bce_dice \n",
            " [[520.   4.]\n",
            " [  0.  41.]]\n",
            "chi-squared: 0.0\n",
            "p-value: 0.125 \n",
            "\n",
            "##############################\n",
            "ef_dice vs jf_bce_dice \n",
            " [[517.  11.]\n",
            " [  3.  34.]]\n",
            "chi-squared: 3.0\n",
            "p-value: 0.05737304687500002 \n",
            "\n",
            "##############################\n",
            "jf_dice vs ef_bce_dice \n",
            " [[521.   3.]\n",
            " [  3.  38.]]\n",
            "chi-squared: 3.0\n",
            "p-value: 1.0 \n",
            "\n",
            "##############################\n",
            "jf_dice vs jf_bce_dice \n",
            " [[524.   4.]\n",
            " [  0.  37.]]\n",
            "chi-squared: 0.0\n",
            "p-value: 0.125 \n",
            "\n",
            "##############################\n",
            "ef_bce_dice vs jf_bce_dice \n",
            " [[521.   7.]\n",
            " [  3.  34.]]\n",
            "chi-squared: 3.0\n",
            "p-value: 0.3437499999999999 \n",
            "\n",
            "##############################\n"
          ],
          "name": "stdout"
        }
      ]
    },
    {
      "cell_type": "markdown",
      "metadata": {
        "id": "FHrtrdm-jqYi"
      },
      "source": [
        "## McNemar plots--all from tb dict."
      ]
    },
    {
      "cell_type": "code",
      "metadata": {
        "id": "vfw_ZQe4mVBZ"
      },
      "source": [
        "from mlxtend.plotting import checkerboard_plot"
      ],
      "execution_count": null,
      "outputs": []
    },
    {
      "cell_type": "code",
      "metadata": {
        "id": "LrgAm7nGjl-M",
        "outputId": "a1a017d8-9e30-405b-a825-1d970b805b23",
        "colab": {
          "base_uri": "https://localhost:8080/",
          "height": 1000
        }
      },
      "source": [
        "for key, value in tb.items():\n",
        "    # print(f'{key} \\n {value}')\n",
        "    checkerboard_plot(value,\n",
        "                        figsize=(6, 6),\n",
        "                        fmt='%d',\n",
        "                        col_labels=[f'{key} correct', f'{key} wrong'],\n",
        "                        row_labels=[f'{key} correct', f'{key} wrong'],\n",
        "                        cell_colors=['skyblue', 'whitesmoke'],\n",
        "                        font_colors=['black', 'black'],)\n",
        "\n",
        "    \n",
        "plt.show()\n"
      ],
      "execution_count": null,
      "outputs": [
        {
          "output_type": "stream",
          "text": [
            "/usr/local/lib/python3.6/dist-packages/mlxtend/plotting/checkerboard.py:63: RuntimeWarning: More than 20 figures have been opened. Figures created through the pyplot interface (`matplotlib.pyplot.figure`) are retained until explicitly closed and may consume too much memory. (To control this warning, see the rcParam `figure.max_open_warning`).\n",
            "  fig, ax = subplots(figsize=figsize)\n"
          ],
          "name": "stderr"
        },
        {
          "output_type": "display_data",
          "data": {
            "image/png": "[encoded data removed]",
            "text/plain": [
              "<Figure size 432x432 with 1 Axes>"
            ]
          },
          "metadata": {
            "tags": [],
            "needs_background": "light"
          }
        },
        {
          "output_type": "display_data",
          "data": {
            "image/png": "[encoded data removed]",
            "text/plain": [
              "<Figure size 432x432 with 1 Axes>"
            ]
          },
          "metadata": {
            "tags": [],
            "needs_background": "light"
          }
        },
        {
          "output_type": "display_data",
          "data": {
            "image/png": "[encoded data removed]",
            "text/plain": [
              "<Figure size 432x432 with 1 Axes>"
            ]
          },
          "metadata": {
            "tags": [],
            "needs_background": "light"
          }
        },
        {
          "output_type": "display_data",
          "data": {
            "image/png": "[encoded data removed]",
            "text/plain": [
              "<Figure size 432x432 with 1 Axes>"
            ]
          },
          "metadata": {
            "tags": [],
            "needs_background": "light"
          }
        },
        {
          "output_type": "display_data",
          "data": {
            "image/png": "[encoded data removed]",
            "text/plain": [
              "<Figure size 432x432 with 1 Axes>"
            ]
          },
          "metadata": {
            "tags": [],
            "needs_background": "light"
          }
        },
        {
          "output_type": "display_data",
          "data": {
            "image/png": "[encoded data removed]",
            "text/plain": [
              "<Figure size 432x432 with 1 Axes>"
            ]
          },
          "metadata": {
            "tags": [],
            "needs_background": "light"
          }
        },
        {
          "output_type": "display_data",
          "data": {
            "image/png": "[encoded data removed]",
            "text/plain": [
              "<Figure size 432x432 with 1 Axes>"
            ]
          },
          "metadata": {
            "tags": [],
            "needs_background": "light"
          }
        },
        {
          "output_type": "display_data",
          "data": {
            "image/png": "[encoded data removed]",
            "text/plain": [
              "<Figure size 432x432 with 1 Axes>"
            ]
          },
          "metadata": {
            "tags": [],
            "needs_background": "light"
          }
        },
        {
          "output_type": "display_data",
          "data": {
            "image/png": "[encoded data removed]",
            "text/plain": [
              "<Figure size 432x432 with 1 Axes>"
            ]
          },
          "metadata": {
            "tags": [],
            "needs_background": "light"
          }
        },
        {
          "output_type": "display_data",
          "data": {
            "image/png": "[encoded data removed]",
            "text/plain": [
              "<Figure size 432x432 with 1 Axes>"
            ]
          },
          "metadata": {
            "tags": [],
            "needs_background": "light"
          }
        },
        {
          "output_type": "display_data",
          "data": {
            "image/png": "[encoded data removed]",
            "text/plain": [
              "<Figure size 432x432 with 1 Axes>"
            ]
          },
          "metadata": {
            "tags": [],
            "needs_background": "light"
          }
        },
        {
          "output_type": "display_data",
          "data": {
            "image/png": "[encoded data removed]",
            "text/plain": [
              "<Figure size 432x432 with 1 Axes>"
            ]
          },
          "metadata": {
            "tags": [],
            "needs_background": "light"
          }
        },
        {
          "output_type": "display_data",
          "data": {
            "image/png": "[encoded data removed]",
            "text/plain": [
              "<Figure size 432x432 with 1 Axes>"
            ]
          },
          "metadata": {
            "tags": [],
            "needs_background": "light"
          }
        },
        {
          "output_type": "display_data",
          "data": {
            "image/png": "[encoded data removed]",
            "text/plain": [
              "<Figure size 432x432 with 1 Axes>"
            ]
          },
          "metadata": {
            "tags": [],
            "needs_background": "light"
          }
        },
        {
          "output_type": "display_data",
          "data": {
            "image/png": "[encoded data removed]",
            "text/plain": [
              "<Figure size 432x432 with 1 Axes>"
            ]
          },
          "metadata": {
            "tags": [],
            "needs_background": "light"
          }
        },
        {
          "output_type": "display_data",
          "data": {
            "image/png": "[encoded data removed]",
            "text/plain": [
              "<Figure size 432x432 with 1 Axes>"
            ]
          },
          "metadata": {
            "tags": [],
            "needs_background": "light"
          }
        },
        {
          "output_type": "display_data",
          "data": {
            "image/png": "[encoded data removed]",
            "text/plain": [
              "<Figure size 432x432 with 1 Axes>"
            ]
          },
          "metadata": {
            "tags": [],
            "needs_background": "light"
          }
        },
        {
          "output_type": "display_data",
          "data": {
            "image/png": "[encoded data removed]",
            "text/plain": [
              "<Figure size 432x432 with 1 Axes>"
            ]
          },
          "metadata": {
            "tags": [],
            "needs_background": "light"
          }
        },
        {
          "output_type": "display_data",
          "data": {
            "image/png": "[encoded data removed]",
            "text/plain": [
              "<Figure size 432x432 with 1 Axes>"
            ]
          },
          "metadata": {
            "tags": [],
            "needs_background": "light"
          }
        },
        {
          "output_type": "display_data",
          "data": {
            "image/png": "[encoded data removed]",
            "text/plain": [
              "<Figure size 432x432 with 1 Axes>"
            ]
          },
          "metadata": {
            "tags": [],
            "needs_background": "light"
          }
        },
        {
          "output_type": "display_data",
          "data": {
            "image/png": "[encoded data removed]",
            "text/plain": [
              "<Figure size 432x432 with 1 Axes>"
            ]
          },
          "metadata": {
            "tags": [],
            "needs_background": "light"
          }
        },
        {
          "output_type": "display_data",
          "data": {
            "image/png": "[encoded data removed]",
            "text/plain": [
              "<Figure size 432x432 with 1 Axes>"
            ]
          },
          "metadata": {
            "tags": [],
            "needs_background": "light"
          }
        },
        {
          "output_type": "display_data",
          "data": {
            "image/png": "[encoded data removed]",
            "text/plain": [
              "<Figure size 432x432 with 1 Axes>"
            ]
          },
          "metadata": {
            "tags": [],
            "needs_background": "light"
          }
        },
        {
          "output_type": "display_data",
          "data": {
            "image/png": "[encoded data removed]",
            "text/plain": [
              "<Figure size 432x432 with 1 Axes>"
            ]
          },
          "metadata": {
            "tags": [],
            "needs_background": "light"
          }
        },
        {
          "output_type": "display_data",
          "data": {
            "image/png": "[encoded data removed]",
            "text/plain": [
              "<Figure size 432x432 with 1 Axes>"
            ]
          },
          "metadata": {
            "tags": [],
            "needs_background": "light"
          }
        },
        {
          "output_type": "display_data",
          "data": {
            "image/png": "[encoded data removed]",
            "text/plain": [
              "<Figure size 432x432 with 1 Axes>"
            ]
          },
          "metadata": {
            "tags": [],
            "needs_background": "light"
          }
        },
        {
          "output_type": "display_data",
          "data": {
            "image/png": "[encoded data removed]",
            "text/plain": [
              "<Figure size 432x432 with 1 Axes>"
            ]
          },
          "metadata": {
            "tags": [],
            "needs_background": "light"
          }
        },
        {
          "output_type": "display_data",
          "data": {
            "image/png": "[encoded data removed]",
            "text/plain": [
              "<Figure size 432x432 with 1 Axes>"
            ]
          },
          "metadata": {
            "tags": [],
            "needs_background": "light"
          }
        },
        {
          "output_type": "display_data",
          "data": {
            "image/png": "[encoded data removed]",
            "text/plain": [
              "<Figure size 432x432 with 1 Axes>"
            ]
          },
          "metadata": {
            "tags": [],
            "needs_background": "light"
          }
        },
        {
          "output_type": "display_data",
          "data": {
            "image/png": "[encoded data removed]",
            "text/plain": [
              "<Figure size 432x432 with 1 Axes>"
            ]
          },
          "metadata": {
            "tags": [],
            "needs_background": "light"
          }
        },
        {
          "output_type": "display_data",
          "data": {
            "image/png": "[encoded data removed]",
            "text/plain": [
              "<Figure size 432x432 with 1 Axes>"
            ]
          },
          "metadata": {
            "tags": [],
            "needs_background": "light"
          }
        },
        {
          "output_type": "display_data",
          "data": {
            "image/png": "[encoded data removed]",
            "text/plain": [
              "<Figure size 432x432 with 1 Axes>"
            ]
          },
          "metadata": {
            "tags": [],
            "needs_background": "light"
          }
        },
        {
          "output_type": "display_data",
          "data": {
            "image/png": "[encoded data removed]",
            "text/plain": [
              "<Figure size 432x432 with 1 Axes>"
            ]
          },
          "metadata": {
            "tags": [],
            "needs_background": "light"
          }
        },
        {
          "output_type": "display_data",
          "data": {
            "image/png": "[encoded data removed]",
            "text/plain": [
              "<Figure size 432x432 with 1 Axes>"
            ]
          },
          "metadata": {
            "tags": [],
            "needs_background": "light"
          }
        },
        {
          "output_type": "display_data",
          "data": {
            "image/png": "[encoded data removed]",
            "text/plain": [
              "<Figure size 432x432 with 1 Axes>"
            ]
          },
          "metadata": {
            "tags": [],
            "needs_background": "light"
          }
        },
        {
          "output_type": "display_data",
          "data": {
            "image/png": "[encoded data removed]",
            "text/plain": [
              "<Figure size 432x432 with 1 Axes>"
            ]
          },
          "metadata": {
            "tags": [],
            "needs_background": "light"
          }
        },
        {
          "output_type": "display_data",
          "data": {
            "image/png": "[encoded data removed]",
            "text/plain": [
              "<Figure size 432x432 with 1 Axes>"
            ]
          },
          "metadata": {
            "tags": [],
            "needs_background": "light"
          }
        },
        {
          "output_type": "display_data",
          "data": {
            "image/png": "[encoded data removed]",
            "text/plain": [
              "<Figure size 432x432 with 1 Axes>"
            ]
          },
          "metadata": {
            "tags": [],
            "needs_background": "light"
          }
        },
        {
          "output_type": "display_data",
          "data": {
            "image/png": "[encoded data removed]",
            "text/plain": [
              "<Figure size 432x432 with 1 Axes>"
            ]
          },
          "metadata": {
            "tags": [],
            "needs_background": "light"
          }
        },
        {
          "output_type": "display_data",
          "data": {
            "image/png": "[encoded data removed]",
            "text/plain": [
              "<Figure size 432x432 with 1 Axes>"
            ]
          },
          "metadata": {
            "tags": [],
            "needs_background": "light"
          }
        },
        {
          "output_type": "display_data",
          "data": {
            "image/png": "[encoded data removed]",
            "text/plain": [
              "<Figure size 432x432 with 1 Axes>"
            ]
          },
          "metadata": {
            "tags": [],
            "needs_background": "light"
          }
        },
        {
          "output_type": "display_data",
          "data": {
            "image/png": "[encoded data removed]",
            "text/plain": [
              "<Figure size 432x432 with 1 Axes>"
            ]
          },
          "metadata": {
            "tags": [],
            "needs_background": "light"
          }
        },
        {
          "output_type": "display_data",
          "data": {
            "image/png": "[encoded data removed]",
            "text/plain": [
              "<Figure size 432x432 with 1 Axes>"
            ]
          },
          "metadata": {
            "tags": [],
            "needs_background": "light"
          }
        },
        {
          "output_type": "display_data",
          "data": {
            "image/png": "[encoded data removed]",
            "text/plain": [
              "<Figure size 432x432 with 1 Axes>"
            ]
          },
          "metadata": {
            "tags": [],
            "needs_background": "light"
          }
        },
        {
          "output_type": "display_data",
          "data": {
            "image/png": "[encoded data removed]",
            "text/plain": [
              "<Figure size 432x432 with 1 Axes>"
            ]
          },
          "metadata": {
            "tags": [],
            "needs_background": "light"
          }
        },
        {
          "output_type": "display_data",
          "data": {
            "image/png": "[encoded data removed]",
            "text/plain": [
              "<Figure size 432x432 with 1 Axes>"
            ]
          },
          "metadata": {
            "tags": [],
            "needs_background": "light"
          }
        },
        {
          "output_type": "display_data",
          "data": {
            "image/png": "[encoded data removed]",
            "text/plain": [
              "<Figure size 432x432 with 1 Axes>"
            ]
          },
          "metadata": {
            "tags": [],
            "needs_background": "light"
          }
        },
        {
          "output_type": "display_data",
          "data": {
            "image/png": "[encoded data removed]",
            "text/plain": [
              "<Figure size 432x432 with 1 Axes>"
            ]
          },
          "metadata": {
            "tags": [],
            "needs_background": "light"
          }
        },
        {
          "output_type": "display_data",
          "data": {
            "image/png": "[encoded data removed]",
            "text/plain": [
              "<Figure size 432x432 with 1 Axes>"
            ]
          },
          "metadata": {
            "tags": [],
            "needs_background": "light"
          }
        },
        {
          "output_type": "display_data",
          "data": {
            "image/png": "[encoded data removed]",
            "text/plain": [
              "<Figure size 432x432 with 1 Axes>"
            ]
          },
          "metadata": {
            "tags": [],
            "needs_background": "light"
          }
        },
        {
          "output_type": "display_data",
          "data": {
            "image/png": "[encoded data removed]",
            "text/plain": [
              "<Figure size 432x432 with 1 Axes>"
            ]
          },
          "metadata": {
            "tags": [],
            "needs_background": "light"
          }
        },
        {
          "output_type": "display_data",
          "data": {
            "image/png": "[encoded data removed]",
            "text/plain": [
              "<Figure size 432x432 with 1 Axes>"
            ]
          },
          "metadata": {
            "tags": [],
            "needs_background": "light"
          }
        },
        {
          "output_type": "display_data",
          "data": {
            "image/png": "[encoded data removed]",
            "text/plain": [
              "<Figure size 432x432 with 1 Axes>"
            ]
          },
          "metadata": {
            "tags": [],
            "needs_background": "light"
          }
        },
        {
          "output_type": "display_data",
          "data": {
            "image/png": "[encoded data removed]",
            "text/plain": [
              "<Figure size 432x432 with 1 Axes>"
            ]
          },
          "metadata": {
            "tags": [],
            "needs_background": "light"
          }
        },
        {
          "output_type": "display_data",
          "data": {
            "image/png": "[encoded data removed]",
            "text/plain": [
              "<Figure size 432x432 with 1 Axes>"
            ]
          },
          "metadata": {
            "tags": [],
            "needs_background": "light"
          }
        },
        {
          "output_type": "display_data",
          "data": {
            "image/png": "[encoded data removed]",
            "text/plain": [
              "<Figure size 432x432 with 1 Axes>"
            ]
          },
          "metadata": {
            "tags": [],
            "needs_background": "light"
          }
        },
        {
          "output_type": "display_data",
          "data": {
            "image/png": "[encoded data removed]",
            "text/plain": [
              "<Figure size 432x432 with 1 Axes>"
            ]
          },
          "metadata": {
            "tags": [],
            "needs_background": "light"
          }
        },
        {
          "output_type": "display_data",
          "data": {
            "image/png": "[encoded data removed]",
            "text/plain": [
              "<Figure size 432x432 with 1 Axes>"
            ]
          },
          "metadata": {
            "tags": [],
            "needs_background": "light"
          }
        },
        {
          "output_type": "display_data",
          "data": {
            "image/png": "[encoded data removed]",
            "text/plain": [
              "<Figure size 432x432 with 1 Axes>"
            ]
          },
          "metadata": {
            "tags": [],
            "needs_background": "light"
          }
        },
        {
          "output_type": "display_data",
          "data": {
            "image/png": "[encoded data removed]",
            "text/plain": [
              "<Figure size 432x432 with 1 Axes>"
            ]
          },
          "metadata": {
            "tags": [],
            "needs_background": "light"
          }
        },
        {
          "output_type": "display_data",
          "data": {
            "image/png": "[encoded data removed]",
            "text/plain": [
              "<Figure size 432x432 with 1 Axes>"
            ]
          },
          "metadata": {
            "tags": [],
            "needs_background": "light"
          }
        },
        {
          "output_type": "display_data",
          "data": {
            "image/png": "[encoded data removed]",
            "text/plain": [
              "<Figure size 432x432 with 1 Axes>"
            ]
          },
          "metadata": {
            "tags": [],
            "needs_background": "light"
          }
        },
        {
          "output_type": "display_data",
          "data": {
            "image/png": "[encoded data removed]",
            "text/plain": [
              "<Figure size 432x432 with 1 Axes>"
            ]
          },
          "metadata": {
            "tags": [],
            "needs_background": "light"
          }
        },
        {
          "output_type": "display_data",
          "data": {
            "image/png": "[encoded data removed]",
            "text/plain": [
              "<Figure size 432x432 with 1 Axes>"
            ]
          },
          "metadata": {
            "tags": [],
            "needs_background": "light"
          }
        },
        {
          "output_type": "display_data",
          "data": {
            "image/png": "[encoded data removed]",
            "text/plain": [
              "<Figure size 432x432 with 1 Axes>"
            ]
          },
          "metadata": {
            "tags": [],
            "needs_background": "light"
          }
        },
        {
          "output_type": "display_data",
          "data": {
            "image/png": "[encoded data removed]",
            "text/plain": [
              "<Figure size 432x432 with 1 Axes>"
            ]
          },
          "metadata": {
            "tags": [],
            "needs_background": "light"
          }
        }
      ]
    },
    {
      "cell_type": "markdown",
      "metadata": {
        "id": "GByknIf5YPHo"
      },
      "source": [
        "## Bimonial test   https://docs.scipy.org/doc/scipy/reference/generated/scipy.stats.binom_test.html"
      ]
    },
    {
      "cell_type": "code",
      "metadata": {
        "id": "kWScBACbYRx6",
        "outputId": "3e786a01-f221-4c6d-fda2-e31e10ea5704",
        "colab": {
          "base_uri": "https://localhost:8080/",
          "height": 34
        }
      },
      "source": [
        "from scipy import stats\n",
        "\n",
        "binom_test = stats.binom_test(531, n=564, p=0.5, alternative='greater')\n",
        "print(\"binom_test:\", binom_test)"
      ],
      "execution_count": null,
      "outputs": [
        {
          "output_type": "stream",
          "text": [
            "binom_test: 4.849997099636956e-117\n"
          ],
          "name": "stdout"
        }
      ]
    },
    {
      "cell_type": "markdown",
      "metadata": {
        "id": "IjRu0ZqTghVD"
      },
      "source": [
        "# Working below"
      ]
    },
    {
      "cell_type": "code",
      "metadata": {
        "id": "evfrhYOjpBTo",
        "outputId": "1dbdfe51-c0fd-4db1-aee1-d088feabdf39",
        "colab": {
          "base_uri": "https://localhost:8080/",
          "height": 232
        }
      },
      "source": [
        "from mlxtend.evaluate import cochrans_q\n",
        "\n",
        "q, p_value = cochrans_q(actual_all_planet_train.ravel(), \n",
        "                        ea_bce_modeled_all_train.ravel(),\n",
        "                        ja_bce_modeled_all_train.ravel(),\n",
        "                        )\n",
        "\n",
        "print('Train: Q: %.3f' % q)\n",
        "print('Train: p-value: %.3f' % p_value)\n",
        "\n",
        "##############\n",
        "print('##############')\n",
        "# print(X_validation.ravel())\n",
        "# print(y_validation.ravel())\n",
        "# print(z_validation.ravel())\n",
        "\n",
        "val_q, val_p_value = cochrans_q(actual_all_planet_validation.ravel(), \n",
        "                        ea_bce_modeled_all_validation.ravel(),\n",
        "                        ja_bce_modeled_all_validation.ravel())\n",
        "\n",
        "print('VALIDATION: Q: %.3f' % val_q)\n",
        "print('VALIDATION: p-value: %.3f' % val_p_value)"
      ],
      "execution_count": null,
      "outputs": [
        {
          "output_type": "error",
          "ename": "NameError",
          "evalue": "ignored",
          "traceback": [
            "\u001b[0;31m---------------------------------------------------------------------------\u001b[0m",
            "\u001b[0;31mNameError\u001b[0m                                 Traceback (most recent call last)",
            "\u001b[0;32m<ipython-input-31-363de9a5c070>\u001b[0m in \u001b[0;36m<module>\u001b[0;34m()\u001b[0m\n\u001b[1;32m      1\u001b[0m \u001b[0;32mfrom\u001b[0m \u001b[0mmlxtend\u001b[0m\u001b[0;34m.\u001b[0m\u001b[0mevaluate\u001b[0m \u001b[0;32mimport\u001b[0m \u001b[0mcochrans_q\u001b[0m\u001b[0;34m\u001b[0m\u001b[0;34m\u001b[0m\u001b[0m\n\u001b[1;32m      2\u001b[0m \u001b[0;34m\u001b[0m\u001b[0m\n\u001b[0;32m----> 3\u001b[0;31m q, p_value = cochrans_q(actual_all_planet_train.ravel(), \n\u001b[0m\u001b[1;32m      4\u001b[0m                         \u001b[0mea_bce_modeled_all_train\u001b[0m\u001b[0;34m.\u001b[0m\u001b[0mravel\u001b[0m\u001b[0;34m(\u001b[0m\u001b[0;34m)\u001b[0m\u001b[0;34m,\u001b[0m\u001b[0;34m\u001b[0m\u001b[0;34m\u001b[0m\u001b[0m\n\u001b[1;32m      5\u001b[0m                         \u001b[0mja_bce_modeled_all_train\u001b[0m\u001b[0;34m.\u001b[0m\u001b[0mravel\u001b[0m\u001b[0;34m(\u001b[0m\u001b[0;34m)\u001b[0m\u001b[0;34m,\u001b[0m\u001b[0;34m\u001b[0m\u001b[0;34m\u001b[0m\u001b[0m\n",
            "\u001b[0;31mNameError\u001b[0m: name 'actual_all_planet_train' is not defined"
          ]
        }
      ]
    },
    {
      "cell_type": "code",
      "metadata": {
        "id": "8ugstOdMNjJC"
      },
      "source": [
        ""
      ],
      "execution_count": null,
      "outputs": []
    },
    {
      "cell_type": "code",
      "metadata": {
        "id": "KLUF18fe0R5h",
        "outputId": "de5e4c00-5226-4901-b1bf-b89896dd0746",
        "colab": {
          "base_uri": "https://localhost:8080/",
          "height": 85
        }
      },
      "source": [
        "from mlxtend.evaluate import mcnemar_tables\n",
        "from mlxtend.plotting import checkerboard_plot\n",
        "import matplotlib.pyplot as plt\n",
        "from mlxtend.plotting import checkerboard_plot\n",
        "\n",
        "tb = mcnemar_tables(actual_all_planet_validation.ravel(), \n",
        "                    ea_bce_modeled_all_validation.ravel(), \n",
        "                    ja_bce_modeled_all_validation.ravel()) #### add the other 9 models here and make a multi-table output--http://rasbt.github.io/mlxtend/user_guide/evaluate/mcnemar_tables/\n",
        "\n",
        "for key, value in tb.items():\n",
        "    print(key, '\\n', value, '\\n')\n"
      ],
      "execution_count": null,
      "outputs": [
        {
          "output_type": "stream",
          "text": [
            "model_0 vs model_1 \n",
            " [[51.  0.]\n",
            " [ 0.  5.]] \n",
            "\n"
          ],
          "name": "stdout"
        }
      ]
    },
    {
      "cell_type": "code",
      "metadata": {
        "id": "uvJPXLqH_fd3",
        "outputId": "2dc1ed68-bd09-431a-921a-e2a02135fbd7",
        "colab": {
          "base_uri": "https://localhost:8080/",
          "height": 473
        }
      },
      "source": [
        "from mlxtend.evaluate import mcnemar_table\n",
        "from mlxtend.plotting import checkerboard_plot\n",
        "\n",
        "tb = mcnemar_table(y_target=actual_all_planet_validation, \n",
        "                   y_model1=ea_bce_modeled_all_validation, \n",
        "                   y_model2=ja_bce_modeled_all_validation)\n",
        "\n",
        "\n",
        "print(tb)\n",
        "\n",
        "brd = checkerboard_plot(tb,\n",
        "                        figsize=(6, 6),\n",
        "                        fmt='%d',\n",
        "                        col_labels=['ja_bce_correct', 'ja_bce_wrong'],\n",
        "                        row_labels=['ea_bce_correct', 'ea_bce_wrong'],\n",
        "                        cell_colors=['skyblue', 'whitesmoke'],\n",
        "                        font_colors=['black', 'black'],)\n",
        "plt.show()\n",
        "\n",
        "\n"
      ],
      "execution_count": null,
      "outputs": [
        {
          "output_type": "stream",
          "text": [
            "[[51  0]\n",
            " [ 0  5]]\n"
          ],
          "name": "stdout"
        },
        {
          "output_type": "display_data",
          "data": {
            "image/png": "[encoded data removed]",
            "text/plain": [
              "<Figure size 432x432 with 1 Axes>"
            ]
          },
          "metadata": {
            "tags": [],
            "needs_background": "light"
          }
        }
      ]
    },
    {
      "cell_type": "code",
      "metadata": {
        "id": "EawUi3T3Cdmf",
        "outputId": "e41b4149-fb63-4b37-d269-b8c2e4dae4f9",
        "colab": {
          "base_uri": "https://localhost:8080/",
          "height": 51
        }
      },
      "source": [
        "from mlxtend.evaluate import mcnemar\n",
        "\n",
        "chi2, p = mcnemar(ary=tb, corrected=True,exact=True)\n",
        "print('chi-squared:', chi2)\n",
        "print('p-value:', p)"
      ],
      "execution_count": null,
      "outputs": [
        {
          "output_type": "stream",
          "text": [
            "chi-squared: 0\n",
            "p-value: 1.0\n"
          ],
          "name": "stdout"
        }
      ]
    }
  ]
}